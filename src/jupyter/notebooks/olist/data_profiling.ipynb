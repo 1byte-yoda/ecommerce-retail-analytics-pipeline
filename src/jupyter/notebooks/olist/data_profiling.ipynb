{
 "cells": [
  {
   "cell_type": "markdown",
   "id": "58e99309-6782-415a-bcc0-eae981920237",
   "metadata": {},
   "source": [
    "## Import Packages"
   ]
  },
  {
   "cell_type": "code",
   "execution_count": 46,
   "id": "70c4adbf-c20e-4d86-949c-cc3a4d9e6a7d",
   "metadata": {},
   "outputs": [],
   "source": [
    "from pathlib import Path\n",
    "import os\n",
    "\n",
    "from pyspark.sql import SparkSession, DataFrame\n",
    "from pyspark.sql.functions import count, col, when"
   ]
  },
  {
   "cell_type": "code",
   "execution_count": 3,
   "id": "72acb5a8-166a-4f4c-9800-ad55612b3568",
   "metadata": {},
   "outputs": [
    {
     "data": {
      "text/plain": [
       "'../../jars/antlr4-runtime-4.9.3.jar,../../jars/aws-java-sdk-bundle-1.12.392.jar,../../jars/delta-core_2.12-2.4.0.jar,../../jars/delta-storage-2.4.0.jar,../../jars/hadoop-aws-3.3.1.jar,../../jars/wildfly-openssl-1.0.7.Final.jar'"
      ]
     },
     "execution_count": 3,
     "metadata": {},
     "output_type": "execute_result"
    }
   ],
   "source": [
    "JAR_PACKAGES = \",\".join([str(x) for x in Path(\"../../jars\").glob(\"*.jar\")])\n",
    "JAR_PACKAGES"
   ]
  },
  {
   "cell_type": "code",
   "execution_count": 4,
   "id": "817eeb7e-60b1-4216-abf2-345a82ec6aa8",
   "metadata": {},
   "outputs": [],
   "source": [
    "spark = SparkSession.builder.appName(\"olist_data_profiling\").master(\"spark://spark:7077\") \\\n",
    "            .config(\"spark.jars\", JAR_PACKAGES) \\\n",
    "            .config(\"spark.hadoop.fs.s3a.access.key\",\"datalake\") \\\n",
    "            .config(\"spark.hadoop.fs.s3a.secret.key\",\"datalake\") \\\n",
    "            .config(\"spark.hadoop.fs.s3a.endpoint\",\"http://minio:9000\") \\\n",
    "            .config(\"spark.hadoop.fs.s3a.path.style.access\", \"true\") \\\n",
    "            .config(\"spark.hadoop.fs.s3a.impl\", \"org.apache.hadoop.fs.s3a.S3AFileSystem\") \\\n",
    "            .getOrCreate()"
   ]
  },
  {
   "cell_type": "code",
   "execution_count": null,
   "id": "309ca9e8-62f8-4a09-bda0-3f01c92422c0",
   "metadata": {},
   "outputs": [],
   "source": [
    "bronze_container_path = \"s3a://bronze\""
   ]
  },
  {
   "cell_type": "markdown",
   "id": "cea632dc-aaef-4aad-b6d6-7c3e87de4262",
   "metadata": {},
   "source": [
    "## Product Category"
   ]
  },
  {
   "cell_type": "code",
   "execution_count": 7,
   "id": "229e7bf3-94ae-4db7-8406-ebbda03bfff9",
   "metadata": {},
   "outputs": [],
   "source": [
    "product_category_df = spark.read.format(\"csv\") \\\n",
    "        .option(\"header\", True) \\\n",
    "        .option(\"inferSchema\", True) \\\n",
    "        .load(f\"{bronze_container_path}/olist/product_category_name_translation.csv\")"
   ]
  },
  {
   "cell_type": "code",
   "execution_count": 14,
   "id": "2153f38e-7d36-4c14-b590-9382462d74fa",
   "metadata": {},
   "outputs": [
    {
     "name": "stdout",
     "output_type": "stream",
     "text": [
      "root\n",
      " |-- product_category_name: string (nullable = true)\n",
      " |-- product_category_name_english: string (nullable = true)\n",
      "\n"
     ]
    }
   ],
   "source": [
    "product_category_df.printSchema()"
   ]
  },
  {
   "cell_type": "code",
   "execution_count": 10,
   "id": "5b0cf278-c954-4908-b828-f84b060ba9b7",
   "metadata": {},
   "outputs": [
    {
     "name": "stdout",
     "output_type": "stream",
     "text": [
      "+---------------------------+-----------------------------+\n",
      "|product_category_name      |product_category_name_english|\n",
      "+---------------------------+-----------------------------+\n",
      "|beleza_saude               |health_beauty                |\n",
      "|informatica_acessorios     |computers_accessories        |\n",
      "|automotivo                 |auto                         |\n",
      "|cama_mesa_banho            |bed_bath_table               |\n",
      "|moveis_decoracao           |furniture_decor              |\n",
      "|esporte_lazer              |sports_leisure               |\n",
      "|perfumaria                 |perfumery                    |\n",
      "|utilidades_domesticas      |housewares                   |\n",
      "|telefonia                  |telephony                    |\n",
      "|relogios_presentes         |watches_gifts                |\n",
      "|alimentos_bebidas          |food_drink                   |\n",
      "|bebes                      |baby                         |\n",
      "|papelaria                  |stationery                   |\n",
      "|tablets_impressao_imagem   |tablets_printing_image       |\n",
      "|brinquedos                 |toys                         |\n",
      "|telefonia_fixa             |fixed_telephony              |\n",
      "|ferramentas_jardim         |garden_tools                 |\n",
      "|fashion_bolsas_e_acessorios|fashion_bags_accessories     |\n",
      "|eletroportateis            |small_appliances             |\n",
      "|consoles_games             |consoles_games               |\n",
      "+---------------------------+-----------------------------+\n",
      "only showing top 20 rows\n",
      "\n"
     ]
    }
   ],
   "source": [
    "product_category_df.show(truncate=False)"
   ]
  },
  {
   "cell_type": "code",
   "execution_count": 11,
   "id": "ac1e04ec-a8c5-45ff-8e6c-0f79fe16327e",
   "metadata": {},
   "outputs": [
    {
     "name": "stdout",
     "output_type": "stream",
     "text": [
      "+-------+---------------------+-----------------------------+\n",
      "|summary|product_category_name|product_category_name_english|\n",
      "+-------+---------------------+-----------------------------+\n",
      "|  count|                   71|                           71|\n",
      "|   mean|                 null|                         null|\n",
      "| stddev|                 null|                         null|\n",
      "|    min| agro_industria_e_...|         agro_industry_and...|\n",
      "|    max| utilidades_domest...|                watches_gifts|\n",
      "+-------+---------------------+-----------------------------+\n",
      "\n"
     ]
    }
   ],
   "source": [
    "product_category_df.describe().show()"
   ]
  },
  {
   "cell_type": "code",
   "execution_count": 12,
   "id": "21d75181-31b3-4508-937d-903c4cd13257",
   "metadata": {},
   "outputs": [
    {
     "data": {
      "text/plain": [
       "0"
      ]
     },
     "execution_count": 12,
     "metadata": {},
     "output_type": "execute_result"
    }
   ],
   "source": [
    "product_category_df.where(\"product_category_name_english IS NULL\").count()"
   ]
  },
  {
   "cell_type": "code",
   "execution_count": 13,
   "id": "7baf4f50-5b65-4609-877c-69a2ad14f09e",
   "metadata": {},
   "outputs": [
    {
     "data": {
      "text/plain": [
       "0"
      ]
     },
     "execution_count": 13,
     "metadata": {},
     "output_type": "execute_result"
    }
   ],
   "source": [
    "product_category_df.where(\"product_category_name IS NULL\").count()"
   ]
  },
  {
   "cell_type": "markdown",
   "id": "9c3cdc6d-d4aa-4f27-8a83-cbe17dd7aa83",
   "metadata": {},
   "source": [
    "## Closed Deals"
   ]
  },
  {
   "cell_type": "code",
   "execution_count": 15,
   "id": "a262c12d-eb99-4e71-ba78-fdda5239811f",
   "metadata": {},
   "outputs": [],
   "source": [
    "closed_deals_df = spark.read.format(\"csv\") \\\n",
    "        .option(\"header\", True) \\\n",
    "        .option(\"inferSchema\", True) \\\n",
    "        .load(f\"{bronze_container_path}/olist/olist_closed_deals_dataset.csv\")"
   ]
  },
  {
   "cell_type": "code",
   "execution_count": 16,
   "id": "95fc44f3-a080-452e-b871-5888063a8c0a",
   "metadata": {},
   "outputs": [
    {
     "name": "stdout",
     "output_type": "stream",
     "text": [
      "root\n",
      " |-- mql_id: string (nullable = true)\n",
      " |-- seller_id: string (nullable = true)\n",
      " |-- sdr_id: string (nullable = true)\n",
      " |-- sr_id: string (nullable = true)\n",
      " |-- won_date: timestamp (nullable = true)\n",
      " |-- business_segment: string (nullable = true)\n",
      " |-- lead_type: string (nullable = true)\n",
      " |-- lead_behaviour_profile: string (nullable = true)\n",
      " |-- has_company: boolean (nullable = true)\n",
      " |-- has_gtin: boolean (nullable = true)\n",
      " |-- average_stock: string (nullable = true)\n",
      " |-- business_type: string (nullable = true)\n",
      " |-- declared_product_catalog_size: double (nullable = true)\n",
      " |-- declared_monthly_revenue: double (nullable = true)\n",
      "\n"
     ]
    }
   ],
   "source": [
    "closed_deals_df.printSchema()"
   ]
  },
  {
   "cell_type": "code",
   "execution_count": 27,
   "id": "aee795ca-b917-4bee-a576-2b292e61b023",
   "metadata": {},
   "outputs": [
    {
     "name": "stdout",
     "output_type": "stream",
     "text": [
      "-RECORD 0---------------------------------------------\n",
      " summary                       | count                \n",
      " mql_id                        | 842                  \n",
      " seller_id                     | 842                  \n",
      " sdr_id                        | 842                  \n",
      " sr_id                         | 842                  \n",
      " business_segment              | 841                  \n",
      " lead_type                     | 836                  \n",
      " lead_behaviour_profile        | 665                  \n",
      " average_stock                 | 66                   \n",
      " business_type                 | 832                  \n",
      " declared_product_catalog_size | 69                   \n",
      " declared_monthly_revenue      | 842                  \n",
      "-RECORD 1---------------------------------------------\n",
      " summary                       | mean                 \n",
      " mql_id                        | null                 \n",
      " seller_id                     | null                 \n",
      " sdr_id                        | null                 \n",
      " sr_id                         | null                 \n",
      " business_segment              | null                 \n",
      " lead_type                     | null                 \n",
      " lead_behaviour_profile        | null                 \n",
      " average_stock                 | null                 \n",
      " business_type                 | null                 \n",
      " declared_product_catalog_size | 233.02898550724638   \n",
      " declared_monthly_revenue      | 73377.67933491686    \n",
      "-RECORD 2---------------------------------------------\n",
      " summary                       | stddev               \n",
      " mql_id                        | null                 \n",
      " seller_id                     | null                 \n",
      " sdr_id                        | null                 \n",
      " sr_id                         | null                 \n",
      " business_segment              | null                 \n",
      " lead_type                     | null                 \n",
      " lead_behaviour_profile        | null                 \n",
      " average_stock                 | null                 \n",
      " business_type                 | null                 \n",
      " declared_product_catalog_size | 352.38055844642525   \n",
      " declared_monthly_revenue      | 1744799.1768914354   \n",
      "-RECORD 3---------------------------------------------\n",
      " summary                       | min                  \n",
      " mql_id                        | 000dd3543ac84d906... \n",
      " seller_id                     | 00065220becb8785e... \n",
      " sdr_id                        | 068066e24f0c643eb... \n",
      " sr_id                         | 060c0a26f19f4d66b... \n",
      " business_segment              | air_conditioning     \n",
      " lead_type                     | industry             \n",
      " lead_behaviour_profile        | cat                  \n",
      " average_stock                 | 1-5                  \n",
      " business_type                 | manufacturer         \n",
      " declared_product_catalog_size | 1.0                  \n",
      " declared_monthly_revenue      | 0.0                  \n",
      "-RECORD 4---------------------------------------------\n",
      " summary                       | max                  \n",
      " mql_id                        | fff8db9478d2fd72d... \n",
      " seller_id                     | ffc470761de7d0232... \n",
      " sdr_id                        | fdb16d3cbbeb5798f... \n",
      " sr_id                         | fbf4aef3f6915dc0c... \n",
      " business_segment              | watches              \n",
      " lead_type                     | other                \n",
      " lead_behaviour_profile        | wolf                 \n",
      " average_stock                 | unknown              \n",
      " business_type                 | reseller             \n",
      " declared_product_catalog_size | 2000.0               \n",
      " declared_monthly_revenue      | 5.0E7                \n",
      "\n"
     ]
    }
   ],
   "source": [
    "closed_deals_df.describe().show(vertical=True)"
   ]
  },
  {
   "cell_type": "code",
   "execution_count": 29,
   "id": "e450bb89-84b1-4414-9458-e4860ea02506",
   "metadata": {},
   "outputs": [
    {
     "name": "stdout",
     "output_type": "stream",
     "text": [
      "-RECORD 0---------------------------------------------\n",
      " mql_id                        | 5420aad7fec3549a8... \n",
      " seller_id                     | 2c43fb513632d29b3... \n",
      " sdr_id                        | a8387c01a09e99ce0... \n",
      " sr_id                         | 4ef15afb4b2723d8f... \n",
      " won_date                      | 2018-02-26 19:58:54  \n",
      " business_segment              | pet                  \n",
      " lead_type                     | online_medium        \n",
      " lead_behaviour_profile        | cat                  \n",
      " has_company                   | null                 \n",
      " has_gtin                      | null                 \n",
      " average_stock                 | null                 \n",
      " business_type                 | reseller             \n",
      " declared_product_catalog_size | null                 \n",
      " declared_monthly_revenue      | 0.0                  \n",
      "-RECORD 1---------------------------------------------\n",
      " mql_id                        | a555fb36b9368110e... \n",
      " seller_id                     | bbb7d7893a4506604... \n",
      " sdr_id                        | 09285259593c61296... \n",
      " sr_id                         | d3d1e91a157ea7f90... \n",
      " won_date                      | 2018-05-08 20:17:59  \n",
      " business_segment              | car_accessories      \n",
      " lead_type                     | industry             \n",
      " lead_behaviour_profile        | eagle                \n",
      " has_company                   | null                 \n",
      " has_gtin                      | null                 \n",
      " average_stock                 | null                 \n",
      " business_type                 | reseller             \n",
      " declared_product_catalog_size | null                 \n",
      " declared_monthly_revenue      | 0.0                  \n",
      "-RECORD 2---------------------------------------------\n",
      " mql_id                        | 327174d3648a2d047... \n",
      " seller_id                     | 612170e34b97004b3... \n",
      " sdr_id                        | b90f87164b5f8c2cf... \n",
      " sr_id                         | 6565aa9ce3178a5ca... \n",
      " won_date                      | 2018-06-05 17:27:23  \n",
      " business_segment              | home_appliances      \n",
      " lead_type                     | online_big           \n",
      " lead_behaviour_profile        | cat                  \n",
      " has_company                   | null                 \n",
      " has_gtin                      | null                 \n",
      " average_stock                 | null                 \n",
      " business_type                 | reseller             \n",
      " declared_product_catalog_size | null                 \n",
      " declared_monthly_revenue      | 0.0                  \n",
      "only showing top 3 rows\n",
      "\n"
     ]
    }
   ],
   "source": [
    "closed_deals_df.show(3, vertical=True)"
   ]
  },
  {
   "cell_type": "code",
   "execution_count": 55,
   "id": "7fbca9e4-7ff8-4308-9155-7667eec4253e",
   "metadata": {},
   "outputs": [],
   "source": [
    "def print_null_count_per_column(df: DataFrame):\n",
    "    df.select([count(when(col(c).isNull(), 1)).alias(c) for c in df.columns]).show(vertical=True)"
   ]
  },
  {
   "cell_type": "code",
   "execution_count": 56,
   "id": "8dd5d0f9-ac32-44d4-aae0-2e42aa7761e8",
   "metadata": {},
   "outputs": [
    {
     "name": "stdout",
     "output_type": "stream",
     "text": [
      "-RECORD 0----------------------------\n",
      " mql_id                        | 0   \n",
      " seller_id                     | 0   \n",
      " sdr_id                        | 0   \n",
      " sr_id                         | 0   \n",
      " won_date                      | 0   \n",
      " business_segment              | 1   \n",
      " lead_type                     | 6   \n",
      " lead_behaviour_profile        | 177 \n",
      " has_company                   | 779 \n",
      " has_gtin                      | 778 \n",
      " average_stock                 | 776 \n",
      " business_type                 | 10  \n",
      " declared_product_catalog_size | 773 \n",
      " declared_monthly_revenue      | 0   \n",
      "\n"
     ]
    }
   ],
   "source": [
    "print_null_count_per_column(df=closed_deals_df)"
   ]
  },
  {
   "cell_type": "code",
   "execution_count": null,
   "id": "27e153ef-823d-480d-ac77-a8b08b30dbc4",
   "metadata": {},
   "outputs": [],
   "source": []
  }
 ],
 "metadata": {
  "kernelspec": {
   "display_name": "Python 3 (ipykernel)",
   "language": "python",
   "name": "python3"
  },
  "language_info": {
   "codemirror_mode": {
    "name": "ipython",
    "version": 3
   },
   "file_extension": ".py",
   "mimetype": "text/x-python",
   "name": "python",
   "nbconvert_exporter": "python",
   "pygments_lexer": "ipython3",
   "version": "3.9.13"
  }
 },
 "nbformat": 4,
 "nbformat_minor": 5
}
