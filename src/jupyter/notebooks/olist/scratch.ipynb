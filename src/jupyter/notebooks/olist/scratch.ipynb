{
 "cells": [
  {
   "cell_type": "code",
   "execution_count": 1,
   "id": "3c0ec594-ba99-491f-ad69-4f60d9a51cea",
   "metadata": {},
   "outputs": [
    {
     "name": "stdout",
     "output_type": "stream",
     "text": [
      "Found existing installation: delta-spark 2.4.0\n",
      "Uninstalling delta-spark-2.4.0:\n",
      "  Successfully uninstalled delta-spark-2.4.0\n",
      "Note: you may need to restart the kernel to use updated packages.\n",
      "Collecting delta_spark\n",
      "  Using cached delta_spark-2.4.0-py3-none-any.whl (20 kB)\n",
      "Requirement already satisfied: pyspark<3.5.0,>=3.4.0 in /usr/local/spark-3.4.1-bin-hadoop3/python (from delta_spark) (3.4.1)\n",
      "Requirement already satisfied: importlib-metadata>=1.0.0 in /opt/conda/lib/python3.9/site-packages (from delta_spark) (4.11.4)\n",
      "Requirement already satisfied: zipp>=0.5 in /opt/conda/lib/python3.9/site-packages (from importlib-metadata>=1.0.0->delta_spark) (3.9.0)\n",
      "Requirement already satisfied: py4j==0.10.9.7 in /opt/conda/lib/python3.9/site-packages (from pyspark<3.5.0,>=3.4.0->delta_spark) (0.10.9.7)\n",
      "Installing collected packages: delta_spark\n",
      "Successfully installed delta_spark-2.4.0\n",
      "Note: you may need to restart the kernel to use updated packages.\n"
     ]
    }
   ],
   "source": [
    "%pip uninstall delta_spark -y\n",
    "%pip install delta_spark -U"
   ]
  },
  {
   "cell_type": "code",
   "execution_count": 1,
   "id": "7b8c3b59-685d-45b2-bb76-2971e7dedf39",
   "metadata": {},
   "outputs": [],
   "source": [
    "from typing import List\n",
    "from pathlib import Path\n",
    "\n",
    "from delta import configure_spark_with_delta_pip\n",
    "from pyspark.sql import SparkSession, DataFrame, Row\n",
    "import pyspark.sql.functions as F\n",
    "from pyspark.sql.types import StructType, StructField, StringType, FloatType, TimestampType"
   ]
  },
  {
   "cell_type": "code",
   "execution_count": 2,
   "id": "69b941c8-36a5-4ed6-a81f-ae163dee5b2d",
   "metadata": {},
   "outputs": [
    {
     "data": {
      "text/plain": [
       "'../../jars/antlr4-runtime-4.9.3.jar,../../jars/aws-java-sdk-bundle-1.12.392.jar,../../jars/delta-core_2.12-2.4.0.jar,../../jars/delta-storage-2.4.0.jar,../../jars/hadoop-aws-3.3.1.jar,../../jars/wildfly-openssl-1.0.7.Final.jar'"
      ]
     },
     "execution_count": 2,
     "metadata": {},
     "output_type": "execute_result"
    }
   ],
   "source": [
    "JAR_PACKAGES = \",\".join([str(x) for x in Path(\"../../jars\").glob(\"*.jar\")])\n",
    "JAR_PACKAGES"
   ]
  },
  {
   "cell_type": "code",
   "execution_count": null,
   "id": "996780f0-17ce-41ca-a6f1-9306f90e042a",
   "metadata": {},
   "outputs": [],
   "source": [
    "SPARK_URI = \"spark://spark:7077\"\n",
    "HIVE_URI = \"thrift://hive-metastore:9083\"\n",
    "MINIO_URI = \"http://minio:9000\"\n",
    "\n",
    "builder = SparkSession.builder.appName(\"olist_silver_transformer\").master(SPARK_URI) \\\n",
    "    .config(\"spark.jars\", JAR_PACKAGES) \\\n",
    "    .config(\"spark.sql.warehouse.dir\", \"s3a:///\") \\\n",
    "    .config(\"spark.hadoop.hive.metastore.uris\", HIVE_URI) \\\n",
    "    .config(\"spark.sql.extensions\", \"io.delta.sql.DeltaSparkSessionExtension\") \\\n",
    "    .config(\"spark.sql.catalog.spark_catalog\", \"org.apache.spark.sql.delta.catalog.DeltaCatalog\") \\\n",
    "    .config(\"spark.sql.extensions\", \"io.delta.sql.DeltaSparkSessionExtension\") \\\n",
    "    .config(\"spark.sql.catalog.spark_catalog\", \"org.apache.spark.sql.delta.catalog.DeltaCatalog\") \\\n",
    "    .config(\"spark.hadoop.fs.s3a.access.key\", \"datalake\") \\\n",
    "    .config(\"spark.hadoop.fs.s3a.secret.key\", \"datalake\") \\\n",
    "    .config(\"spark.hadoop.fs.s3a.endpoint\", MINIO_URI) \\\n",
    "    .config(\"spark.hadoop.fs.s3a.path.style.access\", \"true\") \\\n",
    "    .config(\"spark.hadoop.fs.s3a.impl\", \"org.apache.hadoop.fs.s3a.S3AFileSystem\")\n",
    "spark = configure_spark_with_delta_pip(builder).enableHiveSupport().getOrCreate()"
   ]
  },
  {
   "cell_type": "code",
   "execution_count": null,
   "id": "cd6c27bf-3220-4b20-bf4e-b08ff24fc876",
   "metadata": {},
   "outputs": [
    {
     "data": {
      "text/plain": [
       "[CatalogMetadata(name='spark_catalog', description=None)]"
      ]
     },
     "execution_count": 4,
     "metadata": {},
     "output_type": "execute_result"
    }
   ],
   "source": [
    "spark.catalog.listCatalogs()"
   ]
  },
  {
   "cell_type": "code",
   "execution_count": 6,
   "id": "3de99428-834d-4459-80b7-51fb66c39b57",
   "metadata": {},
   "outputs": [
    {
     "data": {
      "text/plain": [
       "[Database(name='bronze', catalog='spark_catalog', description='', locationUri='s3a://bronze/'),\n",
       " Database(name='default', catalog='spark_catalog', description='Default Hive database', locationUri='file:/user/hive/warehouse'),\n",
       " Database(name='delta_lake', catalog='spark_catalog', description='', locationUri='s3a://delta-lake/'),\n",
       " Database(name='gold', catalog='spark_catalog', description='', locationUri='s3a://gold/'),\n",
       " Database(name='silver', catalog='spark_catalog', description='', locationUri='s3a://silver/'),\n",
       " Database(name='tmp', catalog='spark_catalog', description='', locationUri='s3a://tmp/')]"
      ]
     },
     "execution_count": 6,
     "metadata": {},
     "output_type": "execute_result"
    }
   ],
   "source": [
    "spark.catalog.listDatabases()"
   ]
  },
  {
   "cell_type": "code",
   "execution_count": 18,
   "id": "73256b24-2b4f-484f-9d58-5db0ce765732",
   "metadata": {},
   "outputs": [],
   "source": [
    "orders_performance_report_df = spark.sql(\"\"\"\n",
    "    SELECT d_date1.year\n",
    "        ,d_date1.year_month\n",
    "        ,d_date1.month\n",
    "        ,d_date1.year_week\n",
    "        ,d_date1.time_of_day\n",
    "        ,dos.order_status\n",
    "        ,dc.customer_state\n",
    "        ,dc.customer_city\n",
    "        ,COUNT(DISTINCT fact_orders.order_id) AS total_orders\n",
    "        ,ROUND(SUM(price), 2) AS total_amount\n",
    "        ,ROUND(AVG(freight_value), 2) AS avg_freight\n",
    "        ,ROUND(IF(AVG(DATEDIFF(d_date1.timestamp, d_date3.timestamp)) < 0, 0, AVG(DATEDIFF(d_date1.timestamp, d_date3.timestamp))), 2) AS avg_days_delivery_delay\n",
    "        ,ROUND(AVG(DATEDIFF(d_date1.timestamp, d_date2.timestamp)), 2) AS avg_days_to_deliver\n",
    "    FROM silver.fact_orders\n",
    "    JOIN silver.dim_order_status dos ON dos.order_status_id = fact_orders.order_status_id\n",
    "    LEFT JOIN silver.dim_date d_date1 ON d_date1.date_id = fact_orders.order_delivered_customer_date_id\n",
    "    LEFT JOIN silver.dim_date d_date2 ON d_date2.date_id = fact_orders.order_purchase_timestamp_id\n",
    "    LEFT JOIN silver.dim_date d_date3 ON d_date3.date_id = fact_orders.order_estimated_delivery_date_id\n",
    "    JOIN silver.dim_customers dc ON dc.customer_id = fact_orders.customer_id\n",
    "    GROUP BY dos.order_status\n",
    "        ,dc.customer_state\n",
    "        ,dc.customer_city\n",
    "        ,d_date1.year\n",
    "        ,d_date1.year_month\n",
    "        ,d_date1.month\n",
    "        ,d_date1.year_week\n",
    "        ,d_date1.time_of_day\n",
    "\"\"\"\n",
    ")"
   ]
  },
  {
   "cell_type": "code",
   "execution_count": 24,
   "id": "acd3326f-09a8-4837-b0b7-457dc496e2b9",
   "metadata": {},
   "outputs": [],
   "source": [
    "order_payment_performance_df = spark.sql(\"\"\"\n",
    "    SELECT d_date1.year\n",
    "        ,d_date1.year_month\n",
    "        ,d_date1.month\n",
    "        ,dos.order_status\n",
    "        ,dc.customer_state\n",
    "        ,dc.customer_city\n",
    "        ,COUNT(fact_payments.order_id) AS total_transactions\n",
    "        ,ROUND(SUM(fact_payments.payment_value), 2) AS total_payment\n",
    "    FROM silver.fact_payments\n",
    "    JOIN silver.dim_order_status dos ON dos.order_status_id = fact_payments.order_status_id\n",
    "    LEFT JOIN silver.dim_date d_date1 ON d_date1.date_id = fact_payments.order_delivered_customer_date_id\n",
    "    JOIN silver.dim_customers dc ON dc.customer_id = fact_payments.customer_id\n",
    "    GROUP BY dos.order_status\n",
    "        ,dc.customer_state\n",
    "        ,dc.customer_city\n",
    "        ,d_date1.year\n",
    "        ,d_date1.year_month\n",
    "        ,d_date1.month\n",
    "\"\"\"\n",
    ")"
   ]
  },
  {
   "cell_type": "code",
   "execution_count": 25,
   "id": "75fd08ef-28dd-4855-a2e7-5f8a568650c9",
   "metadata": {},
   "outputs": [
    {
     "name": "stdout",
     "output_type": "stream",
     "text": [
      "+----+----------+-----+------------+--------------+-------------------+------------------+-------------+\n",
      "|year|year_month|month|order_status|customer_state|      customer_city|total_transactions|total_payment|\n",
      "+----+----------+-----+------------+--------------+-------------------+------------------+-------------+\n",
      "|2018|    201805|    5|   delivered|            SP|        sao vicente|                14|       952.67|\n",
      "|2018|    201806|    6|   delivered|            SP|    mogi das cruzes|                14|      1558.53|\n",
      "|2018|    201803|    3|   delivered|            SP|    mogi das cruzes|                22|       2793.5|\n",
      "|2018|    201806|    6|   delivered|            AM|            humaita|                 1|       141.65|\n",
      "|2017|    201712|   12|   delivered|            SC|      florianopolis|                45|      9948.34|\n",
      "|2018|    201802|    2|   delivered|            SE|           estancia|                 1|       500.13|\n",
      "|2017|    201704|    4|   delivered|            SP|           campinas|                15|      2031.55|\n",
      "|2018|    201805|    5|   delivered|            PB|     curral de cima|                 1|        199.0|\n",
      "|2018|    201805|    5|   delivered|            SP|            itupeva|                 4|       805.19|\n",
      "|2017|    201710|   10|   delivered|            RS|        santa maria|                11|       2543.7|\n",
      "|2017|    201709|    9|   delivered|            GO|valparaiso de goias|                 2|       447.45|\n",
      "|2018|    201807|    7|   delivered|            SP|            dracena|                 1|         65.4|\n",
      "|2018|    201807|    7|   delivered|            SP|       jardinopolis|                 2|       158.55|\n",
      "|2017|    201711|   11|   delivered|            PR|          araucaria|                 3|       465.34|\n",
      "|2018|    201804|    4|   delivered|            BA|           camacari|                 7|       601.49|\n",
      "|2017|    201704|    4|   delivered|            SC|        petrolandia|                 1|        39.04|\n",
      "|2017|    201709|    9|   delivered|            SP|             agudos|                 1|         83.5|\n",
      "|2017|    201711|   11|   delivered|            RJ|           cordeiro|                 1|       195.18|\n",
      "|2018|    201805|    5|   delivered|            MG|            itabira|                12|      1523.94|\n",
      "|2018|    201802|    2|   delivered|            SP|                itu|                14|      1343.37|\n",
      "+----+----------+-----+------------+--------------+-------------------+------------------+-------------+\n",
      "only showing top 20 rows\n",
      "\n"
     ]
    }
   ],
   "source": [
    "order_payment_performance_df.show()"
   ]
  },
  {
   "cell_type": "code",
   "execution_count": null,
   "id": "ddf70372-f823-425f-a491-dc7777e0f015",
   "metadata": {},
   "outputs": [],
   "source": []
  }
 ],
 "metadata": {
  "kernelspec": {
   "display_name": "Python 3 (ipykernel)",
   "language": "python",
   "name": "python3"
  },
  "language_info": {
   "codemirror_mode": {
    "name": "ipython",
    "version": 3
   },
   "file_extension": ".py",
   "mimetype": "text/x-python",
   "name": "python",
   "nbconvert_exporter": "python",
   "pygments_lexer": "ipython3",
   "version": "3.9.13"
  }
 },
 "nbformat": 4,
 "nbformat_minor": 5
}
