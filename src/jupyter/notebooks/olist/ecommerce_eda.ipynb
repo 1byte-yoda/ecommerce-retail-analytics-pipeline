{
 "cells": [
  {
   "cell_type": "code",
   "execution_count": 1,
   "id": "326fac1d-bda8-4a45-a860-82de5feb3e68",
   "metadata": {},
   "outputs": [
    {
     "name": "stdout",
     "output_type": "stream",
     "text": [
      "Found existing installation: delta-spark 2.4.0\n",
      "Uninstalling delta-spark-2.4.0:\n",
      "  Successfully uninstalled delta-spark-2.4.0\n",
      "Note: you may need to restart the kernel to use updated packages.\n",
      "Requirement already satisfied: unidecode in /opt/conda/lib/python3.9/site-packages (1.3.7)\n",
      "Collecting delta_spark\n",
      "  Using cached delta_spark-2.4.0-py3-none-any.whl (20 kB)\n",
      "Requirement already satisfied: importlib-metadata>=1.0.0 in /opt/conda/lib/python3.9/site-packages (from delta_spark) (4.11.4)\n",
      "Requirement already satisfied: pyspark<3.5.0,>=3.4.0 in /usr/local/spark-3.4.1-bin-hadoop3/python (from delta_spark) (3.4.1)\n",
      "Requirement already satisfied: zipp>=0.5 in /opt/conda/lib/python3.9/site-packages (from importlib-metadata>=1.0.0->delta_spark) (3.9.0)\n",
      "Requirement already satisfied: py4j==0.10.9.7 in /opt/conda/lib/python3.9/site-packages (from pyspark<3.5.0,>=3.4.0->delta_spark) (0.10.9.7)\n",
      "Installing collected packages: delta_spark\n",
      "Successfully installed delta_spark-2.4.0\n",
      "Note: you may need to restart the kernel to use updated packages.\n"
     ]
    }
   ],
   "source": [
    "%pip uninstall delta_spark -y\n",
    "%pip install unidecode delta_spark -U"
   ]
  },
  {
   "cell_type": "code",
   "execution_count": 2,
   "id": "3dcc8cbb-90f6-4335-bcb8-418260071916",
   "metadata": {},
   "outputs": [],
   "source": [
    "from typing import List\n",
    "from pathlib import Path\n",
    "\n",
    "from unidecode import unidecode\n",
    "from delta import configure_spark_with_delta_pip\n",
    "from pyspark.sql import SparkSession, DataFrame, Row\n",
    "import pyspark.sql.functions as F\n",
    "from pyspark.sql.types import StructType, StructField, StringType, FloatType, TimestampType"
   ]
  },
  {
   "cell_type": "code",
   "execution_count": 3,
   "id": "03973406-d038-425b-87ed-a006a2aca774",
   "metadata": {},
   "outputs": [
    {
     "data": {
      "text/plain": [
       "'../../jars/antlr4-runtime-4.9.3.jar,../../jars/aws-java-sdk-bundle-1.12.392.jar,../../jars/delta-core_2.12-2.4.0.jar,../../jars/delta-storage-2.4.0.jar,../../jars/hadoop-aws-3.3.1.jar,../../jars/wildfly-openssl-1.0.7.Final.jar'"
      ]
     },
     "execution_count": 3,
     "metadata": {},
     "output_type": "execute_result"
    }
   ],
   "source": [
    "JAR_PACKAGES = \",\".join([str(x) for x in Path(\"../../jars\").glob(\"*.jar\")])\n",
    "JAR_PACKAGES"
   ]
  },
  {
   "cell_type": "markdown",
   "id": "2642bdfe-7c41-4eda-a3fe-cedccafaa7f2",
   "metadata": {},
   "source": [
    "## Read The Datasets"
   ]
  },
  {
   "cell_type": "markdown",
   "id": "e25e3b2b-225f-42c4-9e54-888a17fff250",
   "metadata": {},
   "source": [
    "## Overview of Each Dataset\n"
   ]
  },
  {
   "cell_type": "markdown",
   "id": "5e48bfa5-20bd-4f2c-803d-acb06fa63111",
   "metadata": {},
   "source": [
    "### Dataset High Level Overview\n",
    "\n",
    "For each Dataset get the ff. (tabular)\n",
    "- Number of Rows\n",
    "- Number of Columns\n",
    "- Number of Null Values\n",
    "- Number Columns with Null Values\n",
    "- List of Columns with Null"
   ]
  },
  {
   "cell_type": "code",
   "execution_count": 4,
   "id": "d95258b5-3482-459d-ba33-11ab4995a25f",
   "metadata": {},
   "outputs": [],
   "source": [
    "SPARK_URI = \"spark://spark:7077\"\n",
    "HIVE_URI = \"thrift://hive-metastore:9083\"\n",
    "MINIO_URI = \"http://minio:9000\"\n",
    "\n",
    "builder = SparkSession.builder.appName(\"olist_silver_transformer\").master(SPARK_URI) \\\n",
    "    .config(\"spark.jars\", JAR_PACKAGES) \\\n",
    "    .config(\"spark.sql.warehouse.dir\", \"s3a:///\") \\\n",
    "    .config(\"spark.hadoop.hive.metastore.uris\", HIVE_URI) \\\n",
    "    .config(\"spark.sql.extensions\", \"io.delta.sql.DeltaSparkSessionExtension\") \\\n",
    "    .config(\"spark.sql.catalog.spark_catalog\", \"org.apache.spark.sql.delta.catalog.DeltaCatalog\") \\\n",
    "    .config(\"spark.sql.extensions\", \"io.delta.sql.DeltaSparkSessionExtension\") \\\n",
    "    .config(\"spark.sql.catalog.spark_catalog\", \"org.apache.spark.sql.delta.catalog.DeltaCatalog\") \\\n",
    "    .config(\"spark.hadoop.fs.s3a.access.key\", \"datalake\") \\\n",
    "    .config(\"spark.hadoop.fs.s3a.secret.key\", \"datalake\") \\\n",
    "    .config(\"spark.hadoop.fs.s3a.endpoint\", MINIO_URI) \\\n",
    "    .config(\"spark.hadoop.fs.s3a.path.style.access\", \"true\") \\\n",
    "    .config(\"spark.hadoop.fs.s3a.impl\", \"org.apache.hadoop.fs.s3a.S3AFileSystem\")\n",
    "spark = configure_spark_with_delta_pip(builder).enableHiveSupport().getOrCreate()"
   ]
  },
  {
   "cell_type": "code",
   "execution_count": 5,
   "id": "0fff3282-4b97-4180-b38e-3b2e9ef33a4c",
   "metadata": {},
   "outputs": [],
   "source": [
    "bronze_container_path = \"s3a://bronze\""
   ]
  },
  {
   "cell_type": "code",
   "execution_count": 6,
   "id": "34e8e25e-3cb2-4878-b814-afc5b613ce9b",
   "metadata": {},
   "outputs": [
    {
     "name": "stdout",
     "output_type": "stream",
     "text": [
      "root\n",
      " |-- customer_id: string (nullable = true)\n",
      " |-- customer_unique_id: string (nullable = true)\n",
      " |-- customer_zip_code_prefix: integer (nullable = true)\n",
      " |-- customer_city: string (nullable = true)\n",
      " |-- customer_state: string (nullable = true)\n",
      "\n"
     ]
    }
   ],
   "source": [
    "customers_df = spark.read.format(\"csv\") \\\n",
    "    .option(\"path\", f\"{bronze_container_path}/olist/olist_customers_dataset.csv\") \\\n",
    "    .option(\"header\", True) \\\n",
    "    .option(\"inferSchema\", True) \\\n",
    "    .load()\n",
    "customers_df.printSchema()"
   ]
  },
  {
   "cell_type": "code",
   "execution_count": 7,
   "id": "39c7cdc0-c75f-4fb1-b6e0-8b8d78a9846d",
   "metadata": {},
   "outputs": [
    {
     "name": "stdout",
     "output_type": "stream",
     "text": [
      "root\n",
      " |-- geolocation_zip_code_prefix: integer (nullable = true)\n",
      " |-- geolocation_lat: double (nullable = true)\n",
      " |-- geolocation_lng: double (nullable = true)\n",
      " |-- geolocation_city: string (nullable = true)\n",
      " |-- geolocation_state: string (nullable = true)\n",
      "\n"
     ]
    }
   ],
   "source": [
    "geolocation_df = spark.read.format(\"csv\") \\\n",
    "    .option(\"path\", f\"{bronze_container_path}/olist/olist_geolocation_dataset.csv\") \\\n",
    "    .option(\"header\", True) \\\n",
    "    .option(\"inferSchema\", True) \\\n",
    "    .load()\n",
    "geolocation_df.printSchema()"
   ]
  },
  {
   "cell_type": "code",
   "execution_count": 8,
   "id": "03501229-52bc-4169-b1bd-3ca787f8d27e",
   "metadata": {},
   "outputs": [
    {
     "name": "stdout",
     "output_type": "stream",
     "text": [
      "root\n",
      " |-- order_id: string (nullable = true)\n",
      " |-- order_item_id: integer (nullable = true)\n",
      " |-- product_id: string (nullable = true)\n",
      " |-- seller_id: string (nullable = true)\n",
      " |-- shipping_limit_date: timestamp (nullable = true)\n",
      " |-- price: double (nullable = true)\n",
      " |-- freight_value: double (nullable = true)\n",
      "\n"
     ]
    }
   ],
   "source": [
    "order_items_df = spark.read.format(\"csv\") \\\n",
    "    .option(\"path\", f\"{bronze_container_path}/olist/olist_order_items_dataset.csv\") \\\n",
    "    .option(\"header\", True) \\\n",
    "    .option(\"inferSchema\", True) \\\n",
    "    .load()\n",
    "order_items_df.printSchema()"
   ]
  },
  {
   "cell_type": "code",
   "execution_count": 9,
   "id": "a740b921-89c9-494c-ac43-d32a2e4e75f7",
   "metadata": {},
   "outputs": [
    {
     "name": "stdout",
     "output_type": "stream",
     "text": [
      "root\n",
      " |-- order_id: string (nullable = true)\n",
      " |-- payment_sequential: integer (nullable = true)\n",
      " |-- payment_type: string (nullable = true)\n",
      " |-- payment_installments: integer (nullable = true)\n",
      " |-- payment_value: double (nullable = true)\n",
      "\n"
     ]
    }
   ],
   "source": [
    "order_payments_df = spark.read.format(\"csv\") \\\n",
    "    .option(\"path\", f\"{bronze_container_path}/olist/olist_order_payments_dataset.csv\") \\\n",
    "    .option(\"header\", True) \\\n",
    "    .option(\"inferSchema\", True) \\\n",
    "    .load()\n",
    "order_payments_df.printSchema()"
   ]
  },
  {
   "cell_type": "code",
   "execution_count": 10,
   "id": "19465c85-a3a1-4adc-a9e5-2240a0e8889b",
   "metadata": {},
   "outputs": [],
   "source": [
    "def get_order_reviews_schema() -> StructType:\n",
    "    return StructType(\n",
    "        [\n",
    "            StructField(\"review_id\", StringType()),\n",
    "            StructField(\"order_id\", StringType()),\n",
    "            StructField(\"review_score\", FloatType()),\n",
    "            StructField(\"review_comment_title\", StringType()),\n",
    "            StructField(\"review_comment_message\", StringType()),\n",
    "            StructField(\"review_creation_date\", TimestampType()),\n",
    "            StructField(\"review_answer_timestamp\", TimestampType())\n",
    "        ]\n",
    "    )"
   ]
  },
  {
   "cell_type": "code",
   "execution_count": 11,
   "id": "82394dd4-d65e-41eb-bb6f-a6ec780c94ab",
   "metadata": {},
   "outputs": [
    {
     "name": "stdout",
     "output_type": "stream",
     "text": [
      "root\n",
      " |-- review_id: string (nullable = true)\n",
      " |-- order_id: string (nullable = true)\n",
      " |-- review_score: float (nullable = true)\n",
      " |-- review_comment_title: string (nullable = true)\n",
      " |-- review_comment_message: string (nullable = true)\n",
      " |-- review_creation_date: timestamp (nullable = true)\n",
      " |-- review_answer_timestamp: timestamp (nullable = true)\n",
      "\n"
     ]
    }
   ],
   "source": [
    "order_reviews_df = spark.read.format(\"csv\") \\\n",
    "    .option(\"path\", f\"{bronze_container_path}/olist/olist_order_reviews_dataset.csv\") \\\n",
    "    .option(\"header\", True) \\\n",
    "    .schema(get_order_reviews_schema()) \\\n",
    "    .load()\n",
    "order_reviews_df.printSchema()"
   ]
  },
  {
   "cell_type": "code",
   "execution_count": 12,
   "id": "9715f02f-5f89-4b32-853d-8da21ed6bddd",
   "metadata": {},
   "outputs": [
    {
     "name": "stdout",
     "output_type": "stream",
     "text": [
      "root\n",
      " |-- order_id: string (nullable = true)\n",
      " |-- customer_id: string (nullable = true)\n",
      " |-- order_status: string (nullable = true)\n",
      " |-- order_purchase_timestamp: timestamp (nullable = true)\n",
      " |-- order_approved_at: timestamp (nullable = true)\n",
      " |-- order_delivered_carrier_date: timestamp (nullable = true)\n",
      " |-- order_delivered_customer_date: timestamp (nullable = true)\n",
      " |-- order_estimated_delivery_date: timestamp (nullable = true)\n",
      "\n"
     ]
    }
   ],
   "source": [
    "orders_df = spark.read.format(\"csv\") \\\n",
    "    .option(\"path\", f\"{bronze_container_path}/olist/olist_orders_dataset.csv\") \\\n",
    "    .option(\"header\", True) \\\n",
    "    .option(\"inferSchema\", True) \\\n",
    "    .load()\n",
    "orders_df.printSchema()"
   ]
  },
  {
   "cell_type": "code",
   "execution_count": 13,
   "id": "32c31c3b-fd9c-40e2-a8f4-fb225d053e18",
   "metadata": {},
   "outputs": [
    {
     "name": "stdout",
     "output_type": "stream",
     "text": [
      "root\n",
      " |-- product_id: string (nullable = true)\n",
      " |-- product_category_name: string (nullable = true)\n",
      " |-- product_name_lenght: integer (nullable = true)\n",
      " |-- product_description_lenght: integer (nullable = true)\n",
      " |-- product_photos_qty: integer (nullable = true)\n",
      " |-- product_weight_g: integer (nullable = true)\n",
      " |-- product_length_cm: integer (nullable = true)\n",
      " |-- product_height_cm: integer (nullable = true)\n",
      " |-- product_width_cm: integer (nullable = true)\n",
      "\n"
     ]
    }
   ],
   "source": [
    "products_df = spark.read.format(\"csv\") \\\n",
    "    .option(\"path\", f\"{bronze_container_path}/olist/olist_products_dataset.csv\") \\\n",
    "    .option(\"header\", True) \\\n",
    "    .option(\"inferSchema\", True) \\\n",
    "    .load()\n",
    "products_df.printSchema()"
   ]
  },
  {
   "cell_type": "code",
   "execution_count": 14,
   "id": "587e11dd-47e3-4412-b8d8-7c93dda469e6",
   "metadata": {},
   "outputs": [
    {
     "name": "stdout",
     "output_type": "stream",
     "text": [
      "root\n",
      " |-- seller_id: string (nullable = true)\n",
      " |-- seller_zip_code_prefix: string (nullable = true)\n",
      " |-- seller_city: string (nullable = true)\n",
      " |-- seller_state: string (nullable = true)\n",
      "\n"
     ]
    }
   ],
   "source": [
    "sellers_df = spark.read.format(\"csv\") \\\n",
    "    .option(\"path\", f\"{bronze_container_path}/olist/olist_sellers_dataset.csv\") \\\n",
    "    .option(\"header\", True) \\\n",
    "    .option(\"inferScema\", True) \\\n",
    "    .load()\n",
    "sellers_df.printSchema()"
   ]
  },
  {
   "cell_type": "code",
   "execution_count": 15,
   "id": "e93fe9b8-8952-4a32-b5b6-fbd9e2623ba8",
   "metadata": {},
   "outputs": [
    {
     "name": "stdout",
     "output_type": "stream",
     "text": [
      "root\n",
      " |-- product_category_name: string (nullable = true)\n",
      " |-- product_category_name_english: string (nullable = true)\n",
      "\n"
     ]
    }
   ],
   "source": [
    "product_category_name_translation_df = spark.read.format(\"csv\") \\\n",
    "    .option(\"path\", f\"{bronze_container_path}/olist/product_category_name_translation.csv\") \\\n",
    "    .option(\"header\", True) \\\n",
    "    .option(\"inferScema\", True) \\\n",
    "    .load()\n",
    "product_category_name_translation_df.printSchema()"
   ]
  },
  {
   "cell_type": "code",
   "execution_count": 16,
   "id": "0b605e84-ec72-4b6a-9d87-ac7af2ac12e5",
   "metadata": {},
   "outputs": [
    {
     "name": "stdout",
     "output_type": "stream",
     "text": [
      "+--------------------+--------------------+------------+------------------------+-------------------+----------------------------+-----------------------------+-----------------------------+\n",
      "|            order_id|         customer_id|order_status|order_purchase_timestamp|  order_approved_at|order_delivered_carrier_date|order_delivered_customer_date|order_estimated_delivery_date|\n",
      "+--------------------+--------------------+------------+------------------------+-------------------+----------------------------+-----------------------------+-----------------------------+\n",
      "|8272b63d03f5f79c5...|fc3d1daec319d62d4...|   delivered|     2017-07-16 18:19:25|2017-07-17 18:25:23|         2017-07-20 15:45:53|          2017-07-31 18:03:02|          2017-07-28 00:00:00|\n",
      "+--------------------+--------------------+------------+------------------------+-------------------+----------------------------+-----------------------------+-----------------------------+\n",
      "\n"
     ]
    }
   ],
   "source": [
    "orders_df.where(\"order_id = '8272b63d03f5f79c56e9e4120aec44ef'\").show()"
   ]
  },
  {
   "cell_type": "code",
   "execution_count": 17,
   "id": "fb8041d4-7ab5-43f2-bacd-5c79a7ac2d29",
   "metadata": {},
   "outputs": [],
   "source": [
    "def get_timestamp_fields(df):\n",
    "    return [c for c in df.columns if dict(df.dtypes).get(c) == \"timestamp\"]\n",
    "\n",
    "def get_date_df(df_list):\n",
    "    fields = get_timestamp_fields(df_list[0])\n",
    "    base_df = df_list[0].select(F.explode(F.array(*fields)).alias(\"dates\"))\n",
    "\n",
    "    for df in df_list[1:]:\n",
    "        fields = [c for c in df.columns if dict(df.dtypes).get(c) == \"timestamp\"]\n",
    "        new_df = df.select(F.explode(F.array(*fields)).alias(\"dates\"))\n",
    "        base_df = base_df.union(new_df)\n",
    "    return base_df.distinct()\n",
    "\n",
    "my_df = get_date_df(df_list=[orders_df, order_items_df, order_reviews_df])"
   ]
  },
  {
   "cell_type": "code",
   "execution_count": 18,
   "id": "a35f8892-8594-401e-a377-be689f419f44",
   "metadata": {},
   "outputs": [],
   "source": [
    "x = orders_df.select(F.explode(F.array('order_purchase_timestamp',\n",
    " 'order_approved_at',\n",
    " 'order_delivered_carrier_date',\n",
    " 'order_delivered_customer_date',\n",
    " 'order_estimated_delivery_date')).alias('dates'),\n",
    "                )"
   ]
  },
  {
   "cell_type": "code",
   "execution_count": 19,
   "id": "2b35694b-76c0-4fb6-887f-23a21e4f62b8",
   "metadata": {},
   "outputs": [],
   "source": [
    "y = order_items_df.selectExpr(\"shipping_limit_date AS dates\")"
   ]
  },
  {
   "cell_type": "code",
   "execution_count": 20,
   "id": "79e8b082-287b-4504-9cb0-a7939755476d",
   "metadata": {},
   "outputs": [],
   "source": [
    "z = order_reviews_df.select(F.explode(F.array('review_creation_date',\n",
    " 'review_answer_timestamp')).alias('dates'),\n",
    "                )"
   ]
  },
  {
   "cell_type": "code",
   "execution_count": 21,
   "id": "78dccacc-63d3-4eda-97ea-b948a995dc03",
   "metadata": {},
   "outputs": [
    {
     "data": {
      "text/plain": [
       "548037"
      ]
     },
     "execution_count": 21,
     "metadata": {},
     "output_type": "execute_result"
    }
   ],
   "source": [
    "x.union(y).union(z).distinct().count()"
   ]
  },
  {
   "cell_type": "code",
   "execution_count": 22,
   "id": "e43c2367-97c6-4673-8678-c9036f8cdd89",
   "metadata": {},
   "outputs": [
    {
     "data": {
      "text/plain": [
       "548037"
      ]
     },
     "execution_count": 22,
     "metadata": {},
     "output_type": "execute_result"
    }
   ],
   "source": [
    "my_df.count()"
   ]
  },
  {
   "cell_type": "markdown",
   "id": "b81894be-0e7c-44a0-8636-f3fd200b4e59",
   "metadata": {
    "tags": []
   },
   "source": [
    "### Dataset Detailed Info\n",
    "\n",
    "Create a tabular data of the ff.\n",
    "\n",
    "- Column name\n",
    "- Null amount\n",
    "- Null percentage among the respective dataset\n",
    "- Data type\n",
    "- total categorical entries"
   ]
  },
  {
   "cell_type": "code",
   "execution_count": 23,
   "id": "1b34e604-5537-49b2-991e-33779457cf05",
   "metadata": {},
   "outputs": [
    {
     "name": "stdout",
     "output_type": "stream",
     "text": [
      "+-------------------------------------+-----------------------------+---------+---------+-----------+---------------+---------+------------+\n",
      "|dataset_name                         |column_name                  |row_count|col_count|null_amount|null_percentage|data_type|unique_count|\n",
      "+-------------------------------------+-----------------------------+---------+---------+-----------+---------------+---------+------------+\n",
      "|olist_customers_dataset.csv          |customer_id                  |99441    |5        |0          |0.0            |string   |99441       |\n",
      "|olist_customers_dataset.csv          |customer_unique_id           |99441    |5        |0          |0.0            |string   |96096       |\n",
      "|olist_customers_dataset.csv          |customer_zip_code_prefix     |99441    |5        |0          |0.0            |int      |14994       |\n",
      "|olist_customers_dataset.csv          |customer_city                |99441    |5        |0          |0.0            |string   |4119        |\n",
      "|olist_customers_dataset.csv          |customer_state               |99441    |5        |0          |0.0            |string   |27          |\n",
      "|-                                    |-                            |null     |null     |null       |null           |-        |null        |\n",
      "|olist_geolocation_dataset.csv        |geolocation_zip_code_prefix  |1000163  |5        |0          |0.0            |int      |19015       |\n",
      "|olist_geolocation_dataset.csv        |geolocation_lat              |1000163  |5        |0          |0.0            |double   |717372      |\n",
      "|olist_geolocation_dataset.csv        |geolocation_lng              |1000163  |5        |0          |0.0            |double   |717615      |\n",
      "|olist_geolocation_dataset.csv        |geolocation_city             |1000163  |5        |0          |0.0            |string   |8011        |\n",
      "|olist_geolocation_dataset.csv        |geolocation_state            |1000163  |5        |0          |0.0            |string   |27          |\n",
      "|-                                    |-                            |null     |null     |null       |null           |-        |null        |\n",
      "|olist_order_items_dataset.csv        |order_id                     |112650   |7        |0          |0.0            |string   |98666       |\n",
      "|olist_order_items_dataset.csv        |order_item_id                |112650   |7        |0          |0.0            |int      |21          |\n",
      "|olist_order_items_dataset.csv        |product_id                   |112650   |7        |0          |0.0            |string   |32951       |\n",
      "|olist_order_items_dataset.csv        |seller_id                    |112650   |7        |0          |0.0            |string   |3095        |\n",
      "|olist_order_items_dataset.csv        |shipping_limit_date          |112650   |7        |0          |0.0            |timestamp|93318       |\n",
      "|olist_order_items_dataset.csv        |price                        |112650   |7        |0          |0.0            |double   |5968        |\n",
      "|olist_order_items_dataset.csv        |freight_value                |112650   |7        |0          |0.0            |double   |6999        |\n",
      "|-                                    |-                            |null     |null     |null       |null           |-        |null        |\n",
      "|olist_order_payments_dataset.csv     |order_id                     |103886   |5        |0          |0.0            |string   |99440       |\n",
      "|olist_order_payments_dataset.csv     |payment_sequential           |103886   |5        |0          |0.0            |int      |29          |\n",
      "|olist_order_payments_dataset.csv     |payment_type                 |103886   |5        |0          |0.0            |string   |5           |\n",
      "|olist_order_payments_dataset.csv     |payment_installments         |103886   |5        |0          |0.0            |int      |24          |\n",
      "|olist_order_payments_dataset.csv     |payment_value                |103886   |5        |0          |0.0            |double   |29077       |\n",
      "|-                                    |-                            |null     |null     |null       |null           |-        |null        |\n",
      "|olist_order_reviews_dataset.csv      |review_id                    |104162   |7        |1          |0.0            |string   |102958      |\n",
      "|olist_order_reviews_dataset.csv      |order_id                     |104162   |7        |2236       |2.15           |string   |99743       |\n",
      "|olist_order_reviews_dataset.csv      |review_score                 |104162   |7        |4935       |4.74           |float    |8           |\n",
      "|olist_order_reviews_dataset.csv      |review_comment_title         |104162   |7        |92157      |88.47          |string   |4948        |\n",
      "|olist_order_reviews_dataset.csv      |review_comment_message       |104162   |7        |63079      |60.56          |string   |35907       |\n",
      "|olist_order_reviews_dataset.csv      |review_creation_date         |104162   |7        |8832       |8.48           |timestamp|655         |\n",
      "|olist_order_reviews_dataset.csv      |review_answer_timestamp      |104162   |7        |8803       |8.45           |timestamp|94441       |\n",
      "|-                                    |-                            |null     |null     |null       |null           |-        |null        |\n",
      "|olist_orders_dataset.csv             |order_id                     |99441    |8        |0          |0.0            |string   |99441       |\n",
      "|olist_orders_dataset.csv             |customer_id                  |99441    |8        |0          |0.0            |string   |99441       |\n",
      "|olist_orders_dataset.csv             |order_status                 |99441    |8        |0          |0.0            |string   |8           |\n",
      "|olist_orders_dataset.csv             |order_purchase_timestamp     |99441    |8        |0          |0.0            |timestamp|98875       |\n",
      "|olist_orders_dataset.csv             |order_approved_at            |99441    |8        |160        |0.16           |timestamp|90734       |\n",
      "|olist_orders_dataset.csv             |order_delivered_carrier_date |99441    |8        |1783       |1.79           |timestamp|81019       |\n",
      "|olist_orders_dataset.csv             |order_delivered_customer_date|99441    |8        |2965       |2.98           |timestamp|95665       |\n",
      "|olist_orders_dataset.csv             |order_estimated_delivery_date|99441    |8        |0          |0.0            |timestamp|459         |\n",
      "|-                                    |-                            |null     |null     |null       |null           |-        |null        |\n",
      "|olist_products_dataset.csv           |product_id                   |32951    |9        |0          |0.0            |string   |32951       |\n",
      "|olist_products_dataset.csv           |product_category_name        |32951    |9        |610        |1.85           |string   |74          |\n",
      "|olist_products_dataset.csv           |product_name_lenght          |32951    |9        |610        |1.85           |int      |67          |\n",
      "|olist_products_dataset.csv           |product_description_lenght   |32951    |9        |610        |1.85           |int      |2961        |\n",
      "|olist_products_dataset.csv           |product_photos_qty           |32951    |9        |610        |1.85           |int      |20          |\n",
      "|olist_products_dataset.csv           |product_weight_g             |32951    |9        |2          |0.01           |int      |2205        |\n",
      "|olist_products_dataset.csv           |product_length_cm            |32951    |9        |2          |0.01           |int      |100         |\n",
      "|olist_products_dataset.csv           |product_height_cm            |32951    |9        |2          |0.01           |int      |103         |\n",
      "|olist_products_dataset.csv           |product_width_cm             |32951    |9        |2          |0.01           |int      |96          |\n",
      "|-                                    |-                            |null     |null     |null       |null           |-        |null        |\n",
      "|olist_sellers_dataset.csv            |seller_id                    |3095     |4        |0          |0.0            |string   |3095        |\n",
      "|olist_sellers_dataset.csv            |seller_zip_code_prefix       |3095     |4        |0          |0.0            |string   |2246        |\n",
      "|olist_sellers_dataset.csv            |seller_city                  |3095     |4        |0          |0.0            |string   |611         |\n",
      "|olist_sellers_dataset.csv            |seller_state                 |3095     |4        |0          |0.0            |string   |23          |\n",
      "|-                                    |-                            |null     |null     |null       |null           |-        |null        |\n",
      "|product_category_name_translation.csv|product_category_name        |71       |2        |0          |0.0            |string   |71          |\n",
      "|product_category_name_translation.csv|product_category_name_english|71       |2        |0          |0.0            |string   |71          |\n",
      "|-                                    |-                            |null     |null     |null       |null           |-        |null        |\n",
      "+-------------------------------------+-----------------------------+---------+---------+-----------+---------------+---------+------------+\n",
      "\n"
     ]
    }
   ],
   "source": [
    "def show_detailed_stats(df_list: List[DataFrame]):\n",
    "    columns = [\"dataset_name\", \"column_name\", \"row_count\", \"col_count\", \"null_amount\", \"null_percentage\", \"data_type\", \"unique_count\"]\n",
    "    all_df = []\n",
    "    \n",
    "    for df in df_list:\n",
    "        data = [\n",
    "            (\n",
    "                df.select(F.element_at(F.split(F.input_file_name(), \"/\"), -1)).first()[0],\n",
    "                c, \n",
    "                df.count(), \n",
    "                len(df.columns), \n",
    "                df.where(df[c].isNull()).count(), \n",
    "                round(100 * df.where(df[c].isNull()).count() / df.count(), 2),\n",
    "                dict(df.dtypes)[c], \n",
    "                df.select(c).distinct().count()\n",
    "             ) \n",
    "                 for c in df.columns\n",
    "        ]\n",
    "        all_df.extend(data)\n",
    "        all_df.append((\"-\", \"-\", \"-\", \"-\", \"-\", \"-\", \"-\", \"-\"))\n",
    "    rdd = spark.sparkContext.parallelize(all_df)\n",
    "    result_df = rdd.toDF(columns)\n",
    "    return result_df\n",
    "\n",
    "stats_df = show_detailed_stats([\n",
    "    customers_df,\n",
    "    geolocation_df,\n",
    "    order_items_df,\n",
    "    order_payments_df,\n",
    "    order_reviews_df,\n",
    "    orders_df,\n",
    "    products_df,\n",
    "    sellers_df,\n",
    "    product_category_name_translation_df,\n",
    "])\n",
    "stats_df.show(n=100, truncate=False)"
   ]
  },
  {
   "cell_type": "code",
   "execution_count": 24,
   "id": "eb3c5958-c8e6-4e0e-a137-0768f70d7ecb",
   "metadata": {},
   "outputs": [
    {
     "name": "stdout",
     "output_type": "stream",
     "text": [
      "+--------------------------------+------------------+------------+--------------------+-------------+\n",
      "|order_id                        |payment_sequential|payment_type|payment_installments|payment_value|\n",
      "+--------------------------------+------------------+------------+--------------------+-------------+\n",
      "|8272b63d03f5f79c56e9e4120aec44ef|1                 |credit_card |2                   |196.11       |\n",
      "+--------------------------------+------------------+------------+--------------------+-------------+\n",
      "\n",
      "+--------------------------------+-------------+--------------------------------+--------------------------------+-------------------+-----+-------------+\n",
      "|order_id                        |order_item_id|product_id                      |seller_id                       |shipping_limit_date|price|freight_value|\n",
      "+--------------------------------+-------------+--------------------------------+--------------------------------+-------------------+-----+-------------+\n",
      "|8272b63d03f5f79c56e9e4120aec44ef|1            |270516a3f41dc035aa87d220228f844c|2709af9587499e95e803a6498a5a56e9|2017-07-21 18:25:23|1.2  |7.89         |\n",
      "|8272b63d03f5f79c56e9e4120aec44ef|2            |05b515fdc76e888aada3c6d66c201dff|2709af9587499e95e803a6498a5a56e9|2017-07-21 18:25:23|1.2  |7.89         |\n",
      "|8272b63d03f5f79c56e9e4120aec44ef|3            |05b515fdc76e888aada3c6d66c201dff|2709af9587499e95e803a6498a5a56e9|2017-07-21 18:25:23|1.2  |7.89         |\n",
      "|8272b63d03f5f79c56e9e4120aec44ef|4            |05b515fdc76e888aada3c6d66c201dff|2709af9587499e95e803a6498a5a56e9|2017-07-21 18:25:23|1.2  |7.89         |\n",
      "|8272b63d03f5f79c56e9e4120aec44ef|5            |05b515fdc76e888aada3c6d66c201dff|2709af9587499e95e803a6498a5a56e9|2017-07-21 18:25:23|1.2  |7.89         |\n",
      "|8272b63d03f5f79c56e9e4120aec44ef|6            |05b515fdc76e888aada3c6d66c201dff|2709af9587499e95e803a6498a5a56e9|2017-07-21 18:25:23|1.2  |7.89         |\n",
      "|8272b63d03f5f79c56e9e4120aec44ef|7            |05b515fdc76e888aada3c6d66c201dff|2709af9587499e95e803a6498a5a56e9|2017-07-21 18:25:23|1.2  |7.89         |\n",
      "|8272b63d03f5f79c56e9e4120aec44ef|8            |05b515fdc76e888aada3c6d66c201dff|2709af9587499e95e803a6498a5a56e9|2017-07-21 18:25:23|1.2  |7.89         |\n",
      "|8272b63d03f5f79c56e9e4120aec44ef|9            |05b515fdc76e888aada3c6d66c201dff|2709af9587499e95e803a6498a5a56e9|2017-07-21 18:25:23|1.2  |7.89         |\n",
      "|8272b63d03f5f79c56e9e4120aec44ef|10           |05b515fdc76e888aada3c6d66c201dff|2709af9587499e95e803a6498a5a56e9|2017-07-21 18:25:23|1.2  |7.89         |\n",
      "|8272b63d03f5f79c56e9e4120aec44ef|11           |05b515fdc76e888aada3c6d66c201dff|2709af9587499e95e803a6498a5a56e9|2017-07-21 18:25:23|1.2  |7.89         |\n",
      "|8272b63d03f5f79c56e9e4120aec44ef|12           |270516a3f41dc035aa87d220228f844c|2709af9587499e95e803a6498a5a56e9|2017-07-21 18:25:23|1.2  |7.89         |\n",
      "|8272b63d03f5f79c56e9e4120aec44ef|13           |270516a3f41dc035aa87d220228f844c|2709af9587499e95e803a6498a5a56e9|2017-07-21 18:25:23|1.2  |7.89         |\n",
      "|8272b63d03f5f79c56e9e4120aec44ef|14           |270516a3f41dc035aa87d220228f844c|2709af9587499e95e803a6498a5a56e9|2017-07-21 18:25:23|1.2  |7.89         |\n",
      "|8272b63d03f5f79c56e9e4120aec44ef|15           |270516a3f41dc035aa87d220228f844c|2709af9587499e95e803a6498a5a56e9|2017-07-21 18:25:23|1.2  |7.89         |\n",
      "|8272b63d03f5f79c56e9e4120aec44ef|16           |270516a3f41dc035aa87d220228f844c|2709af9587499e95e803a6498a5a56e9|2017-07-21 18:25:23|1.2  |7.89         |\n",
      "|8272b63d03f5f79c56e9e4120aec44ef|17           |270516a3f41dc035aa87d220228f844c|2709af9587499e95e803a6498a5a56e9|2017-07-21 18:25:23|1.2  |7.89         |\n",
      "|8272b63d03f5f79c56e9e4120aec44ef|18           |270516a3f41dc035aa87d220228f844c|2709af9587499e95e803a6498a5a56e9|2017-07-21 18:25:23|1.2  |7.89         |\n",
      "|8272b63d03f5f79c56e9e4120aec44ef|19           |270516a3f41dc035aa87d220228f844c|2709af9587499e95e803a6498a5a56e9|2017-07-21 18:25:23|1.2  |7.89         |\n",
      "|8272b63d03f5f79c56e9e4120aec44ef|20           |270516a3f41dc035aa87d220228f844c|2709af9587499e95e803a6498a5a56e9|2017-07-21 18:25:23|1.2  |7.89         |\n",
      "|8272b63d03f5f79c56e9e4120aec44ef|21           |79ce45dbc2ea29b22b5a261bbb7b7ee7|2709af9587499e95e803a6498a5a56e9|2017-07-21 18:25:23|7.8  |6.57         |\n",
      "+--------------------------------+-------------+--------------------------------+--------------------------------+-------------------+-----+-------------+\n",
      "\n"
     ]
    }
   ],
   "source": [
    "order_id = \"8272b63d03f5f79c56e9e4120aec44ef\"\n",
    "order_payments_df.where(F.col(\"order_id\") == order_id).show(n=100, truncate=False)\n",
    "order_items_df.where(F.col(\"order_id\") == order_id).show(n=100, truncate=False)"
   ]
  },
  {
   "cell_type": "code",
   "execution_count": 25,
   "id": "fa5f52ab-0ba3-4911-aedf-5c405eda9af5",
   "metadata": {},
   "outputs": [
    {
     "name": "stdout",
     "output_type": "stream",
     "text": [
      "+--------------------------------+---+\n",
      "|order_id                        |cnt|\n",
      "+--------------------------------+---+\n",
      "|8ca5bdac5ebe8f2d6fc9171d5ebc906a|9  |\n",
      "|251f0a3981c4a8cb853a9cc9d6ba49ad|5  |\n",
      "|ac3b0c224349e4ca9a0b0f2e8fbc4c75|3  |\n",
      "|0fa927b252421189a0e0d5725fb3832d|4  |\n",
      "|1eed3691b23af50a487c4f8828287734|3  |\n",
      "|db97652cf517d2cd03db63dec489ca62|3  |\n",
      "|6064862631581009b8eb676bc264d91f|4  |\n",
      "|0cd93455c51655ebb590c07a06d584a1|3  |\n",
      "|27a940efdd448db29463b53ea0cfa2f4|11 |\n",
      "|54ba74414bed49a8b13864b3e8666f57|3  |\n",
      "|f1d6313ed30c82ba1523aad41c60685e|4  |\n",
      "|b293f468141dc24b16033560c8d008a6|3  |\n",
      "|465c2e1bee4561cb39e0db8c5993aafc|12 |\n",
      "|54e52a2c76449b9a634705a5ae9684a9|6  |\n",
      "|f8a8d05d951ce7e359dfd0c67f1de017|10 |\n",
      "|77f0ae10c13cc7c78a5393b27d121044|3  |\n",
      "|4d20a88009a1ccbe54db2c4c7e184228|3  |\n",
      "|591083bc42b589c7052118aa83118e76|6  |\n",
      "|b7f12e29e55ecae289d444db518400ed|3  |\n",
      "|2dc89150e25e0d36a6b80cea3c8a1290|3  |\n",
      "+--------------------------------+---+\n",
      "only showing top 20 rows\n",
      "\n"
     ]
    }
   ],
   "source": [
    "order_payments_df.groupBy(\"order_id\").agg(F.count(\"order_id\").alias(\"cnt\")).where(\"cnt > 2\").show(truncate=False)\n"
   ]
  },
  {
   "cell_type": "code",
   "execution_count": 26,
   "id": "f8e237b0-fa8e-4333-a1db-73d45a6105bc",
   "metadata": {},
   "outputs": [
    {
     "name": "stdout",
     "output_type": "stream",
     "text": [
      "+--------------------------------+------------+\n",
      "|order_id                        |total_orders|\n",
      "+--------------------------------+------------+\n",
      "|8272b63d03f5f79c56e9e4120aec44ef|21          |\n",
      "|1b15974a0141d54e36626dca3fdc731a|20          |\n",
      "|ab14fdcfbe524636d65ee38360e22ce8|20          |\n",
      "|428a2f660dc84138d969ccd69a0ab6d5|15          |\n",
      "|9ef13efd6949e4573a18964dd1bbe7f5|15          |\n",
      "|9bdc4d4c71aa1de4606060929dee888c|14          |\n",
      "|73c8ab38f07dc94389065f7eba4f297a|14          |\n",
      "|37ee401157a3a0b28c9c6d0ed8c3b24b|13          |\n",
      "|2c2a19b5703863c908512d135aa6accc|12          |\n",
      "|3a213fcdfe7d98be74ea0dc05a8b31ae|12          |\n",
      "|637617b3ffe9e2f7a2411243829226d0|12          |\n",
      "|af822dacd6f5cff7376413c03a388bb7|12          |\n",
      "|c05d6a79e55da72ca780ce90364abed9|12          |\n",
      "|6c355e2913545fa6f72c40cbca57729e|11          |\n",
      "|5a3b1c29a49756e75f1ef513383c0c12|11          |\n",
      "|71dab1155600756af6de79de92e712e3|11          |\n",
      "|7f2c22c54cbae55091a09a9653fd2b8a|11          |\n",
      "|9aec4e1ae90b23c7bf2d2b3bfafbd943|10          |\n",
      "|30bdf3d824d824610a49887486debcaf|10          |\n",
      "|f60ce04ff8060152c83c7c97e246d6a8|10          |\n",
      "+--------------------------------+------------+\n",
      "only showing top 20 rows\n",
      "\n"
     ]
    }
   ],
   "source": [
    "order_items_df.groupBy(\"order_id\").agg(F.count(\"order_id\").alias(\"total_orders\")).orderBy(F.desc(\"total_orders\")).show(truncate=False)"
   ]
  },
  {
   "cell_type": "code",
   "execution_count": 27,
   "id": "ee16ecea-c209-4be2-9029-66599415f0e9",
   "metadata": {},
   "outputs": [
    {
     "name": "stdout",
     "output_type": "stream",
     "text": [
      "+--------------------+-------------+--------------------+--------------------+-------------------+------+-------------+\n",
      "|            order_id|order_item_id|          product_id|           seller_id|shipping_limit_date| price|freight_value|\n",
      "+--------------------+-------------+--------------------+--------------------+-------------------+------+-------------+\n",
      "|8c2b13adf3f377c8f...|            1|6f59fe49d85eb1353...|977f9f63dd360c2a3...|2017-11-23 20:31:40|  90.9|        21.08|\n",
      "|8c2b13adf3f377c8f...|            2|5c818ca21204caf8c...|54965bbe3e4f07ae0...|2017-11-23 20:31:40| 160.0|        21.08|\n",
      "|8c2b13adf3f377c8f...|            3|b75ad41bddb7dc94c...|1dfe5347016252a78...|2017-11-23 20:31:40|  61.0|        21.08|\n",
      "|8c2b13adf3f377c8f...|            4|601a360bd2a916ece...|7a67c85e85bb2ce85...|2017-11-23 20:31:40|129.99|        42.16|\n",
      "+--------------------+-------------+--------------------+--------------------+-------------------+------+-------------+\n",
      "\n"
     ]
    }
   ],
   "source": [
    "# order_items_df.groupBy(\"order_id\").agg(F.countDistinct(\"seller_id\").alias(\"cnt\")).where(\"cnt > 3\").show(truncate=False)\n",
    "\n",
    "order_items_df.where(\"order_id = '8c2b13adf3f377c8f2b06b04321b0925'\").show()"
   ]
  },
  {
   "cell_type": "markdown",
   "id": "2369fb68-ad40-412b-81ba-2859375f7a69",
   "metadata": {},
   "source": [
    "## Exploratory Data Analysis (EDA)"
   ]
  },
  {
   "cell_type": "markdown",
   "id": "0111e992-bd24-4b5b-b8bd-6a02de9b3145",
   "metadata": {
    "tags": []
   },
   "source": [
    "### How many orders we have for each status?"
   ]
  },
  {
   "cell_type": "code",
   "execution_count": 29,
   "id": "8b5e1586-2e79-4771-8a36-517974898281",
   "metadata": {},
   "outputs": [
    {
     "name": "stdout",
     "output_type": "stream",
     "text": [
      "+-----------------------------+----------+\n",
      "|order_estimated_delivery_date|        dt|\n",
      "+-----------------------------+----------+\n",
      "|          2017-10-18 00:00:00|2017-10-18|\n",
      "|          2018-08-13 00:00:00|2018-08-13|\n",
      "|          2018-09-04 00:00:00|2018-09-04|\n",
      "|          2017-12-15 00:00:00|2017-12-15|\n",
      "|          2018-02-26 00:00:00|2018-02-26|\n",
      "|          2017-08-01 00:00:00|2017-08-01|\n",
      "|          2017-05-09 00:00:00|2017-05-09|\n",
      "|          2017-06-07 00:00:00|2017-06-07|\n",
      "|          2017-03-06 00:00:00|2017-03-06|\n",
      "|          2017-08-23 00:00:00|2017-08-23|\n",
      "|          2017-06-07 00:00:00|2017-06-07|\n",
      "|          2017-08-08 00:00:00|2017-08-08|\n",
      "|          2018-07-18 00:00:00|2018-07-18|\n",
      "|          2018-08-08 00:00:00|2018-08-08|\n",
      "|          2018-03-21 00:00:00|2018-03-21|\n",
      "|          2018-07-04 00:00:00|2018-07-04|\n",
      "|          2018-02-06 00:00:00|2018-02-06|\n",
      "|          2018-01-29 00:00:00|2018-01-29|\n",
      "|          2017-12-11 00:00:00|2017-12-11|\n",
      "|          2017-11-23 00:00:00|2017-11-23|\n",
      "+-----------------------------+----------+\n",
      "only showing top 20 rows\n",
      "\n"
     ]
    },
    {
     "name": "stderr",
     "output_type": "stream",
     "text": [
      "----------------------------------------\n",
      "Exception occurred during processing of request from ('127.0.0.1', 43394)\n",
      "Traceback (most recent call last):\n",
      "  File \"/opt/conda/lib/python3.9/socketserver.py\", line 316, in _handle_request_noblock\n",
      "    self.process_request(request, client_address)\n",
      "  File \"/opt/conda/lib/python3.9/socketserver.py\", line 347, in process_request\n",
      "    self.finish_request(request, client_address)\n",
      "  File \"/opt/conda/lib/python3.9/socketserver.py\", line 360, in finish_request\n",
      "    self.RequestHandlerClass(request, client_address, self)\n",
      "  File \"/opt/conda/lib/python3.9/socketserver.py\", line 747, in __init__\n",
      "    self.handle()\n",
      "  File \"/usr/local/spark/python/pyspark/accumulators.py\", line 281, in handle\n",
      "    poll(accum_updates)\n",
      "  File \"/usr/local/spark/python/pyspark/accumulators.py\", line 253, in poll\n",
      "    if func():\n",
      "  File \"/usr/local/spark/python/pyspark/accumulators.py\", line 257, in accum_updates\n",
      "    num_updates = read_int(self.rfile)\n",
      "  File \"/usr/local/spark/python/pyspark/serializers.py\", line 596, in read_int\n",
      "    raise EOFError\n",
      "EOFError\n",
      "----------------------------------------\n"
     ]
    }
   ],
   "source": [
    "orders_df.select(F.col(\"order_estimated_delivery_date\"), F.date_format(F.col(\"order_estimated_delivery_date\"), \"yyyy-MM-dd\").alias(\"dt\")).show()"
   ]
  },
  {
   "cell_type": "code",
   "execution_count": 28,
   "id": "0f5958b8-c866-4bac-aac1-36c863107bd1",
   "metadata": {},
   "outputs": [
    {
     "name": "stdout",
     "output_type": "stream",
     "text": [
      "+------------+------------+\n",
      "|order_status|total_orders|\n",
      "+------------+------------+\n",
      "|   delivered|       96478|\n",
      "|     shipped|        1107|\n",
      "|    canceled|         625|\n",
      "| unavailable|         609|\n",
      "|    invoiced|         314|\n",
      "|  processing|         301|\n",
      "|     created|           5|\n",
      "|    approved|           2|\n",
      "+------------+------------+\n",
      "\n"
     ]
    }
   ],
   "source": [
    "orders_df.groupBy(\"order_status\") \\\n",
    "    .agg(F.count(F.col(\"order_id\")).alias(\"total_orders\")) \\\n",
    "    .orderBy(F.desc(\"total_orders\")) \\\n",
    "    .show()"
   ]
  },
  {
   "cell_type": "markdown",
   "id": "7a404468-feec-48a0-922d-f6fdf63b4c57",
   "metadata": {
    "tags": []
   },
   "source": [
    "### What is the total number of orders per month, per week, per time of the day (Dawn, Morning, Afternoon, Night)?\n",
    "\n",
    "Line Chart\n",
    "\n",
    "1. Is there any growing trend on brazilian e-commerce?\n",
    "2. On what day of week brazilians customers tend to do online purchasing?\n",
    "3. What time brazilians customers tend do buy (Dawn, Morning, Afternoon or Night)?"
   ]
  },
  {
   "cell_type": "markdown",
   "id": "c872a21a-b4f1-40e5-a07d-c7e83d1ddfc8",
   "metadata": {},
   "source": [
    "#### Transform the order_purchase_timestamp to get the following:\n",
    "\n",
    "Date Dimension:\n",
    "\n",
    "- Year Month\n",
    "- Day of Week\n",
    "- Time of Day"
   ]
  },
  {
   "cell_type": "code",
   "execution_count": null,
   "id": "c0f79490-a72d-4d8c-852b-6b05bb89a178",
   "metadata": {},
   "outputs": [],
   "source": [
    "orders_processed_df = orders_df.withColumn(\"year\", F.date_format(F.col(\"order_purchase_timestamp\"), \"yyyy\")) \\\n",
    "    .withColumn(\"year_month\", F.date_format(F.col(\"order_purchase_timestamp\"), \"yyyyMM\")) \\\n",
    "    .withColumn(\"day_of_week\", F.date_format(F.col(\"order_purchase_timestamp\"), \"EEE\")) \\\n",
    "    .withColumn(\n",
    "        \"time_of_day\",\n",
    "        F.when(\n",
    "            F.date_format(F.col(\"order_purchase_timestamp\"), \"HH:mm\").between(\"00:01\", \"05:00\"), \"Dawn\"\n",
    "        ).when(\n",
    "            F.date_format(F.col(\"order_purchase_timestamp\"), \"HH:mm\").between(\"05:01\", \"11:59\"), \"Morning\"\n",
    "        ).when(\n",
    "            F.date_format(F.col(\"order_purchase_timestamp\"), \"HH:mm\").between(\"12:00\", \"18:00\"), \"Afternoon\"\n",
    "        ).when(\n",
    "            F.date_format(F.col(\"order_purchase_timestamp\"), \"HH:mm\").between(\"18:01\", \"24:00\"), \"Night\"\n",
    "        )\n",
    "    )"
   ]
  },
  {
   "cell_type": "markdown",
   "id": "56e7c630-8857-48de-be4b-3771d413ca80",
   "metadata": {},
   "source": [
    "### Create a Comparison Between 2017 and 2018 Total Orders (Month by Month and YoY)"
   ]
  },
  {
   "cell_type": "code",
   "execution_count": null,
   "id": "79dfc14d-757e-4ed9-93f4-0d481b4bf5b5",
   "metadata": {},
   "outputs": [],
   "source": [
    "orders_processed_df.groupBy(\"year_month\") \\\n",
    "    .agg(F.count(\"order_id\").alias(\"total_orders\")) \\\n",
    "    .orderBy(\"year_month\") \\\n",
    "    .show()"
   ]
  },
  {
   "cell_type": "code",
   "execution_count": null,
   "id": "0125ee94-d1ad-4385-990c-400f32299d60",
   "metadata": {},
   "outputs": [],
   "source": [
    "orders_processed_df.groupBy(\"year\") \\\n",
    "    .agg(F.count(\"order_id\").alias(\"total_orders\")) \\\n",
    "    .orderBy(\"year\") \\\n",
    "    .show()"
   ]
  },
  {
   "cell_type": "markdown",
   "id": "8298e6d6-7556-44f7-90c6-b49830297c28",
   "metadata": {},
   "source": [
    "### Geospatial Visualization"
   ]
  },
  {
   "cell_type": "markdown",
   "id": "c8b98dfa-2f1a-41c5-940b-12cf51103d63",
   "metadata": {},
   "source": [
    "#### Data Processing Required\n",
    "1. Merge the orders data to order_items data;\n",
    "2. Use an API (brazilian government) to return the region of each customer_state;\n",
    "3. Replace portuguese phonetic with regular english letters.\n",
    "4. Purpose useful charts to answear business questions."
   ]
  },
  {
   "cell_type": "code",
   "execution_count": null,
   "id": "a5aa1cc7-6b8b-4b1d-8db0-a6b9bc3a7be0",
   "metadata": {},
   "outputs": [],
   "source": [
    "regions = {'AC': 'North', 'RO': 'North', 'AM': 'North', 'RR': 'North', 'PA': 'North', 'AP': 'North', 'TO': 'North', 'MT': 'Center-West', 'GO': 'Center-West', 'DF': 'Center-West', 'MS': 'Center-West', 'MA': 'Northeast', 'PI': 'Northeast', 'BA': 'Northeast', 'SE': 'Northeast', 'AL': 'Northeast', 'PE': 'Northeast', 'PB': 'Northeast', 'RN': 'Northeast', 'CE': 'Northeast', 'SP': 'Southeast', 'MG': 'Southeast', 'ES': 'Southeast', 'RJ': 'Southeast', 'PR': 'South', 'SC': 'South', 'RS': 'South'}\n",
    "\n",
    "def map_region(state: str) -> str:\n",
    "    return regions.get(state)"
   ]
  },
  {
   "cell_type": "code",
   "execution_count": null,
   "id": "a038d73c-70b5-412d-94f3-b3e716db7728",
   "metadata": {},
   "outputs": [],
   "source": [
    "udf_map_region = F.udf(map_region, StringType())\n",
    "udf_normalize_phonetic = F.udf(unidecode, StringType())"
   ]
  },
  {
   "cell_type": "code",
   "execution_count": null,
   "id": "4158c9ee-5a68-4ad9-b1b4-4652c1624a12",
   "metadata": {},
   "outputs": [],
   "source": [
    "geolocation_df = geolocation_df.withColumn(\"region\", udf_map_region(F.col(\"geolocation_state\"))) \\\n",
    "    .withColumn(\"geolocation_city\", udf_normalize_phonetic(F.col(\"geolocation_city\")))"
   ]
  },
  {
   "cell_type": "markdown",
   "id": "578b4fee-9107-4f46-b752-26881c9f7ac3",
   "metadata": {},
   "source": [
    "#### Total Number of Customer Order by Region, State, City\n",
    "\n",
    "- Comparison of Each Region Orders per Month\n",
    "- Top 10 Brazilian Cities with More Orders\n",
    "- Total of Customers Orders by State"
   ]
  },
  {
   "cell_type": "code",
   "execution_count": null,
   "id": "adf84750-45e4-46ba-af4c-927e827ec9eb",
   "metadata": {},
   "outputs": [],
   "source": [
    "orders_processed_df.selectExpr(\"year_month\", \"order_id\", \"customer_id AS order_customer_id\") \\\n",
    "    .join(customers_df, F.col(\"customer_id\") == F.col(\"order_customer_id\"), \"inner\") \\\n",
    "    .join(geolocation_df, F.col(\"customer_zip_code_prefix\") == F.col(\"geolocation_zip_code_prefix\"), \"inner\") \\\n",
    "    .groupBy(\"year_month\", \"region\") \\\n",
    "    .agg(F.count(\"order_id\").alias(\"total_orders\")).show()\n"
   ]
  },
  {
   "cell_type": "code",
   "execution_count": null,
   "id": "b72459df-d5e4-4ea3-9ed5-f677e34027a3",
   "metadata": {},
   "outputs": [],
   "source": [
    "orders_processed_df.selectExpr(\"year_month\", \"order_id\", \"customer_id AS order_customer_id\") \\\n",
    "    .join(customers_df, F.col(\"customer_id\") == F.col(\"order_customer_id\"), \"inner\") \\\n",
    "    .join(geolocation_df, F.col(\"customer_zip_code_prefix\") == F.col(\"geolocation_zip_code_prefix\"), \"inner\") \\\n",
    "    .groupBy(\"year_month\", \"geolocation_state\") \\\n",
    "    .agg(F.count(\"order_id\").alias(\"total_orders\")).show()\n"
   ]
  },
  {
   "cell_type": "code",
   "execution_count": null,
   "id": "b15944a8-dc6a-45d8-851a-780f80eafc41",
   "metadata": {},
   "outputs": [],
   "source": [
    "orders_processed_df.selectExpr(\"year_month\", \"order_id\", \"customer_id AS order_customer_id\") \\\n",
    "    .join(customers_df, F.col(\"customer_id\") == F.col(\"order_customer_id\"), \"inner\") \\\n",
    "    .join(geolocation_df, F.col(\"customer_zip_code_prefix\") == F.col(\"geolocation_zip_code_prefix\"), \"inner\") \\\n",
    "    .groupBy(\"year_month\", \"geolocation_city\") \\\n",
    "    .agg(F.count(\"order_id\").alias(\"total_orders\")).show()\n"
   ]
  },
  {
   "cell_type": "markdown",
   "id": "a80b7f2e-504e-47e2-ba3e-7147bd50c6a7",
   "metadata": {},
   "source": [
    "#### How customers are distributed in Brazil? (Map and Heatmap)"
   ]
  },
  {
   "cell_type": "code",
   "execution_count": null,
   "id": "9d9b71d0-26cf-4af2-aaf4-f675aeabaf84",
   "metadata": {},
   "outputs": [],
   "source": [
    "### Dimensional Modeling"
   ]
  },
  {
   "cell_type": "markdown",
   "id": "952afbac-d6dc-47a3-88c4-51cd3e0f394e",
   "metadata": {},
   "source": [
    "#### Total Orders vs. Total Amount Sold\n",
    "- Per Month (Line)\n",
    "- Per year (Number)"
   ]
  },
  {
   "cell_type": "code",
   "execution_count": null,
   "id": "6a6c4b26-59de-4544-bc49-01ddf47209f0",
   "metadata": {},
   "outputs": [],
   "source": [
    "orders_processed_df.selectExpr(\"year_month\", \"year\", \"order_id\", \"customer_id AS order_customer_id\") \\\n",
    "    .join(order_items_df, order_items_df[\"order_id\"] == orders_df[\"order_id\"], \"inner\") \\\n",
    "    .groupBy(\"year_month\") \\\n",
    "    .agg(F.round(F.sum(order_items_df[\"price\"]), 2).alias(\"total_amount_sold\")) \\\n",
    "    .show()\n"
   ]
  },
  {
   "cell_type": "code",
   "execution_count": null,
   "id": "b8ee9a94-95d5-4ec1-aa24-931a12648991",
   "metadata": {},
   "outputs": [],
   "source": [
    "orders_processed_df.selectExpr(\"year_month\", \"year\", \"order_id\", \"customer_id AS order_customer_id\") \\\n",
    "    .join(order_items_df, order_items_df[\"order_id\"] == orders_df[\"order_id\"], \"inner\") \\\n",
    "    .groupBy(\"year\") \\\n",
    "    .agg(F.round(F.sum(order_items_df[\"price\"]), 2).alias(\"total_amount_sold\")) \\\n",
    "    .show()\n"
   ]
  },
  {
   "cell_type": "markdown",
   "id": "396f1c87-bc31-49e1-99d2-357419cdf4f5",
   "metadata": {},
   "source": [
    "#### How the total sales (sum of price) are concentraded in brazilian states?\n",
    "\n",
    "- Average price per Customer State\n",
    "- Total price by Customer State"
   ]
  },
  {
   "cell_type": "code",
   "execution_count": null,
   "id": "eb025135-c74b-467e-b2b7-fc63162b1798",
   "metadata": {},
   "outputs": [],
   "source": [
    "orders_processed_df.selectExpr(\"year_month\", \"order_id\", \"customer_id AS order_customer_id\") \\\n",
    "    .join(customers_df, F.col(\"customer_id\") == F.col(\"order_customer_id\"), \"inner\") \\\n",
    "    .join(geolocation_df, F.col(\"customer_zip_code_prefix\") == F.col(\"geolocation_zip_code_prefix\"), \"inner\") \\\n",
    "    .join(order_items_df, order_items_df[\"order_id\"] == orders_df[\"order_id\"], \"inner\") \\\n",
    "    .groupBy(\"geolocation_state\") \\\n",
    "    .agg(F.round(F.sum(order_items_df[\"price\"]), 2).alias(\"total_price\"), F.round(F.mean(order_items_df[\"price\"]), 2).alias(\"average_price\")).show()\n"
   ]
  },
  {
   "cell_type": "markdown",
   "id": "6f962605-b237-49e7-8b4c-e1125bf9aa65",
   "metadata": {},
   "source": [
    "#### What are the best states to buy in Brazil? An analysis on sales, freight and delivery time\n",
    "\n",
    "- Average Freight Paid for Online Shopping\n",
    "- Top 5 States with Highest Avg Freight Value\n",
    "- Top 5 States with Lowest Average Freight Value\n",
    "\n",
    "- Average Delay (days) for delivery for online shopping\n",
    "- Top 5 States with Highest Average Time to Delivery\n",
    "- Top 5 States with Lowest Average Time to Delivery\n",
    "- Average Difference between delivery and estimated date\n",
    "- Top 5 States Delivery is Really Fast\n",
    "- Top 5 States Delivery is not so Fast\n"
   ]
  },
  {
   "cell_type": "code",
   "execution_count": null,
   "id": "f6a3a09e-4349-4e28-8f51-d5874e66b6da",
   "metadata": {},
   "outputs": [],
   "source": [
    "order_items_df.agg(F.mean(\"freight_value\").alias(\"average_freight_paid\")).show()"
   ]
  },
  {
   "cell_type": "code",
   "execution_count": null,
   "id": "8e2240e0-2626-4665-a99a-058da20dad90",
   "metadata": {},
   "outputs": [],
   "source": [
    "order_items_df.join(orders_df, orders_df[\"order_id\"] == order_items_df[\"order_id\"], \"inner\") \\\n",
    "    .join(customers_df, customers_df[\"customer_id\"] == orders_df[\"customer_id\"], \"inner\") \\\n",
    "    .join(geolocation_df, F.col(\"customer_zip_code_prefix\") == F.col(\"geolocation_zip_code_prefix\"), \"inner\") \\\n",
    "    .groupBy(\"geolocation_state\") \\\n",
    "    .agg(F.mean(\"freight_value\").alias(\"average_freight_paid\")) \\\n",
    "    .orderBy(F.desc(\"average_freight_paid\")).show(n=5)"
   ]
  },
  {
   "cell_type": "code",
   "execution_count": null,
   "id": "d0d4d800-4a90-4e9b-bef9-bcb651f9ff5a",
   "metadata": {},
   "outputs": [],
   "source": [
    "order_items_df.join(orders_df, orders_df[\"order_id\"] == order_items_df[\"order_id\"], \"inner\") \\\n",
    "    .join(customers_df, customers_df[\"customer_id\"] == orders_df[\"customer_id\"], \"inner\") \\\n",
    "    .join(geolocation_df, F.col(\"customer_zip_code_prefix\") == F.col(\"geolocation_zip_code_prefix\"), \"inner\") \\\n",
    "    .groupBy(\"geolocation_state\") \\\n",
    "    .agg(F.mean(\"freight_value\").alias(\"average_freight_paid\")) \\\n",
    "    .orderBy(\"average_freight_paid\").show(n=5)"
   ]
  },
  {
   "cell_type": "code",
   "execution_count": null,
   "id": "78b85006-1795-4368-a1d6-e37cec176148",
   "metadata": {},
   "outputs": [],
   "source": [
    "orders_df.withColumn(\"time_to_deliver\", F.datediff(F.col(\"order_delivered_customer_date\"), F.col(\"order_purchase_timestamp\"))) \\\n",
    "    .agg(F.mean(\"time_to_deliver\").alias(\"avg_time_to_deliver\")) \\\n",
    "    .show()"
   ]
  },
  {
   "cell_type": "code",
   "execution_count": null,
   "id": "31643d79-d351-405d-b31d-af2ecbeee5bf",
   "metadata": {},
   "outputs": [],
   "source": [
    "orders_df.withColumn(\"time_to_deliver\", F.datediff(F.col(\"order_delivered_customer_date\"), F.col(\"order_purchase_timestamp\"))) \\\n",
    "    .join(customers_df, customers_df[\"customer_id\"] == orders_df[\"customer_id\"], \"inner\") \\\n",
    "    .join(geolocation_df, geolocation_df[\"geolocation_zip_code_prefix\"] == customers_df[\"customer_zip_code_prefix\"], \"inner\") \\\n",
    "    .groupBy(\"geolocation_state\") \\\n",
    "    .agg(F.round(F.mean(\"time_to_deliver\"), 2).alias(\"avg_time_to_deliver\")) \\\n",
    "    .orderBy(\"avg_time_to_deliver\") \\\n",
    "    .show(n=5)"
   ]
  },
  {
   "cell_type": "code",
   "execution_count": null,
   "id": "d9f96085-382d-438d-85fb-f3eb874fb5fb",
   "metadata": {},
   "outputs": [],
   "source": [
    "orders_df.withColumn(\"time_to_deliver\", F.datediff(F.col(\"order_delivered_customer_date\"), F.col(\"order_purchase_timestamp\"))) \\\n",
    "    .join(customers_df, customers_df[\"customer_id\"] == orders_df[\"customer_id\"], \"inner\") \\\n",
    "    .join(geolocation_df, geolocation_df[\"geolocation_zip_code_prefix\"] == customers_df[\"customer_zip_code_prefix\"], \"inner\") \\\n",
    "    .groupBy(\"geolocation_state\") \\\n",
    "    .agg(F.round(F.mean(\"time_to_deliver\"), 2).alias(\"avg_time_to_deliver\")) \\\n",
    "    .orderBy(F.desc(\"avg_time_to_deliver\")) \\\n",
    "    .show(n=5)"
   ]
  },
  {
   "cell_type": "code",
   "execution_count": null,
   "id": "6b5588e4-bd2e-4004-93e5-372fe6dd68c7",
   "metadata": {},
   "outputs": [],
   "source": [
    "orders_df.withColumn(\"delivery_delay\", F.datediff(F.col(\"order_delivered_customer_date\"), F.col(\"order_estimated_delivery_date\"))) \\\n",
    "    .where(F.expr(\"delivery_delay > 0\")) \\\n",
    "    .agg(F.mean(\"delivery_delay\").alias(\"avg_days_delay\")) \\\n",
    "    .show()"
   ]
  },
  {
   "cell_type": "code",
   "execution_count": null,
   "id": "d7a2e720-3afe-4d10-8d58-ff135427caa0",
   "metadata": {},
   "outputs": [],
   "source": [
    "orders_df.withColumn(\"delivery_delay\", F.datediff(F.col(\"order_delivered_customer_date\"), F.col(\"order_estimated_delivery_date\"))) \\\n",
    "    .join(customers_df, customers_df[\"customer_id\"] == orders_df[\"customer_id\"], \"inner\") \\\n",
    "    .join(geolocation_df, geolocation_df[\"geolocation_zip_code_prefix\"] == customers_df[\"customer_zip_code_prefix\"], \"inner\") \\\n",
    "    .where(F.expr(\"delivery_delay > 0\")) \\\n",
    "    .groupBy(\"geolocation_state\") \\\n",
    "    .agg(F.round(F.mean(\"delivery_delay\"), 2).alias(\"avg_days_delay\")) \\\n",
    "    .orderBy(F.desc(\"avg_days_delay\")) \\\n",
    "    .show(n=5)"
   ]
  },
  {
   "cell_type": "code",
   "execution_count": null,
   "id": "490c21a9-4dd7-4008-8776-19b21fb72b98",
   "metadata": {},
   "outputs": [],
   "source": [
    "orders_df.withColumn(\"delivery_delay\", F.datediff(F.col(\"order_delivered_customer_date\"), F.col(\"order_estimated_delivery_date\"))) \\\n",
    "    .join(customers_df, customers_df[\"customer_id\"] == orders_df[\"customer_id\"], \"inner\") \\\n",
    "    .join(geolocation_df, geolocation_df[\"geolocation_zip_code_prefix\"] == customers_df[\"customer_zip_code_prefix\"], \"inner\") \\\n",
    "    .where(F.expr(\"delivery_delay > 0\")) \\\n",
    "    .groupBy(\"geolocation_state\") \\\n",
    "    .agg(F.round(F.mean(\"delivery_delay\"), 2).alias(\"avg_days_delay\")) \\\n",
    "    .orderBy(\"avg_days_delay\") \\\n",
    "    .show(n=5)"
   ]
  },
  {
   "cell_type": "markdown",
   "id": "e5c16080-53ac-4886-b84b-76e681a489ec",
   "metadata": {},
   "source": [
    "## Payment Type Analysis\n",
    "\n",
    "- Total Transactions by Payment Type\n",
    "- Distribution of Payment Installments\n",
    "- Total Orders Purcharsed By Month"
   ]
  },
  {
   "cell_type": "code",
   "execution_count": null,
   "id": "75b551dc-22d1-4e02-8d67-f9e5557ede6f",
   "metadata": {},
   "outputs": [],
   "source": [
    "order_payments_df.groupBy(\"payment_type\") \\\n",
    "    .agg(F.count(\"order_id\").alias(\"total_orders\")) \\\n",
    "    .orderBy(F.desc(\"total_orders\")).show()"
   ]
  },
  {
   "cell_type": "code",
   "execution_count": null,
   "id": "908da764-ab1d-4ecc-908a-556ff7e20aed",
   "metadata": {},
   "outputs": [],
   "source": [
    "order_payments_df.groupBy(\"payment_installments\") \\\n",
    "    .agg(F.count(\"order_id\").alias(\"total_orders\")) \\\n",
    "    .orderBy(\"payment_installments\").show()"
   ]
  },
  {
   "cell_type": "code",
   "execution_count": null,
   "id": "c412ff20-5b6d-4b77-989e-2a5b6ee1d4d5",
   "metadata": {},
   "outputs": [],
   "source": [
    "orders_processed_df.join(order_payments_df, order_payments_df[\"order_id\"] == orders_df[\"order_id\"], \"inner\") \\\n",
    "    .groupBy(\"year_month\") \\\n",
    "    .agg(F.round(F.sum(\"payment_value\"), 2).alias(\"total_payment\")) \\\n",
    "    .orderBy(F.desc(\"year_month\")).show()"
   ]
  }
 ],
 "metadata": {
  "kernelspec": {
   "display_name": "Python 3 (ipykernel)",
   "language": "python",
   "name": "python3"
  },
  "language_info": {
   "codemirror_mode": {
    "name": "ipython",
    "version": 3
   },
   "file_extension": ".py",
   "mimetype": "text/x-python",
   "name": "python",
   "nbconvert_exporter": "python",
   "pygments_lexer": "ipython3",
   "version": "3.9.13"
  },
  "toc-autonumbering": false,
  "toc-showcode": false,
  "toc-showmarkdowntxt": true
 },
 "nbformat": 4,
 "nbformat_minor": 5
}
