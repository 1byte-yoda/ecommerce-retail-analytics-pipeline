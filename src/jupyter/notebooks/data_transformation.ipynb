{
 "cells": [
  {
   "cell_type": "code",
   "execution_count": 67,
   "id": "a46204c0-e06d-40cc-883f-7fbf48f18be9",
   "metadata": {},
   "outputs": [
    {
     "name": "stdout",
     "output_type": "stream",
     "text": [
      "Requirement already satisfied: delta_spark in /opt/conda/lib/python3.11/site-packages (2.4.0)\n",
      "Collecting nltk\n",
      "  Downloading nltk-3.8.1-py3-none-any.whl (1.5 MB)\n",
      "\u001b[2K     \u001b[90m━━━━━━━━━━━━━━━━━━━━━━━━━━━━━━━━━━━━━━━━\u001b[0m \u001b[32m1.5/1.5 MB\u001b[0m \u001b[31m1.6 MB/s\u001b[0m eta \u001b[36m0:00:00\u001b[0m00:01\u001b[0m00:01\u001b[0m\n",
      "\u001b[?25hRequirement already satisfied: pyspark<3.5.0,>=3.4.0 in /usr/local/spark/python (from delta_spark) (3.4.1)\n",
      "Requirement already satisfied: importlib-metadata>=1.0.0 in /opt/conda/lib/python3.11/site-packages (from delta_spark) (6.8.0)\n",
      "Requirement already satisfied: click in /opt/conda/lib/python3.11/site-packages (from nltk) (8.1.7)\n",
      "Requirement already satisfied: joblib in /opt/conda/lib/python3.11/site-packages (from nltk) (1.3.2)\n",
      "Collecting regex>=2021.8.3 (from nltk)\n",
      "  Obtaining dependency information for regex>=2021.8.3 from https://files.pythonhosted.org/packages/2c/8d/3a99825e156744b85b031c1ea966051b85422d13972ed7cd2cd440e0c6c4/regex-2023.8.8-cp311-cp311-manylinux_2_17_x86_64.manylinux2014_x86_64.whl.metadata\n",
      "  Downloading regex-2023.8.8-cp311-cp311-manylinux_2_17_x86_64.manylinux2014_x86_64.whl.metadata (40 kB)\n",
      "\u001b[2K     \u001b[90m━━━━━━━━━━━━━━━━━━━━━━━━━━━━━━━━━━━━━━━━\u001b[0m \u001b[32m40.9/40.9 kB\u001b[0m \u001b[31m4.4 MB/s\u001b[0m eta \u001b[36m0:00:00\u001b[0m\n",
      "\u001b[?25hRequirement already satisfied: tqdm in /opt/conda/lib/python3.11/site-packages (from nltk) (4.66.1)\n",
      "Requirement already satisfied: zipp>=0.5 in /opt/conda/lib/python3.11/site-packages (from importlib-metadata>=1.0.0->delta_spark) (3.16.2)\n",
      "Requirement already satisfied: py4j==0.10.9.7 in /opt/conda/lib/python3.11/site-packages (from pyspark<3.5.0,>=3.4.0->delta_spark) (0.10.9.7)\n",
      "Downloading regex-2023.8.8-cp311-cp311-manylinux_2_17_x86_64.manylinux2014_x86_64.whl (782 kB)\n",
      "\u001b[2K   \u001b[90m━━━━━━━━━━━━━━━━━━━━━━━━━━━━━━━━━━━━━━━━\u001b[0m \u001b[32m782.4/782.4 kB\u001b[0m \u001b[31m2.3 MB/s\u001b[0m eta \u001b[36m0:00:00\u001b[0ma \u001b[36m0:00:01\u001b[0m\n",
      "\u001b[?25hInstalling collected packages: regex, nltk\n",
      "Successfully installed nltk-3.8.1 regex-2023.8.8\n",
      "Note: you may need to restart the kernel to use updated packages.\n"
     ]
    }
   ],
   "source": [
    "%pip install delta_spark nltk"
   ]
  },
  {
   "cell_type": "code",
   "execution_count": 3,
   "id": "ba84ad77-d964-409c-a4e8-a0ed3f86300e",
   "metadata": {},
   "outputs": [],
   "source": [
    "from pathlib import Path"
   ]
  },
  {
   "cell_type": "code",
   "execution_count": 4,
   "id": "d6c16bf7-8201-4337-b074-7b44e451c00c",
   "metadata": {},
   "outputs": [],
   "source": [
    "from pyspark.sql import SparkSession\n",
    "from pyspark.sql.types import StructType, StructField, StringType, ArrayType, BooleanType, IntegerType, FloatType\n",
    "from pyspark.sql import functions as F\n",
    "from pyspark.sql.window import Window\n",
    "from delta.pip_utils import configure_spark_with_delta_pip"
   ]
  },
  {
   "cell_type": "code",
   "execution_count": 5,
   "id": "de581664-0f70-4ecb-8dba-c00aec977934",
   "metadata": {},
   "outputs": [],
   "source": [
    "JAR_PACKAGES = \",\".join([str(x) for x in Path(\"../jars\").glob(\"*.jar\")])"
   ]
  },
  {
   "cell_type": "code",
   "execution_count": 6,
   "id": "6306aece-757c-4e72-b9bf-bff90bb4f409",
   "metadata": {},
   "outputs": [],
   "source": [
    "builder = SparkSession.builder.appName(\"delta\").master(\"spark://spark:7077\") \\\n",
    "    .config(\"hive.metastore.uris\", \"thrift://hive-metastore:9083\") \\\n",
    "    .config(\"spark.jars\", JAR_PACKAGES) \\\n",
    "    .config(\"spark.sql.extensions\", \"io.delta.sql.DeltaSparkSessionExtension\") \\\n",
    "    .config(\"spark.sql.catalog.spark_catalog\", \"org.apache.spark.sql.delta.catalog.DeltaCatalog\") \\\n",
    "    .config(\"spark.sql.extensions\",\"io.delta.sql.DeltaSparkSessionExtension\") \\\n",
    "    .config(\"spark.sql.catalog.spark_catalog\",\"org.apache.spark.sql.delta.catalog.DeltaCatalog\") \\\n",
    "    .config(\"spark.hadoop.fs.s3a.access.key\",\"datalake\") \\\n",
    "    .config(\"spark.hadoop.fs.s3a.secret.key\",\"datalake\") \\\n",
    "    .config(\"spark.hadoop.fs.s3a.endpoint\",\"http://minio:9000\") \\\n",
    "    .config(\"spark.hadoop.fs.s3a.path.style.access\", \"true\") \\\n",
    "    .config(\"spark.hadoop.fs.s3a.impl\", \"org.apache.hadoop.fs.s3a.S3AFileSystem\")"
   ]
  },
  {
   "cell_type": "code",
   "execution_count": 7,
   "id": "3e58d7f1-bb19-4b76-9858-d6504252f0c9",
   "metadata": {},
   "outputs": [],
   "source": [
    "spark = configure_spark_with_delta_pip(builder).enableHiveSupport().getOrCreate()"
   ]
  },
  {
   "cell_type": "code",
   "execution_count": 8,
   "id": "387f9957-c027-4d52-a4ed-065ab1ccb4f5",
   "metadata": {},
   "outputs": [],
   "source": [
    "ecommerce_schema = StructType([\n",
    "    StructField(\"unique_id\", StringType(), False),\n",
    "    StructField(\"crawl_timestamp\", StringType()),\n",
    "    StructField(\"product_url\", StringType()),\n",
    "    StructField(\"product_name\", StringType()),\n",
    "    StructField(\"product_category_tree\", StringType()),\n",
    "    StructField(\"product_id\", StringType()),\n",
    "    StructField(\"retail_price\", FloatType()),\n",
    "    StructField(\"discounted_price\", FloatType()),\n",
    "    StructField(\"image\", StringType()),\n",
    "    StructField(\"is_fk_advantage_product\", StringType()),\n",
    "    StructField(\"description\", StringType()),\n",
    "    StructField(\"product_rating\", StringType()),\n",
    "    StructField(\"overall_rating\", StringType()),\n",
    "    StructField(\"brand\", StringType()),\n",
    "    StructField(\"product_specifications\", StringType())\n",
    "])\n",
    "dict_specs_schema = ArrayType(StructType([\n",
    "    StructField(\"key\", StringType()),\n",
    "    StructField(\"value\", StringType()),\n",
    "]))"
   ]
  },
  {
   "cell_type": "code",
   "execution_count": 9,
   "id": "a1280f68-b4d7-438b-b884-24902105dbf7",
   "metadata": {},
   "outputs": [],
   "source": [
    "bronze_container_path = \"s3a://bronze\"\n",
    "\n",
    "df = spark.read.format(\"csv\") \\\n",
    "    .option(\"escape\", '\"') \\\n",
    "    .option(\"multiLine\", True) \\\n",
    "    .option(\"header\", True) \\\n",
    "    .schema(ecommerce_schema) \\\n",
    "    .load(f\"{bronze_container_path}/flipkart_ecommerce.csv\")"
   ]
  },
  {
   "cell_type": "markdown",
   "id": "ca28c254-997c-4687-a7de-b59eb560fce5",
   "metadata": {},
   "source": [
    "### Product Category Tree"
   ]
  },
  {
   "cell_type": "code",
   "execution_count": 10,
   "id": "674e44bc-5670-4ad9-87e7-55fd3f0f3a42",
   "metadata": {},
   "outputs": [
    {
     "data": {
      "text/plain": [
       "20000"
      ]
     },
     "execution_count": 10,
     "metadata": {},
     "output_type": "execute_result"
    }
   ],
   "source": [
    "def convert_category_tree_to_list(category_df):\n",
    "    category_tree_column = F.from_json(F.col(\"product_category_tree\"), ArrayType(elementType=StringType())).getItem(0)\n",
    "    return category_df.withColumn(\"product_category_tree\", F.split(category_tree_column, \">>\"))\n",
    "\n",
    "\n",
    "modified_category_df = convert_category_tree_to_list(category_df=df)\n",
    "\n",
    "main_category_window_spec = Window.orderBy(\"main_category\")\n",
    "category_window_spec = Window.orderBy(\"category\")\n",
    "sub_category_window_spec = Window.orderBy(\"sub_category\")\n",
    "\n",
    "modified_category_df = modified_category_df.select(\n",
    "    F.col(\"*\"),\n",
    "    F.col(\"product_category_tree\").getItem(0).alias(\"main_category\"),\n",
    "    F.col(\"product_category_tree\").getItem(1).alias(\"category\"),\n",
    "    F.col(\"product_category_tree\").getItem(2).alias(\"sub_category\")\n",
    ").select(\n",
    "    F.col(\"*\"),\n",
    "    F.dense_rank().over(main_category_window_spec).alias(\"main_category_id\"),\n",
    "    F.dense_rank().over(category_window_spec).alias(\"category_id\"),\n",
    "    F.dense_rank().over(sub_category_window_spec).alias(\"sub_category_id\")\n",
    ")\n",
    "\n",
    "modified_category_df.count()"
   ]
  },
  {
   "cell_type": "markdown",
   "id": "08795d77-7bde-45b3-a6a7-d7d077af3e1d",
   "metadata": {},
   "source": [
    "#### dim_main_category"
   ]
  },
  {
   "cell_type": "code",
   "execution_count": 11,
   "id": "f2b3d57c-487a-4d57-bf7e-6e8ba52bb46d",
   "metadata": {},
   "outputs": [
    {
     "name": "stdout",
     "output_type": "stream",
     "text": [
      "root\n",
      " |-- id: integer (nullable = false)\n",
      " |-- main_category_id: integer (nullable = false)\n",
      " |-- name: string (nullable = true)\n",
      "\n"
     ]
    },
    {
     "data": {
      "text/plain": [
       "266"
      ]
     },
     "execution_count": 11,
     "metadata": {},
     "output_type": "execute_result"
    }
   ],
   "source": [
    "dim_main_category_df = modified_category_df.select(F.col(\"main_category_id\"),\n",
    "    F.col(\"main_category\").alias(\"name\")\n",
    ").distinct().select(\n",
    "    F.monotonically_increasing_id().cast(IntegerType()).alias(\"id\"),\n",
    "    F.col(\"*\")\n",
    ")\n",
    "dim_main_category_df.printSchema()\n",
    "dim_main_category_df.count()\n"
   ]
  },
  {
   "cell_type": "markdown",
   "id": "5646de16-bd22-4d9f-9d1e-bee153e0e564",
   "metadata": {},
   "source": [
    "#### dim_category"
   ]
  },
  {
   "cell_type": "code",
   "execution_count": 12,
   "id": "e787e7de-6f3e-48eb-a33b-10ef5e57f947",
   "metadata": {},
   "outputs": [
    {
     "name": "stdout",
     "output_type": "stream",
     "text": [
      "root\n",
      " |-- id: integer (nullable = false)\n",
      " |-- category_id: integer (nullable = false)\n",
      " |-- name: string (nullable = true)\n",
      "\n"
     ]
    },
    {
     "data": {
      "text/plain": [
       "223"
      ]
     },
     "execution_count": 12,
     "metadata": {},
     "output_type": "execute_result"
    }
   ],
   "source": [
    "dim_category_df = modified_category_df.select(\n",
    "    F.col(\"category_id\"),\n",
    "    F.col(\"category\").alias(\"name\")\n",
    ").distinct().select(\n",
    "    F.monotonically_increasing_id().cast(IntegerType()).alias(\"id\"),\n",
    "    F.col(\"*\")\n",
    ")\n",
    "dim_category_df.printSchema()\n",
    "dim_category_df.count()"
   ]
  },
  {
   "cell_type": "markdown",
   "id": "5206ce56-1dec-43e0-a404-fca68295a51a",
   "metadata": {},
   "source": [
    "#### dim_sub_category"
   ]
  },
  {
   "cell_type": "code",
   "execution_count": 13,
   "id": "30af58fd-0bbd-45f0-9319-b5d33d6b6b98",
   "metadata": {},
   "outputs": [
    {
     "name": "stdout",
     "output_type": "stream",
     "text": [
      "root\n",
      " |-- id: integer (nullable = false)\n",
      " |-- sub_category_id: integer (nullable = false)\n",
      " |-- name: string (nullable = true)\n",
      "\n"
     ]
    },
    {
     "data": {
      "text/plain": [
       "899"
      ]
     },
     "execution_count": 13,
     "metadata": {},
     "output_type": "execute_result"
    }
   ],
   "source": [
    "dim_sub_category_df = modified_category_df.select(\n",
    "    F.col(\"sub_category_id\"),\n",
    "    F.col(\"sub_category\").alias(\"name\")\n",
    ").distinct().select(\n",
    "    F.monotonically_increasing_id().cast(IntegerType()).alias(\"id\"),\n",
    "    F.col(\"*\")\n",
    ")\n",
    "dim_sub_category_df.printSchema()\n",
    "dim_sub_category_df.count()"
   ]
  },
  {
   "cell_type": "markdown",
   "id": "b58a08cf-9270-4ae7-ba21-b3d9ff5132b4",
   "metadata": {},
   "source": [
    "### Product Specifications"
   ]
  },
  {
   "cell_type": "code",
   "execution_count": 14,
   "id": "1da08c81-ec04-4d3d-a6a0-9964924e9df7",
   "metadata": {},
   "outputs": [
    {
     "data": {
      "text/plain": [
       "20000"
      ]
     },
     "execution_count": 14,
     "metadata": {},
     "output_type": "execute_result"
    }
   ],
   "source": [
    "def get_product_specs_item(index, key):\n",
    "    product_specs_json_column = F.regexp_replace(F.col(\"product_specifications\"), pattern=\"=>\", replacement=\":\")\n",
    "    product_specs_arr_column = F.from_json(\n",
    "        col=F.get_json_object(product_specs_json_column, \"$.product_specification\"),\n",
    "        schema=dict_specs_schema\n",
    "    )\n",
    "    return product_specs_arr_column.getItem(index).getItem(key)\n",
    "\n",
    "\n",
    "def get_product_specs_field(name):\n",
    "    return F.coalesce(\n",
    "        F.when(get_product_specs_item(0, \"key\") == name, get_product_specs_item(0, \"value\")),\n",
    "        F.when(get_product_specs_item(1, \"key\") == name, get_product_specs_item(1, \"value\")),\n",
    "        F.when(get_product_specs_item(2, \"key\") == name, get_product_specs_item(2, \"value\")),\n",
    "        F.when(get_product_specs_item(3, \"key\") == name, get_product_specs_item(3, \"value\")),\n",
    "        F.when(get_product_specs_item(4, \"key\") == name, get_product_specs_item(4, \"value\"))\n",
    "    )\n",
    "\n",
    "specs_window_spec = Window.orderBy(\"product_specifications\")\n",
    "\n",
    "modified_specs_df = modified_category_df.select(\n",
    "    F.col(\"*\"),\n",
    "    F.dense_rank().over(specs_window_spec).alias(\"specification_id\"),\n",
    "    get_product_specs_field(name=\"Type\").alias(\"type\"),\n",
    "    get_product_specs_field(name=\"Ideal For\").alias(\"ideal_for\"),\n",
    "    get_product_specs_field(name=\"Occasion\").alias(\"occasion\"),\n",
    "    get_product_specs_field(name=\"Color\").alias(\"color\"),\n",
    "    get_product_specs_field(name=\"Number of Contents in Sales Package\").alias(\"quantity\")\n",
    ")\n",
    "\n",
    "modified_specs_df.count()"
   ]
  },
  {
   "cell_type": "markdown",
   "id": "19476949-44e3-4270-8730-1f844138fd20",
   "metadata": {},
   "source": [
    "#### dim_specification"
   ]
  },
  {
   "cell_type": "code",
   "execution_count": 15,
   "id": "8940eb5e-a2fb-464e-9271-ca12611c0062",
   "metadata": {},
   "outputs": [
    {
     "name": "stdout",
     "output_type": "stream",
     "text": [
      "root\n",
      " |-- id: integer (nullable = false)\n",
      " |-- specification_id: integer (nullable = false)\n",
      " |-- type: string (nullable = true)\n",
      " |-- ideal_for: string (nullable = true)\n",
      " |-- occasion: string (nullable = true)\n",
      " |-- color: string (nullable = true)\n",
      " |-- quantity: string (nullable = true)\n",
      "\n"
     ]
    },
    {
     "data": {
      "text/plain": [
       "18826"
      ]
     },
     "execution_count": 15,
     "metadata": {},
     "output_type": "execute_result"
    }
   ],
   "source": [
    "dim_specification_df = modified_specs_df.select(\n",
    "    F.col(\"specification_id\"),\n",
    "    F.col(\"type\"),\n",
    "    F.col(\"ideal_for\"),\n",
    "    F.col(\"occasion\"),\n",
    "    F.col(\"color\"),\n",
    "    F.col(\"quantity\"),\n",
    ").distinct().select(\n",
    "    F.monotonically_increasing_id().cast(IntegerType()).alias(\"id\"),\n",
    "    F.col(\"*\")\n",
    ")\n",
    "dim_specification_df.printSchema()\n",
    "dim_specification_df.count()"
   ]
  },
  {
   "cell_type": "markdown",
   "id": "b5cf960e-0367-4c9c-ae92-2185d430fae2",
   "metadata": {},
   "source": [
    "### Brand"
   ]
  },
  {
   "cell_type": "code",
   "execution_count": 16,
   "id": "71de83fe-7398-4736-ba46-ec60d4dca0b4",
   "metadata": {},
   "outputs": [],
   "source": [
    "\n",
    "brand_window_spec = Window.orderBy(\"brand\")\n",
    "modified_brand_df = modified_specs_df.withColumn(\"brand_id\", F.dense_rank().over(brand_window_spec))"
   ]
  },
  {
   "cell_type": "markdown",
   "id": "e6683d56-51e9-4d3e-b65f-e9f3af4dc371",
   "metadata": {},
   "source": [
    "#### dim_brand"
   ]
  },
  {
   "cell_type": "code",
   "execution_count": 17,
   "id": "c2b5ae58-d8aa-48dc-b199-4c87267314d0",
   "metadata": {},
   "outputs": [
    {
     "name": "stdout",
     "output_type": "stream",
     "text": [
      "root\n",
      " |-- id: integer (nullable = false)\n",
      " |-- brand_id: integer (nullable = false)\n",
      " |-- brand: string (nullable = true)\n",
      "\n"
     ]
    },
    {
     "data": {
      "text/plain": [
       "3501"
      ]
     },
     "execution_count": 17,
     "metadata": {},
     "output_type": "execute_result"
    }
   ],
   "source": [
    "dim_brand_df = modified_brand_df.select(\n",
    "    F.col(\"brand_id\"),\n",
    "    F.col(\"brand\")\n",
    ").distinct().select(\n",
    "    F.monotonically_increasing_id().cast(IntegerType()).alias(\"id\"),\n",
    "    F.col(\"*\")\n",
    ")\n",
    "\n",
    "dim_brand_df.printSchema()\n",
    "dim_brand_df.count()"
   ]
  },
  {
   "cell_type": "markdown",
   "id": "822f498b-44dd-4784-b1ba-4865c2e66746",
   "metadata": {},
   "source": [
    "### Date"
   ]
  },
  {
   "cell_type": "code",
   "execution_count": 18,
   "id": "53e9de88-1a0e-4e8d-b22f-3ee2c4cb8d2e",
   "metadata": {},
   "outputs": [],
   "source": [
    "modified_date_df = modified_brand_df.select(\n",
    "    F.col(\"*\"),\n",
    "    F.dense_rank().over(Window.orderBy(\"crawl_timestamp\")).alias(\"crawl_date_id\"),\n",
    "    F.year(\"crawl_timestamp\").alias(\"year\"),\n",
    "    F.month(\"crawl_timestamp\").alias(\"month\"),\n",
    "    F.dayofmonth(\"crawl_timestamp\").alias(\"day\"),\n",
    "    F.hour(\"crawl_timestamp\").alias(\"hour\"),\n",
    "    F.minute(\"crawl_timestamp\").alias(\"minute\"),\n",
    "    F.date_format(\"crawl_timestamp\", \"z\").alias(\"timezone\"),\n",
    "    F.date_format(\"crawl_timestamp\", \"E\").alias(\"day_name\"),\n",
    "    F.date_format(\"crawl_timestamp\", \"MMM\").alias(\"month_name\"),\n",
    "    F.weekofyear(\"crawl_timestamp\").alias(\"year_week\"),\n",
    "    F.quarter(\"crawl_timestamp\").alias(\"quarter\")\n",
    ")"
   ]
  },
  {
   "cell_type": "markdown",
   "id": "f7f42e81-5687-4e45-ad85-0068d9d036dc",
   "metadata": {},
   "source": [
    "#### dim_date"
   ]
  },
  {
   "cell_type": "code",
   "execution_count": 19,
   "id": "ba3da0e6-94ef-4370-97cc-6a4f4f3ace3f",
   "metadata": {},
   "outputs": [
    {
     "name": "stdout",
     "output_type": "stream",
     "text": [
      "root\n",
      " |-- id: integer (nullable = false)\n",
      " |-- year: integer (nullable = true)\n",
      " |-- month: integer (nullable = true)\n",
      " |-- day: integer (nullable = true)\n",
      " |-- hour: integer (nullable = true)\n",
      " |-- minute: integer (nullable = true)\n",
      " |-- timezone: string (nullable = true)\n",
      " |-- day_name: string (nullable = true)\n",
      " |-- month_name: string (nullable = true)\n",
      " |-- year_week: integer (nullable = true)\n",
      " |-- quarter: integer (nullable = true)\n",
      "\n"
     ]
    },
    {
     "data": {
      "text/plain": [
       "371"
      ]
     },
     "execution_count": 19,
     "metadata": {},
     "output_type": "execute_result"
    }
   ],
   "source": [
    "dim_date_df = modified_date_df.select(\n",
    "    F.col(\"crawl_date_id\").alias(\"id\"),\n",
    "    F.col(\"year\"),\n",
    "    F.col(\"month\"),\n",
    "    F.col(\"day\"),\n",
    "    F.col(\"hour\"),\n",
    "    F.col(\"minute\"),\n",
    "    F.col(\"timezone\"),\n",
    "    F.col(\"day_name\"),\n",
    "    F.col(\"month_name\"),\n",
    "    F.col(\"year_week\"),\n",
    "    F.col(\"quarter\"),\n",
    ").distinct()\n",
    "\n",
    "dim_date_df.printSchema()\n",
    "dim_date_df.count()"
   ]
  },
  {
   "cell_type": "markdown",
   "id": "2bc1e077-4038-4d1b-b633-b37b651aec58",
   "metadata": {},
   "source": [
    "### dim_product"
   ]
  },
  {
   "cell_type": "code",
   "execution_count": 90,
   "id": "8c950ea2-e12a-401f-b458-66c351b21f6e",
   "metadata": {},
   "outputs": [
    {
     "name": "stdout",
     "output_type": "stream",
     "text": [
      "root\n",
      " |-- id: integer (nullable = false)\n",
      " |-- product_id: string (nullable = true)\n",
      " |-- product_url: string (nullable = true)\n",
      " |-- product_name: string (nullable = true)\n",
      " |-- description: string (nullable = true)\n",
      " |-- image: array (nullable = true)\n",
      " |    |-- element: string (containsNull = true)\n",
      "\n"
     ]
    },
    {
     "data": {
      "text/plain": [
       "20000"
      ]
     },
     "execution_count": 90,
     "metadata": {},
     "output_type": "execute_result"
    }
   ],
   "source": [
    "dim_product_df = modified_date_df.select(\n",
    "    F.col(\"product_id\"),\n",
    "    F.col(\"product_url\"),\n",
    "    F.col(\"product_name\"),\n",
    "    F.col(\"description\"),\n",
    "    F.from_json(F.col(\"image\"), ArrayType(StringType())).alias(\"image\"),\n",
    ").distinct().select(\n",
    "    F.monotonically_increasing_id().cast(IntegerType()).alias(\"id\"),\n",
    "    F.col(\"*\")\n",
    ")\n",
    "\n",
    "dim_product_df.printSchema()\n",
    "dim_product_df.count()"
   ]
  },
  {
   "cell_type": "code",
   "execution_count": 104,
   "id": "16d42a99-3fbf-40e8-9922-2bda2836a738",
   "metadata": {},
   "outputs": [
    {
     "name": "stderr",
     "output_type": "stream",
     "text": [
      "[nltk_data] Downloading package stopwords to /home/jovyan/nltk_data...\n",
      "[nltk_data]   Package stopwords is already up-to-date!\n"
     ]
    },
    {
     "name": "stdout",
     "output_type": "stream",
     "text": [
      "['and', \"won't\", 'its', 'then', 'very', 'yourself', \"didn't\", 'are', 'mightn', \"you'd\", 'key', 'now', 'y', 'until', 'any', 'where', 'we', 'didn', 'isn', \"mustn't\", 'is', 'theirs', 'when', 'hers', 'whom', 've', 'off', 'out', 'hadn', \"you've\", 'with', 'ourselves', \"weren't\", 'same', 'was', 'themselves', 'such', \"that'll\", 'has', 'before', 'all', 'no', 'ours', 'features', 'or', 'do', 'hasn', 'shan', 'because', 'what', \"should've\", 'at', 'needn', 'does', 'him', 'did', 'am', 'yourselves', 'the', \"needn't\", 'mustn', 'doing', \"don't\", 'few', 'each', \"wasn't\", 'not', 'why', 'i', \"couldn't\", 'ma', 'don', 'aren', 'under', 's', 'your', 'them', 'more', 'who', 'so', \"wouldn't\", 'there', 'between', 'while', 'of', 'himself', 'only', 'other', 'myself', 'once', 'nor', 'both', 'during', 'weren', 'own', 'they', \"aren't\", \"she's\", 'below', \"hasn't\", 'be', 'herself', 're', 'm', 'as', 'my', 't', 'had', 'her', 'about', 'an', 'o', 'shouldn', 'just', \"haven't\", 'd', 'against', 'being', 'but', \"isn't\", 'above', 'she', \"you'll\", \"doesn't\", 'yours', 'a', 'can', 'won', \"mightn't\", 'have', 'were', 'been', 'how', 'some', 'doesn', 'his', 'ain', 'through', 'those', 'into', 'which', 'me', 'in', 'itself', \"shouldn't\", 'this', 'further', 'on', 'again', 'wasn', 'that', 'will', 'll', \"shan't\", 'wouldn', 'if', 'here', 'down', 'he', \"hadn't\", 'it', 'should', 'our', 'from', 'up', 'by', 'over', 'couldn', \"it's\", 'these', 'for', \"you're\", 'having', 'too', 'haven', 'to', 'than', 'their', 'after', 'you', 'most']\n",
      "+---+----------------+--------------------+--------------------+--------------------+--------------------+--------------------+--------------------+\n",
      "| id|      product_id|         product_url|        product_name|         description|               image|                   x|description_cleansed|\n",
      "+---+----------------+--------------------+--------------------+--------------------+--------------------+--------------------+--------------------+\n",
      "|  0|SHTEJRCHC5KESPYX|http://www.flipka...|Mario Gotze Women...|Key Features of M...|[http://img5a.fli...|[key, features, o...|[mario, gotze, wo...|\n",
      "|  1|RNGE7Z9NHKZPRSEE|http://www.flipka...|Asian Gems & Jewe...|Asian Gems & Jewe...|[http://img5a.fli...|[asian, gems, jew...|[asian, gems, jew...|\n",
      "|  2|RNGEBPU67KZEYWAR|http://www.flipka...|Asian Gems & Jewe...|Asian Gems & Jewe...|[http://img6a.fli...|[asian, gems, jew...|[asian, gems, jew...|\n",
      "|  3|TOPEBQGG5W4CBUQQ|http://www.flipka...|Imagination Casua...|Imagination Casua...|[http://img6a.fli...|[imagination, cas...|[imagination, cas...|\n",
      "|  4|CDSEJWHYVFJYHRGR|http://www.flipka...|Pearl Spice-2 Con...|Key Features of P...|[http://img5a.fli...|[key, features, o...|[pearl, spice, 2,...|\n",
      "|  5|RNGE9DXYHKZJAU3F|http://www.flipka...|Ojasvi Plain Char...|Ojasvi Plain Char...|[http://img6a.fli...|[ojasvi, plain, c...|[ojasvi, plain, c...|\n",
      "|  6|ACCEAZCVEKWMNSEY|http://www.flipka...|Fuson Back Cover ...|Fuson Back Cover ...|[http://img5a.fli...|[fuson, back, cov...|[fuson, back, cov...|\n",
      "|  7|RNGEDAKAZRMFFPGK|http://www.flipka...|Radiant Bay Strik...|Radiant Bay Strik...|[http://img6a.fli...|[radiant, bay, st...|[radiant, bay, st...|\n",
      "|  8|BLAEEB88PCH2DKHD|http://www.flipka...|Blanket Zone Prin...|Blanket Zone Prin...|[http://img6a.fli...|[blanket, zone, p...|[blanket, zone, p...|\n",
      "|  9|BRAE8RSAVHEWMGZA|http://www.flipka...|Grafion by Grafio...|Grafion by Grafio...|[http://img5a.fli...|[grafion, by, gra...|[grafion, grafion...|\n",
      "| 10|BRAEBBMQWK9K65UU|http://www.flipka...|S4S Stylish Women...|S4S Stylish Women...|[http://img6a.fli...|[s4s, stylish, wo...|[s4s, stylish, wo...|\n",
      "| 11|BRAEDQEDVYJV64GV|http://www.flipka...|S4S Stylish Women...|S4S Stylish Women...|[http://img5a.fli...|[s4s, stylish, wo...|[s4s, stylish, wo...|\n",
      "| 12|BRAE5RWPQAHEHQDM|http://www.flipka...|Tia by Ten on Ten...|Tia by Ten on Ten...|[http://img6a.fli...|[tia, by, ten, on...|[tia, ten, ten, v...|\n",
      "| 13|BRAE8QNFXTYRF3ZG|http://www.flipka...|Grafion by Grafio...|Grafion by Grafio...|[http://img5a.fli...|[grafion, by, gra...|[grafion, grafion...|\n",
      "| 14|BRAECKHZRU4RZKQH|http://www.flipka...|S4S Stylish Women...|S4S Stylish Women...|[http://img6a.fli...|[s4s, stylish, wo...|[s4s, stylish, wo...|\n",
      "| 15|BRAEDZA3928VGSMW|http://www.flipka...|Muquam Stretchabl...|Muquam Stretchabl...|[http://img5a.fli...|[muquam, stretcha...|[muquam, stretcha...|\n",
      "| 16|KTAEGPBZFPCGGFKZ|http://www.flipka...|Love More Printed...|Key Features of L...|[http://img6a.fli...|[key, features, o...|[love, printed, w...|\n",
      "| 17|SHOEAP3QYFUR6QQB|http://www.flipka...|SRS Graceful & St...|SRS Graceful & St...|[http://img6a.fli...|[srs, graceful, s...|[srs, graceful, s...|\n",
      "| 18|MUGEACY8H9R9ENVT|http://www.flipka...|Printland CMW1662...|Printland CMW1662...|[http://img6a.fli...|[printland, cmw16...|[printland, cmw16...|\n",
      "| 19|MUGEAGGKJFYH6GRS|http://www.flipka...|Rockmantra Classi...|Rockmantra Classi...|[http://img5a.fli...|[rockmantra, clas...|[rockmantra, clas...|\n",
      "+---+----------------+--------------------+--------------------+--------------------+--------------------+--------------------+--------------------+\n",
      "only showing top 20 rows\n",
      "\n"
     ]
    }
   ],
   "source": [
    "import nltk\n",
    "from nltk.corpus import stopwords\n",
    "from pyspark.ml.feature import StopWordsRemover\n",
    "\n",
    "nltk.download(\"stopwords\")\n",
    "stopwords = list(set(stopwords.words(\"english\") + [\"of\", \"by\", \"key\", \"features\"] )) \n",
    "print(stopwords)\n",
    "\n",
    "remover = StopWordsRemover(stopWords=stopwords, inputCol=\"x\", outputCol=\"description_cleansed\")\n",
    "\n",
    "x = dim_product_df.select(\n",
    "        F.col(\"*\"),\n",
    "        F.split(F.lower(F.regexp_replace(\n",
    "            F.regexp_replace(F.col(\"description\"), r\"[^a-zA-Z0-9]\", \" \"),\n",
    "            r\"\\s+\",\n",
    "            \" \"\n",
    "        )), \" \").alias(\"x\")\n",
    ")\n",
    "remover.transform(x).show()"
   ]
  },
  {
   "cell_type": "code",
   "execution_count": null,
   "id": "25796604-3fb7-4224-8c88-a60efc35c0a1",
   "metadata": {},
   "outputs": [],
   "source": []
  },
  {
   "cell_type": "markdown",
   "id": "80ac89b4-560a-4ee9-a108-c7911751c500",
   "metadata": {},
   "source": [
    "### Fact Product Posting"
   ]
  },
  {
   "cell_type": "code",
   "execution_count": 38,
   "id": "5ffa81ee-8e26-4b1c-80f8-5f93201be3dd",
   "metadata": {},
   "outputs": [
    {
     "name": "stdout",
     "output_type": "stream",
     "text": [
      "root\n",
      " |-- id: integer (nullable = false)\n",
      " |-- unique_id: string (nullable = true)\n",
      " |-- brand_id: integer (nullable = false)\n",
      " |-- main_category_id: integer (nullable = false)\n",
      " |-- category_id: integer (nullable = false)\n",
      " |-- sub_category_id: integer (nullable = false)\n",
      " |-- product_id: string (nullable = true)\n",
      " |-- specification_id: integer (nullable = false)\n",
      " |-- crawl_date_id: integer (nullable = false)\n",
      " |-- retail_price: float (nullable = true)\n",
      " |-- discounted_price: float (nullable = true)\n",
      " |-- is_fk_advantage_product: boolean (nullable = true)\n",
      " |-- product_rating: string (nullable = true)\n",
      " |-- overall_rating: string (nullable = true)\n",
      "\n"
     ]
    },
    {
     "data": {
      "text/plain": [
       "20000"
      ]
     },
     "execution_count": 38,
     "metadata": {},
     "output_type": "execute_result"
    }
   ],
   "source": [
    "fact_product_posting_df = modified_date_df.select(\n",
    "    F.monotonically_increasing_id().cast(IntegerType()).alias(\"id\"),\n",
    "    F.col(\"unique_id\"),\n",
    "    F.col(\"brand_id\"),\n",
    "    F.col(\"main_category_id\"),\n",
    "    F.col(\"category_id\"),\n",
    "    F.col(\"sub_category_id\"),\n",
    "    F.col(\"product_id\"),\n",
    "    F.col(\"specification_id\"),\n",
    "    F.col(\"crawl_date_id\"),\n",
    "    F.col(\"retail_price\"),\n",
    "    F.col(\"discounted_price\"),\n",
    "    F.col(\"is_fk_advantage_product\").cast(BooleanType()),\n",
    "    F.col(\"product_rating\"),\n",
    "    F.col(\"overall_rating\")\n",
    ")\n",
    "fact_product_posting_df.printSchema()\n",
    "fact_product_posting_df.count()"
   ]
  }
 ],
 "metadata": {
  "kernelspec": {
   "display_name": "Python 3 (ipykernel)",
   "language": "python",
   "name": "python3"
  },
  "language_info": {
   "codemirror_mode": {
    "name": "ipython",
    "version": 3
   },
   "file_extension": ".py",
   "mimetype": "text/x-python",
   "name": "python",
   "nbconvert_exporter": "python",
   "pygments_lexer": "ipython3",
   "version": "3.11.5"
  }
 },
 "nbformat": 4,
 "nbformat_minor": 5
}
