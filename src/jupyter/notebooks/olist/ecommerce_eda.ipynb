{
 "cells": [
  {
   "cell_type": "code",
   "execution_count": null,
   "id": "dd90e7a0-3a9b-4004-ae0b-b49cae2aacda",
   "metadata": {},
   "outputs": [],
   "source": []
  },
  {
   "cell_type": "code",
   "execution_count": 68,
   "id": "3dcc8cbb-90f6-4335-bcb8-418260071916",
   "metadata": {},
   "outputs": [],
   "source": [
    "from typing import List\n",
    "from pathlib import Path\n",
    "from pyspark.sql import SparkSession, DataFrame, Row\n",
    "import pyspark.sql.functions as F\n",
    "from pyspark.sql.types import StringType"
   ]
  },
  {
   "cell_type": "code",
   "execution_count": 69,
   "id": "03973406-d038-425b-87ed-a006a2aca774",
   "metadata": {},
   "outputs": [
    {
     "data": {
      "text/plain": [
       "'../../jars/antlr4-runtime-4.9.3.jar,../../jars/aws-java-sdk-bundle-1.12.392.jar,../../jars/delta-core_2.12-2.4.0.jar,../../jars/delta-storage-2.4.0.jar,../../jars/hadoop-aws-3.3.1.jar,../../jars/wildfly-openssl-1.0.7.Final.jar'"
      ]
     },
     "execution_count": 69,
     "metadata": {},
     "output_type": "execute_result"
    }
   ],
   "source": [
    "JAR_PACKAGES = \",\".join([str(x) for x in Path(\"../../jars\").glob(\"*.jar\")])\n",
    "JAR_PACKAGES"
   ]
  },
  {
   "cell_type": "markdown",
   "id": "2642bdfe-7c41-4eda-a3fe-cedccafaa7f2",
   "metadata": {},
   "source": [
    "## Read The Datasets"
   ]
  },
  {
   "cell_type": "markdown",
   "id": "e25e3b2b-225f-42c4-9e54-888a17fff250",
   "metadata": {},
   "source": [
    "## Overview of Each Dataset\n"
   ]
  },
  {
   "cell_type": "markdown",
   "id": "5e48bfa5-20bd-4f2c-803d-acb06fa63111",
   "metadata": {},
   "source": [
    "### Dataset High Level Overview\n",
    "\n",
    "For each Dataset get the ff. (tabular)\n",
    "- Number of Rows\n",
    "- Number of Columns\n",
    "- Number of Null Values\n",
    "- Number Columns with Null Values\n",
    "- List of Columns with Null"
   ]
  },
  {
   "cell_type": "code",
   "execution_count": 70,
   "id": "d95258b5-3482-459d-ba33-11ab4995a25f",
   "metadata": {},
   "outputs": [],
   "source": [
    "spark = SparkSession.builder.appName(\"olist_data_profiling\").master(\"spark://spark:7077\") \\\n",
    "            .config(\"spark.jars\", JAR_PACKAGES) \\\n",
    "            .config(\"spark.hadoop.fs.s3a.access.key\",\"datalake\") \\\n",
    "            .config(\"spark.hadoop.fs.s3a.secret.key\",\"datalake\") \\\n",
    "            .config(\"spark.hadoop.fs.s3a.endpoint\",\"http://minio:9000\") \\\n",
    "            .config(\"spark.hadoop.fs.s3a.path.style.access\", \"true\") \\\n",
    "            .config(\"spark.hadoop.fs.s3a.impl\", \"org.apache.hadoop.fs.s3a.S3AFileSystem\") \\\n",
    "            .getOrCreate()"
   ]
  },
  {
   "cell_type": "code",
   "execution_count": 71,
   "id": "0fff3282-4b97-4180-b38e-3b2e9ef33a4c",
   "metadata": {},
   "outputs": [],
   "source": [
    "bronze_container_path = \"s3a://bronze\""
   ]
  },
  {
   "cell_type": "code",
   "execution_count": 72,
   "id": "34e8e25e-3cb2-4878-b814-afc5b613ce9b",
   "metadata": {},
   "outputs": [
    {
     "name": "stdout",
     "output_type": "stream",
     "text": [
      "root\n",
      " |-- customer_id: string (nullable = true)\n",
      " |-- customer_unique_id: string (nullable = true)\n",
      " |-- customer_zip_code_prefix: integer (nullable = true)\n",
      " |-- customer_city: string (nullable = true)\n",
      " |-- customer_state: string (nullable = true)\n",
      "\n"
     ]
    }
   ],
   "source": [
    "customers_df = spark.read.format(\"csv\") \\\n",
    "    .option(\"path\", f\"{bronze_container_path}/olist/olist_customers_dataset.csv\") \\\n",
    "    .option(\"header\", True) \\\n",
    "    .option(\"inferSchema\", True) \\\n",
    "    .load()\n",
    "customers_df.printSchema()"
   ]
  },
  {
   "cell_type": "code",
   "execution_count": 73,
   "id": "39c7cdc0-c75f-4fb1-b6e0-8b8d78a9846d",
   "metadata": {},
   "outputs": [
    {
     "name": "stdout",
     "output_type": "stream",
     "text": [
      "root\n",
      " |-- geolocation_zip_code_prefix: integer (nullable = true)\n",
      " |-- geolocation_lat: double (nullable = true)\n",
      " |-- geolocation_lng: double (nullable = true)\n",
      " |-- geolocation_city: string (nullable = true)\n",
      " |-- geolocation_state: string (nullable = true)\n",
      "\n"
     ]
    }
   ],
   "source": [
    "geolocation_df = spark.read.format(\"csv\") \\\n",
    "    .option(\"path\", f\"{bronze_container_path}/olist/olist_geolocation_dataset.csv\") \\\n",
    "    .option(\"header\", True) \\\n",
    "    .option(\"inferSchema\", True) \\\n",
    "    .load()\n",
    "geolocation_df.printSchema()"
   ]
  },
  {
   "cell_type": "code",
   "execution_count": 74,
   "id": "03501229-52bc-4169-b1bd-3ca787f8d27e",
   "metadata": {},
   "outputs": [
    {
     "name": "stdout",
     "output_type": "stream",
     "text": [
      "root\n",
      " |-- order_id: string (nullable = true)\n",
      " |-- order_item_id: integer (nullable = true)\n",
      " |-- product_id: string (nullable = true)\n",
      " |-- seller_id: string (nullable = true)\n",
      " |-- shipping_limit_date: timestamp (nullable = true)\n",
      " |-- price: double (nullable = true)\n",
      " |-- freight_value: double (nullable = true)\n",
      "\n"
     ]
    }
   ],
   "source": [
    "order_items_df = spark.read.format(\"csv\") \\\n",
    "    .option(\"path\", f\"{bronze_container_path}/olist/olist_order_items_dataset.csv\") \\\n",
    "    .option(\"header\", True) \\\n",
    "    .option(\"inferSchema\", True) \\\n",
    "    .load()\n",
    "order_items_df.printSchema()"
   ]
  },
  {
   "cell_type": "code",
   "execution_count": 75,
   "id": "a740b921-89c9-494c-ac43-d32a2e4e75f7",
   "metadata": {},
   "outputs": [
    {
     "name": "stdout",
     "output_type": "stream",
     "text": [
      "root\n",
      " |-- order_id: string (nullable = true)\n",
      " |-- payment_sequential: integer (nullable = true)\n",
      " |-- payment_type: string (nullable = true)\n",
      " |-- payment_installments: integer (nullable = true)\n",
      " |-- payment_value: double (nullable = true)\n",
      "\n"
     ]
    }
   ],
   "source": [
    "order_payments_df = spark.read.format(\"csv\") \\\n",
    "    .option(\"path\", f\"{bronze_container_path}/olist/olist_order_payments_dataset.csv\") \\\n",
    "    .option(\"header\", True) \\\n",
    "    .option(\"inferSchema\", True) \\\n",
    "    .load()\n",
    "order_payments_df.printSchema()"
   ]
  },
  {
   "cell_type": "code",
   "execution_count": 76,
   "id": "82394dd4-d65e-41eb-bb6f-a6ec780c94ab",
   "metadata": {},
   "outputs": [
    {
     "name": "stdout",
     "output_type": "stream",
     "text": [
      "root\n",
      " |-- review_id: string (nullable = true)\n",
      " |-- order_id: string (nullable = true)\n",
      " |-- review_score: string (nullable = true)\n",
      " |-- review_comment_title: string (nullable = true)\n",
      " |-- review_comment_message: string (nullable = true)\n",
      " |-- review_creation_date: string (nullable = true)\n",
      " |-- review_answer_timestamp: string (nullable = true)\n",
      "\n"
     ]
    }
   ],
   "source": [
    "order_reviews_df = spark.read.format(\"csv\") \\\n",
    "    .option(\"path\", f\"{bronze_container_path}/olist/olist_order_reviews_dataset.csv\") \\\n",
    "    .option(\"header\", True) \\\n",
    "    .option(\"inferSchema\", True) \\\n",
    "    .load()\n",
    "order_reviews_df.printSchema()"
   ]
  },
  {
   "cell_type": "code",
   "execution_count": 77,
   "id": "9715f02f-5f89-4b32-853d-8da21ed6bddd",
   "metadata": {},
   "outputs": [
    {
     "name": "stdout",
     "output_type": "stream",
     "text": [
      "root\n",
      " |-- order_id: string (nullable = true)\n",
      " |-- customer_id: string (nullable = true)\n",
      " |-- order_status: string (nullable = true)\n",
      " |-- order_purchase_timestamp: timestamp (nullable = true)\n",
      " |-- order_approved_at: timestamp (nullable = true)\n",
      " |-- order_delivered_carrier_date: timestamp (nullable = true)\n",
      " |-- order_delivered_customer_date: timestamp (nullable = true)\n",
      " |-- order_estimated_delivery_date: timestamp (nullable = true)\n",
      "\n"
     ]
    }
   ],
   "source": [
    "orders_df = spark.read.format(\"csv\") \\\n",
    "    .option(\"path\", f\"{bronze_container_path}/olist/olist_orders_dataset.csv\") \\\n",
    "    .option(\"header\", True) \\\n",
    "    .option(\"inferSchema\", True) \\\n",
    "    .load()\n",
    "orders_df.printSchema()"
   ]
  },
  {
   "cell_type": "code",
   "execution_count": 78,
   "id": "32c31c3b-fd9c-40e2-a8f4-fb225d053e18",
   "metadata": {},
   "outputs": [
    {
     "name": "stdout",
     "output_type": "stream",
     "text": [
      "root\n",
      " |-- product_id: string (nullable = true)\n",
      " |-- product_category_name: string (nullable = true)\n",
      " |-- product_name_lenght: integer (nullable = true)\n",
      " |-- product_description_lenght: integer (nullable = true)\n",
      " |-- product_photos_qty: integer (nullable = true)\n",
      " |-- product_weight_g: integer (nullable = true)\n",
      " |-- product_length_cm: integer (nullable = true)\n",
      " |-- product_height_cm: integer (nullable = true)\n",
      " |-- product_width_cm: integer (nullable = true)\n",
      "\n"
     ]
    }
   ],
   "source": [
    "products_df = spark.read.format(\"csv\") \\\n",
    "    .option(\"path\", f\"{bronze_container_path}/olist/olist_products_dataset.csv\") \\\n",
    "    .option(\"header\", True) \\\n",
    "    .option(\"inferSchema\", True) \\\n",
    "    .load()\n",
    "products_df.printSchema()"
   ]
  },
  {
   "cell_type": "code",
   "execution_count": 79,
   "id": "587e11dd-47e3-4412-b8d8-7c93dda469e6",
   "metadata": {},
   "outputs": [
    {
     "name": "stdout",
     "output_type": "stream",
     "text": [
      "root\n",
      " |-- seller_id: string (nullable = true)\n",
      " |-- seller_zip_code_prefix: string (nullable = true)\n",
      " |-- seller_city: string (nullable = true)\n",
      " |-- seller_state: string (nullable = true)\n",
      "\n"
     ]
    }
   ],
   "source": [
    "sellers_df = spark.read.format(\"csv\") \\\n",
    "    .option(\"path\", f\"{bronze_container_path}/olist/olist_sellers_dataset.csv\") \\\n",
    "    .option(\"header\", True) \\\n",
    "    .option(\"inferScema\", True) \\\n",
    "    .load()\n",
    "sellers_df.printSchema()"
   ]
  },
  {
   "cell_type": "code",
   "execution_count": 80,
   "id": "e93fe9b8-8952-4a32-b5b6-fbd9e2623ba8",
   "metadata": {},
   "outputs": [
    {
     "name": "stdout",
     "output_type": "stream",
     "text": [
      "root\n",
      " |-- product_category_name: string (nullable = true)\n",
      " |-- product_category_name_english: string (nullable = true)\n",
      "\n"
     ]
    }
   ],
   "source": [
    "product_category_name_translation_df = spark.read.format(\"csv\") \\\n",
    "    .option(\"path\", f\"{bronze_container_path}/olist/product_category_name_translation.csv\") \\\n",
    "    .option(\"header\", True) \\\n",
    "    .option(\"inferScema\", True) \\\n",
    "    .load()\n",
    "product_category_name_translation_df.printSchema()"
   ]
  },
  {
   "cell_type": "markdown",
   "id": "b81894be-0e7c-44a0-8636-f3fd200b4e59",
   "metadata": {},
   "source": [
    "### Dataset Detailed Info\n",
    "\n",
    "Create a tabular data of the ff.\n",
    "\n",
    "- Column name\n",
    "- Null amount\n",
    "- Null percentage among the respective dataset\n",
    "- Data type\n",
    "- total categorical entries"
   ]
  },
  {
   "cell_type": "code",
   "execution_count": 81,
   "id": "1b34e604-5537-49b2-991e-33779457cf05",
   "metadata": {},
   "outputs": [
    {
     "name": "stdout",
     "output_type": "stream",
     "text": [
      "+-------------------------------------+-----------------------------+---------+---------+-----------+---------------+---------+------------+\n",
      "|dataset_name                         |column_name                  |row_count|col_count|null_amount|null_percentage|data_type|unique_count|\n",
      "+-------------------------------------+-----------------------------+---------+---------+-----------+---------------+---------+------------+\n",
      "|olist_customers_dataset.csv          |customer_id                  |99441    |5        |0          |0.0            |string   |99441       |\n",
      "|olist_customers_dataset.csv          |customer_unique_id           |99441    |5        |0          |0.0            |string   |96096       |\n",
      "|olist_customers_dataset.csv          |customer_zip_code_prefix     |99441    |5        |0          |0.0            |int      |14994       |\n",
      "|olist_customers_dataset.csv          |customer_city                |99441    |5        |0          |0.0            |string   |4119        |\n",
      "|olist_customers_dataset.csv          |customer_state               |99441    |5        |0          |0.0            |string   |27          |\n",
      "|-                                    |-                            |null     |null     |null       |null           |-        |null        |\n",
      "|olist_geolocation_dataset.csv        |geolocation_zip_code_prefix  |1000163  |5        |0          |0.0            |int      |19015       |\n",
      "|olist_geolocation_dataset.csv        |geolocation_lat              |1000163  |5        |0          |0.0            |double   |717372      |\n",
      "|olist_geolocation_dataset.csv        |geolocation_lng              |1000163  |5        |0          |0.0            |double   |717615      |\n",
      "|olist_geolocation_dataset.csv        |geolocation_city             |1000163  |5        |0          |0.0            |string   |8011        |\n",
      "|olist_geolocation_dataset.csv        |geolocation_state            |1000163  |5        |0          |0.0            |string   |27          |\n",
      "|-                                    |-                            |null     |null     |null       |null           |-        |null        |\n",
      "|olist_order_items_dataset.csv        |order_id                     |112650   |7        |0          |0.0            |string   |98666       |\n",
      "|olist_order_items_dataset.csv        |order_item_id                |112650   |7        |0          |0.0            |int      |21          |\n",
      "|olist_order_items_dataset.csv        |product_id                   |112650   |7        |0          |0.0            |string   |32951       |\n",
      "|olist_order_items_dataset.csv        |seller_id                    |112650   |7        |0          |0.0            |string   |3095        |\n",
      "|olist_order_items_dataset.csv        |shipping_limit_date          |112650   |7        |0          |0.0            |timestamp|93318       |\n",
      "|olist_order_items_dataset.csv        |price                        |112650   |7        |0          |0.0            |double   |5968        |\n",
      "|olist_order_items_dataset.csv        |freight_value                |112650   |7        |0          |0.0            |double   |6999        |\n",
      "|-                                    |-                            |null     |null     |null       |null           |-        |null        |\n",
      "|olist_order_payments_dataset.csv     |order_id                     |103886   |5        |0          |0.0            |string   |99440       |\n",
      "|olist_order_payments_dataset.csv     |payment_sequential           |103886   |5        |0          |0.0            |int      |29          |\n",
      "|olist_order_payments_dataset.csv     |payment_type                 |103886   |5        |0          |0.0            |string   |5           |\n",
      "|olist_order_payments_dataset.csv     |payment_installments         |103886   |5        |0          |0.0            |int      |24          |\n",
      "|olist_order_payments_dataset.csv     |payment_value                |103886   |5        |0          |0.0            |double   |29077       |\n",
      "|-                                    |-                            |null     |null     |null       |null           |-        |null        |\n",
      "|olist_order_reviews_dataset.csv      |review_id                    |104162   |7        |1          |0.0            |string   |102958      |\n",
      "|olist_order_reviews_dataset.csv      |order_id                     |104162   |7        |2236       |2.15           |string   |99743       |\n",
      "|olist_order_reviews_dataset.csv      |review_score                 |104162   |7        |2380       |2.28           |string   |2444        |\n",
      "|olist_order_reviews_dataset.csv      |review_comment_title         |104162   |7        |92157      |88.47          |string   |4948        |\n",
      "|olist_order_reviews_dataset.csv      |review_comment_message       |104162   |7        |63079      |60.56          |string   |35907       |\n",
      "|olist_order_reviews_dataset.csv      |review_creation_date         |104162   |7        |8764       |8.41           |string   |722         |\n",
      "|olist_order_reviews_dataset.csv      |review_answer_timestamp      |104162   |7        |8785       |8.43           |string   |94459       |\n",
      "|-                                    |-                            |null     |null     |null       |null           |-        |null        |\n",
      "|olist_orders_dataset.csv             |order_id                     |99441    |8        |0          |0.0            |string   |99441       |\n",
      "|olist_orders_dataset.csv             |customer_id                  |99441    |8        |0          |0.0            |string   |99441       |\n",
      "|olist_orders_dataset.csv             |order_status                 |99441    |8        |0          |0.0            |string   |8           |\n",
      "|olist_orders_dataset.csv             |order_purchase_timestamp     |99441    |8        |0          |0.0            |timestamp|98875       |\n",
      "|olist_orders_dataset.csv             |order_approved_at            |99441    |8        |160        |0.16           |timestamp|90734       |\n",
      "|olist_orders_dataset.csv             |order_delivered_carrier_date |99441    |8        |1783       |1.79           |timestamp|81019       |\n",
      "|olist_orders_dataset.csv             |order_delivered_customer_date|99441    |8        |2965       |2.98           |timestamp|95665       |\n",
      "|olist_orders_dataset.csv             |order_estimated_delivery_date|99441    |8        |0          |0.0            |timestamp|459         |\n",
      "|-                                    |-                            |null     |null     |null       |null           |-        |null        |\n",
      "|olist_products_dataset.csv           |product_id                   |32951    |9        |0          |0.0            |string   |32951       |\n",
      "|olist_products_dataset.csv           |product_category_name        |32951    |9        |610        |1.85           |string   |74          |\n",
      "|olist_products_dataset.csv           |product_name_lenght          |32951    |9        |610        |1.85           |int      |67          |\n",
      "|olist_products_dataset.csv           |product_description_lenght   |32951    |9        |610        |1.85           |int      |2961        |\n",
      "|olist_products_dataset.csv           |product_photos_qty           |32951    |9        |610        |1.85           |int      |20          |\n",
      "|olist_products_dataset.csv           |product_weight_g             |32951    |9        |2          |0.01           |int      |2205        |\n",
      "|olist_products_dataset.csv           |product_length_cm            |32951    |9        |2          |0.01           |int      |100         |\n",
      "|olist_products_dataset.csv           |product_height_cm            |32951    |9        |2          |0.01           |int      |103         |\n",
      "|olist_products_dataset.csv           |product_width_cm             |32951    |9        |2          |0.01           |int      |96          |\n",
      "|-                                    |-                            |null     |null     |null       |null           |-        |null        |\n",
      "|olist_sellers_dataset.csv            |seller_id                    |3095     |4        |0          |0.0            |string   |3095        |\n",
      "|olist_sellers_dataset.csv            |seller_zip_code_prefix       |3095     |4        |0          |0.0            |string   |2246        |\n",
      "|olist_sellers_dataset.csv            |seller_city                  |3095     |4        |0          |0.0            |string   |611         |\n",
      "|olist_sellers_dataset.csv            |seller_state                 |3095     |4        |0          |0.0            |string   |23          |\n",
      "|-                                    |-                            |null     |null     |null       |null           |-        |null        |\n",
      "|product_category_name_translation.csv|product_category_name        |71       |2        |0          |0.0            |string   |71          |\n",
      "|product_category_name_translation.csv|product_category_name_english|71       |2        |0          |0.0            |string   |71          |\n",
      "|-                                    |-                            |null     |null     |null       |null           |-        |null        |\n",
      "+-------------------------------------+-----------------------------+---------+---------+-----------+---------------+---------+------------+\n",
      "\n"
     ]
    }
   ],
   "source": [
    "def show_detailed_stats(df_list: List[DataFrame]):\n",
    "    columns = [\"dataset_name\", \"column_name\", \"row_count\", \"col_count\", \"null_amount\", \"null_percentage\", \"data_type\", \"unique_count\"]\n",
    "    all_df = []\n",
    "    \n",
    "    for df in df_list:\n",
    "        data = [\n",
    "            (\n",
    "                df.select(F.element_at(F.split(F.input_file_name(), \"/\"), -1)).first()[0],\n",
    "                c, \n",
    "                df.count(), \n",
    "                len(df.columns), \n",
    "                df.where(df[c].isNull()).count(), \n",
    "                round(100 * df.where(df[c].isNull()).count() / df.count(), 2),\n",
    "                dict(df.dtypes)[c], \n",
    "                df.select(c).distinct().count()\n",
    "             ) \n",
    "                 for c in df.columns\n",
    "        ]\n",
    "        all_df.extend(data)\n",
    "        all_df.append((\"-\", \"-\", \"-\", \"-\", \"-\", \"-\", \"-\", \"-\"))\n",
    "    rdd = spark.sparkContext.parallelize(all_df)\n",
    "    result_df = rdd.toDF(columns)\n",
    "    return result_df\n",
    "\n",
    "stats_df = show_detailed_stats([\n",
    "    customers_df,\n",
    "    geolocation_df,\n",
    "    order_items_df,\n",
    "    order_payments_df,\n",
    "    order_reviews_df,\n",
    "    orders_df,\n",
    "    products_df,\n",
    "    sellers_df,\n",
    "    product_category_name_translation_df,\n",
    "])\n",
    "stats_df.show(n=100, truncate=False)"
   ]
  },
  {
   "cell_type": "markdown",
   "id": "2369fb68-ad40-412b-81ba-2859375f7a69",
   "metadata": {},
   "source": [
    "## Exploratory Data Analysis (EDA)"
   ]
  },
  {
   "cell_type": "markdown",
   "id": "0111e992-bd24-4b5b-b8bd-6a02de9b3145",
   "metadata": {},
   "source": [
    "### How many orders we have for each status?"
   ]
  },
  {
   "cell_type": "markdown",
   "id": "7a404468-feec-48a0-922d-f6fdf63b4c57",
   "metadata": {
    "tags": []
   },
   "source": [
    "### What is the total number of orders per month, per week, per time of the day (Dawn, Morning, Afternoon, Night)?\n",
    "\n",
    "Line Chart\n",
    "\n",
    "1. Is there any growing trend on brazilian e-commerce?\n",
    "2. On what day of week brazilians customers tend to do online purchasing?\n",
    "3. What time brazilians customers tend do buy (Dawn, Morning, Afternoon or Night)?"
   ]
  },
  {
   "cell_type": "markdown",
   "id": "c872a21a-b4f1-40e5-a07d-c7e83d1ddfc8",
   "metadata": {},
   "source": [
    "#### Transform the order_purchase_timestamp to get the following:\n",
    "\n",
    "Date Dimension:\n",
    "\n",
    "- Year Month\n",
    "- Day of Week\n",
    "- Time of Day"
   ]
  },
  {
   "cell_type": "markdown",
   "id": "56e7c630-8857-48de-be4b-3771d413ca80",
   "metadata": {},
   "source": [
    "### Create a Comparison Between 2017 and 2018 Total Orders (Month by Month and YoY)"
   ]
  },
  {
   "cell_type": "markdown",
   "id": "8298e6d6-7556-44f7-90c6-b49830297c28",
   "metadata": {},
   "source": [
    "### Geospatial Visualization"
   ]
  },
  {
   "cell_type": "markdown",
   "id": "c8b98dfa-2f1a-41c5-940b-12cf51103d63",
   "metadata": {},
   "source": [
    "#### Data Processing Required\n",
    "1. Merge the orders data to order_items data;\n",
    "2. Use an API (brazilian government) to return the region of each customer_state;\n",
    "3. Purpose useful charts to answear business questions."
   ]
  },
  {
   "cell_type": "markdown",
   "id": "578b4fee-9107-4f46-b752-26881c9f7ac3",
   "metadata": {},
   "source": [
    "#### Total Number of Customer Order by Region, State, City\n",
    "\n",
    "- Comparison of Each Region Orders per Month\n",
    "- Top 10 Brazilian Cities with More Orders\n",
    "- Total of Customers Orders by State"
   ]
  },
  {
   "cell_type": "markdown",
   "id": "a80b7f2e-504e-47e2-ba3e-7147bd50c6a7",
   "metadata": {},
   "source": [
    "#### How customers are distributed in Brazil? (Map and Heatmap)"
   ]
  },
  {
   "cell_type": "markdown",
   "id": "952afbac-d6dc-47a3-88c4-51cd3e0f394e",
   "metadata": {},
   "source": [
    "#### Total Orders vs. Total Amount Sold\n",
    "- Per Month (Line)\n",
    "- Per year (Number)"
   ]
  },
  {
   "cell_type": "markdown",
   "id": "396f1c87-bc31-49e1-99d2-357419cdf4f5",
   "metadata": {},
   "source": [
    "#### How the total sales (sum of price) are concentraded in brazilian states?\n",
    "\n",
    "- Average price per Customer State\n",
    "- Total price by Customer State"
   ]
  },
  {
   "cell_type": "markdown",
   "id": "6f962605-b237-49e7-8b4c-e1125bf9aa65",
   "metadata": {},
   "source": [
    "#### What are the best states to buy in Brazil? An analysis on sales, freight and delivery time\n",
    "\n",
    "- Average Freight Paid for Online Shopping\n",
    "- Top 5 States with Highest Avg Freight Value\n",
    "- Top 5 States with Lowest Average Freight Value\n",
    "\n",
    "- Average Delay (days) for delivery for online shopping\n",
    "- Top 5 States with Highest Average Time to Delivery\n",
    "- Top 5 States with Lowest Average Time to Delivery\n",
    "- Average Difference between delivery and estimated date\n",
    "- Top 5 States Delivery is Really Fast\n",
    "- Top 5 States Delivery is not so Fast\n"
   ]
  },
  {
   "cell_type": "markdown",
   "id": "e5c16080-53ac-4886-b84b-76e681a489ec",
   "metadata": {},
   "source": [
    "## Payment Type Analysis\n",
    "\n",
    "- Total Transactions by Payment Type\n",
    "- Distribution of Payment Installments\n",
    "- Total Orders Purcharsed By Month"
   ]
  },
  {
   "cell_type": "code",
   "execution_count": null,
   "id": "908da764-ab1d-4ecc-908a-556ff7e20aed",
   "metadata": {},
   "outputs": [],
   "source": []
  }
 ],
 "metadata": {
  "kernelspec": {
   "display_name": "Python 3 (ipykernel)",
   "language": "python",
   "name": "python3"
  },
  "language_info": {
   "codemirror_mode": {
    "name": "ipython",
    "version": 3
   },
   "file_extension": ".py",
   "mimetype": "text/x-python",
   "name": "python",
   "nbconvert_exporter": "python",
   "pygments_lexer": "ipython3",
   "version": "3.9.13"
  }
 },
 "nbformat": 4,
 "nbformat_minor": 5
}
