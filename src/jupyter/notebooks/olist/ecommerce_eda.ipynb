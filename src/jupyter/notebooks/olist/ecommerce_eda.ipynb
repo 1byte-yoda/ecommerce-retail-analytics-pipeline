{
 "cells": [
  {
   "cell_type": "markdown",
   "id": "2642bdfe-7c41-4eda-a3fe-cedccafaa7f2",
   "metadata": {},
   "source": [
    "## Read The Datasets"
   ]
  },
  {
   "cell_type": "markdown",
   "id": "e25e3b2b-225f-42c4-9e54-888a17fff250",
   "metadata": {},
   "source": [
    "## Overview of Each Dataset\n"
   ]
  },
  {
   "cell_type": "markdown",
   "id": "5e48bfa5-20bd-4f2c-803d-acb06fa63111",
   "metadata": {},
   "source": [
    "### Dataset High Level Overview\n",
    "\n",
    "For each Dataset get the ff. (tabular)\n",
    "- Number of Rows\n",
    "- Number of Columns\n",
    "- Number of Null Values\n",
    "- Number Columns with Null Values\n",
    "- List of Columns with Null"
   ]
  },
  {
   "cell_type": "markdown",
   "id": "b81894be-0e7c-44a0-8636-f3fd200b4e59",
   "metadata": {},
   "source": [
    "### Dataset Detailed Info\n",
    "\n",
    "Create a tabular data of the ff.\n",
    "\n",
    "- Column name\n",
    "- Null amount\n",
    "- Null percentage among the respective dataset\n",
    "- Data type\n",
    "- total categorical entries"
   ]
  },
  {
   "cell_type": "markdown",
   "id": "2369fb68-ad40-412b-81ba-2859375f7a69",
   "metadata": {},
   "source": [
    "## Exploratory Data Analysis (EDA)"
   ]
  },
  {
   "cell_type": "markdown",
   "id": "0111e992-bd24-4b5b-b8bd-6a02de9b3145",
   "metadata": {},
   "source": [
    "### How many orders we have for each status?"
   ]
  },
  {
   "cell_type": "markdown",
   "id": "7a404468-feec-48a0-922d-f6fdf63b4c57",
   "metadata": {
    "jp-MarkdownHeadingCollapsed": true
   },
   "source": [
    "### What is the total number of orders per month, per week, per time of the day (Dawn, Morning, Afternoon, Night)?\n",
    "\n",
    "Line Chart\n",
    "\n",
    "1. Is there any growing trend on brazilian e-commerce?\n",
    "2. On what day of week brazilians customers tend to do online purchasing?\n",
    "3. What time brazilians customers tend do buy (Dawn, Morning, Afternoon or Night)?"
   ]
  },
  {
   "cell_type": "markdown",
   "id": "c872a21a-b4f1-40e5-a07d-c7e83d1ddfc8",
   "metadata": {},
   "source": [
    "#### Transform the order_purchase_timestamp to get the following:\n",
    "\n",
    "Date Dimension:\n",
    "\n",
    "- Year Month\n",
    "- Day of Week\n",
    "- Time of Day"
   ]
  },
  {
   "cell_type": "markdown",
   "id": "56e7c630-8857-48de-be4b-3771d413ca80",
   "metadata": {},
   "source": [
    "### Create a Comparison Between 2017 and 2018 Total Orders (Month by Month and YoY)"
   ]
  },
  {
   "cell_type": "markdown",
   "id": "8298e6d6-7556-44f7-90c6-b49830297c28",
   "metadata": {},
   "source": [
    "### Geospatial Visualization"
   ]
  },
  {
   "cell_type": "markdown",
   "id": "c8b98dfa-2f1a-41c5-940b-12cf51103d63",
   "metadata": {},
   "source": [
    "#### Data Processing Required\n",
    "1. Merge the orders data to order_items data;\n",
    "2. Use an API (brazilian government) to return the region of each customer_state;\n",
    "3. Purpose useful charts to answear business questions."
   ]
  },
  {
   "cell_type": "markdown",
   "id": "578b4fee-9107-4f46-b752-26881c9f7ac3",
   "metadata": {},
   "source": [
    "#### Total Number of Customer Order by Region, State, City\n",
    "\n",
    "- Comparison of Each Region Orders per Month\n",
    "- Top 10 Brazilian Cities with More Orders\n",
    "- Total of Customers Orders by State"
   ]
  },
  {
   "cell_type": "markdown",
   "id": "a80b7f2e-504e-47e2-ba3e-7147bd50c6a7",
   "metadata": {},
   "source": [
    "#### How customers are distributed in Brazil? (Map and Heatmap)"
   ]
  },
  {
   "cell_type": "markdown",
   "id": "952afbac-d6dc-47a3-88c4-51cd3e0f394e",
   "metadata": {},
   "source": [
    "#### Total Orders vs. Total Amount Sold\n",
    "- Per Month (Line)\n",
    "- Per year (Number)"
   ]
  },
  {
   "cell_type": "markdown",
   "id": "396f1c87-bc31-49e1-99d2-357419cdf4f5",
   "metadata": {},
   "source": [
    "#### How the total sales (sum of price) are concentraded in brazilian states?\n",
    "\n",
    "- Average price per Customer State\n",
    "- Total price by Customer State"
   ]
  },
  {
   "cell_type": "markdown",
   "id": "6f962605-b237-49e7-8b4c-e1125bf9aa65",
   "metadata": {},
   "source": [
    "#### What are the best states to buy in Brazil? An analysis on sales, freight and delivery time\n",
    "\n",
    "- Average Freight Paid for Online Shopping\n",
    "- Top 5 States with Highest Avg Freight Value\n",
    "- Top 5 States with Lowest Average Freight Value\n",
    "\n",
    "- Average Delay (days) for delivery for online shopping\n",
    "- Top 5 States with Highest Average Time to Delivery\n",
    "- Top 5 States with Lowest Average Time to Delivery\n",
    "- Average Difference between delivery and estimated date\n",
    "- Top 5 States Delivery is Really Fast\n",
    "- Top 5 States Delivery is not so Fast\n"
   ]
  },
  {
   "cell_type": "markdown",
   "id": "e5c16080-53ac-4886-b84b-76e681a489ec",
   "metadata": {},
   "source": [
    "## Payment Type Analysis\n",
    "\n",
    "- Total Transactions by Payment Type\n",
    "- Distribution of Payment Installments\n",
    "- Total Orders Purcharsed By Month"
   ]
  },
  {
   "cell_type": "code",
   "execution_count": null,
   "id": "908da764-ab1d-4ecc-908a-556ff7e20aed",
   "metadata": {},
   "outputs": [],
   "source": []
  }
 ],
 "metadata": {
  "kernelspec": {
   "display_name": "Python 3 (ipykernel)",
   "language": "python",
   "name": "python3"
  },
  "language_info": {
   "codemirror_mode": {
    "name": "ipython",
    "version": 3
   },
   "file_extension": ".py",
   "mimetype": "text/x-python",
   "name": "python",
   "nbconvert_exporter": "python",
   "pygments_lexer": "ipython3",
   "version": "3.11.5"
  }
 },
 "nbformat": 4,
 "nbformat_minor": 5
}
