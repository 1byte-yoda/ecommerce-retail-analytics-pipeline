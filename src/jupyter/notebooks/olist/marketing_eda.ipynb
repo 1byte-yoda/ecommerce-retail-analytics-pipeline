{
 "cells": [
  {
   "cell_type": "markdown",
   "id": "b69c4019-92d2-4ae0-90ce-65e6f1f991ab",
   "metadata": {},
   "source": [
    "## Closed Deals Dataset"
   ]
  },
  {
   "cell_type": "markdown",
   "id": "7e255752-20fb-4a51-b1b0-94ddbeb77de0",
   "metadata": {
    "jp-MarkdownHeadingCollapsed": true
   },
   "source": [
    "### Show Sample Data"
   ]
  },
  {
   "cell_type": "markdown",
   "id": "51959e00-e427-4c9f-91f0-fc5d7d68c42d",
   "metadata": {},
   "source": [
    "### Dataset Schema"
   ]
  },
  {
   "cell_type": "markdown",
   "id": "2483567b-7de7-40b3-bee3-fe45beb2d7a7",
   "metadata": {},
   "source": [
    "### High Level Statistics"
   ]
  },
  {
   "cell_type": "markdown",
   "id": "f1d67cb8-7dec-479e-b3ee-0d2ce73d48e4",
   "metadata": {},
   "source": [
    "### Statistics"
   ]
  },
  {
   "cell_type": "markdown",
   "id": "d6d1fb2f-c69f-42c2-9133-db13e6491ba4",
   "metadata": {},
   "source": [
    "### Convert Data Types"
   ]
  },
  {
   "cell_type": "markdown",
   "id": "133d7930-9fa5-432b-8d1e-0fc8ac8b5796",
   "metadata": {},
   "source": [
    "### Drop Unused Columns (??)"
   ]
  },
  {
   "cell_type": "markdown",
   "id": "4dd53b97-0064-4faa-af7d-40356332fab1",
   "metadata": {},
   "source": [
    "### Count Null Values"
   ]
  },
  {
   "cell_type": "markdown",
   "id": "7e8d3f9d-e15f-4fe5-ae65-6c4a11cadcbd",
   "metadata": {},
   "source": [
    "### Fill Null Values with \"Unknown\""
   ]
  },
  {
   "cell_type": "markdown",
   "id": "7cd08073-54ea-484c-aa8b-6dcfda97e2ea",
   "metadata": {},
   "source": [
    "### Count Duplicate Rows"
   ]
  },
  {
   "cell_type": "markdown",
   "id": "a00c74e1-767f-4a76-9ea9-ebdd9f17a60e",
   "metadata": {},
   "source": [
    "### Check Duplicate Values for Each field"
   ]
  },
  {
   "cell_type": "markdown",
   "id": "386de980-2203-4050-a1f9-e17cd20895e5",
   "metadata": {},
   "source": [
    "### Check each field unique values"
   ]
  },
  {
   "cell_type": "markdown",
   "id": "ba7ea510-7b67-41be-931c-30f25a3ed84b",
   "metadata": {},
   "source": [
    "## Marketing Qualified Leads Dataset"
   ]
  },
  {
   "cell_type": "markdown",
   "id": "03c45026-e8af-4b07-9569-e236525dd26b",
   "metadata": {},
   "source": [
    "### Show Sample Data"
   ]
  },
  {
   "cell_type": "markdown",
   "id": "f8de3b79-fa55-4692-a61d-e4503d4951cd",
   "metadata": {},
   "source": [
    "### Dataset Schema"
   ]
  },
  {
   "cell_type": "markdown",
   "id": "7333e39c-e170-431f-b1ae-6c0e1ac48c31",
   "metadata": {},
   "source": [
    "### High Level Statistics"
   ]
  },
  {
   "cell_type": "markdown",
   "id": "153ed1d6-5b7b-4474-b999-48ef8a6c9bab",
   "metadata": {},
   "source": [
    "### Statistics"
   ]
  },
  {
   "cell_type": "markdown",
   "id": "e03b1cc5-6555-4690-86e2-ba7448eab168",
   "metadata": {},
   "source": [
    "### Convert Data Types"
   ]
  },
  {
   "cell_type": "markdown",
   "id": "6b86b299-7886-40a0-9f36-bea0a8313b11",
   "metadata": {},
   "source": [
    "### Fill Null Values with \"Unknown\""
   ]
  },
  {
   "cell_type": "markdown",
   "id": "5a8e5849-2b0a-4412-9402-8d9fee2b8130",
   "metadata": {},
   "source": [
    "### Drop Unused Columns (??)"
   ]
  },
  {
   "cell_type": "markdown",
   "id": "d3c0b9ca-9372-4f70-a5e0-937e08e8c66b",
   "metadata": {},
   "source": [
    "### Count Null Values"
   ]
  },
  {
   "cell_type": "markdown",
   "id": "c0bd6154-5b10-4aa6-ae9d-6b17f9aba57a",
   "metadata": {},
   "source": [
    "### Count Duplicate Rows"
   ]
  },
  {
   "cell_type": "markdown",
   "id": "57f9009b-bd86-43a1-b44a-0c5decf2b169",
   "metadata": {},
   "source": [
    "### Check Duplicate Values for Each field"
   ]
  },
  {
   "cell_type": "markdown",
   "id": "304fb101-9dcc-438f-9535-fa1f4aa56911",
   "metadata": {},
   "source": [
    "### Check each field unique values"
   ]
  },
  {
   "cell_type": "markdown",
   "id": "6bfcb3cc-ccb2-4e43-ab65-307672ad7d92",
   "metadata": {},
   "source": [
    "## Data Transformation for Funnel Analysis"
   ]
  },
  {
   "cell_type": "markdown",
   "id": "3f8333d3-d32f-4578-a60f-b847b53f53b9",
   "metadata": {},
   "source": [
    "### Create Months Field from won_date and first_contact_date"
   ]
  },
  {
   "cell_type": "markdown",
   "id": "ea01163c-674b-40e1-baf0-96986a2a42af",
   "metadata": {},
   "source": [
    "## Marketing Channel Effectiveness"
   ]
  },
  {
   "cell_type": "markdown",
   "id": "530d03e9-0671-4249-aa25-178a3b85d02f",
   "metadata": {},
   "source": [
    "### Which Channels has the most leads per month? (Heatmap)"
   ]
  },
  {
   "cell_type": "markdown",
   "id": "d8316640-d1a6-46d8-b08b-379789755026",
   "metadata": {},
   "source": [
    "### Which Channels has the most revenue per month? (Bar)"
   ]
  },
  {
   "cell_type": "markdown",
   "id": "69f169ff-7105-4525-be75-f6e071d4acbd",
   "metadata": {},
   "source": [
    "### Summary"
   ]
  },
  {
   "cell_type": "markdown",
   "id": "e41c3c3f-3c82-4de7-8a5a-4a9af4d64ae0",
   "metadata": {},
   "source": [
    "## Sales Performance Overview"
   ]
  },
  {
   "cell_type": "markdown",
   "id": "d2767ba2-4376-4aa7-ad90-0c7aeab5495a",
   "metadata": {},
   "source": [
    "### What is the accummulated revenue per month? (Line)"
   ]
  },
  {
   "cell_type": "markdown",
   "id": "4ffa0fb2-4365-4b4b-b7b4-50abb2e34630",
   "metadata": {},
   "source": [
    "### What is the average number of days (sales duration) before a customer buys a product? (Number)"
   ]
  },
  {
   "cell_type": "markdown",
   "id": "b1e2dcde-9041-47da-b3b1-c802fa7d6619",
   "metadata": {},
   "source": [
    "### What is the sales duration over time? (Line)"
   ]
  },
  {
   "cell_type": "markdown",
   "id": "ff1829f1-4648-4d1c-ae8d-72e4ae2b3b46",
   "metadata": {},
   "source": [
    "### What is the sales duration for 2017 vs 2018? (Line)"
   ]
  },
  {
   "cell_type": "markdown",
   "id": "9cffa65a-6da3-4e5a-b954-ca000445c76e",
   "metadata": {},
   "source": [
    "### What is the total sales count per month? (Line)"
   ]
  },
  {
   "cell_type": "markdown",
   "id": "f98fd373-96b0-4737-9351-adecd52c17ca",
   "metadata": {},
   "source": [
    "### What is the Customer Conversion Rate Over Time? (Line) - Total Customers who registered / Total Customers"
   ]
  },
  {
   "cell_type": "markdown",
   "id": "0716f339-fb59-43c0-ae7b-385f46563760",
   "metadata": {},
   "source": [
    "### Summary"
   ]
  },
  {
   "cell_type": "markdown",
   "id": "09a0c3ab-5318-415f-9970-4988b4158ee6",
   "metadata": {},
   "source": [
    "## Close Deal Performance Overview"
   ]
  },
  {
   "cell_type": "markdown",
   "id": "33fdd5e2-bddb-4ae1-b8d1-d01958424505",
   "metadata": {},
   "source": [
    "### Join Marketing Qualified Lead and Closed Deal Dataset using mql_id"
   ]
  },
  {
   "cell_type": "markdown",
   "id": "f4ed233c-c8bb-4d1a-8f44-36fa90091352",
   "metadata": {},
   "source": [
    "### Add a column to distinguish signed MOLs from MQLs who left without signing up (those with seller ID)"
   ]
  },
  {
   "cell_type": "markdown",
   "id": "193927f3-d8b8-4b51-9dbd-abb31b0da9d5",
   "metadata": {},
   "source": [
    "### Create a funnel for Business Type"
   ]
  },
  {
   "cell_type": "markdown",
   "id": "e9ad888b-a8db-410a-9ee8-9f91d2139fee",
   "metadata": {},
   "source": [
    "### Which Business Type Orders More? (Donut)"
   ]
  },
  {
   "cell_type": "markdown",
   "id": "0834ea0a-4d7e-4700-b1ea-8297c03c1f6c",
   "metadata": {},
   "source": [
    "### Which Business Type Pays More? (Bar)"
   ]
  },
  {
   "cell_type": "markdown",
   "id": "262d365c-338f-41dd-8cf9-af7a2ce28876",
   "metadata": {},
   "source": [
    "### Create a funnel for Business Segment"
   ]
  },
  {
   "cell_type": "markdown",
   "id": "1936988e-1903-400e-a02b-84459ecc9402",
   "metadata": {},
   "source": [
    "### Which Business Segment Makes More Money? (Donut)"
   ]
  },
  {
   "cell_type": "markdown",
   "id": "0773f968-ddce-4777-9011-9108f3f6b90c",
   "metadata": {},
   "source": [
    "### Summary"
   ]
  },
  {
   "cell_type": "code",
   "execution_count": null,
   "id": "fbd7e14c-698a-49f3-af8b-20a520fd70f7",
   "metadata": {},
   "outputs": [],
   "source": []
  }
 ],
 "metadata": {
  "kernelspec": {
   "display_name": "Python 3 (ipykernel)",
   "language": "python",
   "name": "python3"
  },
  "language_info": {
   "codemirror_mode": {
    "name": "ipython",
    "version": 3
   },
   "file_extension": ".py",
   "mimetype": "text/x-python",
   "name": "python",
   "nbconvert_exporter": "python",
   "pygments_lexer": "ipython3",
   "version": "3.11.5"
  }
 },
 "nbformat": 4,
 "nbformat_minor": 5
}
