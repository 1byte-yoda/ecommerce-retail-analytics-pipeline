{
 "cells": [
  {
   "cell_type": "markdown",
   "id": "a87fc453-7a91-41b5-8248-68995ae48113",
   "metadata": {},
   "source": [
    "## Data Profiling Flipkart Products Dataset"
   ]
  },
  {
   "cell_type": "code",
   "execution_count": 1,
   "id": "6baae631-7224-4993-8139-59d987a36a3f",
   "metadata": {},
   "outputs": [
    {
     "name": "stdout",
     "output_type": "stream",
     "text": [
      "Requirement already satisfied: delta_spark in /opt/conda/lib/python3.11/site-packages (2.4.0)\n",
      "Requirement already satisfied: pyspark<3.5.0,>=3.4.0 in /usr/local/spark/python (from delta_spark) (3.4.1)\n",
      "Requirement already satisfied: importlib-metadata>=1.0.0 in /opt/conda/lib/python3.11/site-packages (from delta_spark) (6.8.0)\n",
      "Requirement already satisfied: zipp>=0.5 in /opt/conda/lib/python3.11/site-packages (from importlib-metadata>=1.0.0->delta_spark) (3.16.2)\n",
      "Requirement already satisfied: py4j==0.10.9.7 in /opt/conda/lib/python3.11/site-packages (from pyspark<3.5.0,>=3.4.0->delta_spark) (0.10.9.7)\n",
      "Note: you may need to restart the kernel to use updated packages.\n"
     ]
    }
   ],
   "source": [
    "%pip install delta_spark"
   ]
  },
  {
   "cell_type": "code",
   "execution_count": 2,
   "id": "1076d093-670d-4876-a502-1fde636708a5",
   "metadata": {},
   "outputs": [],
   "source": [
    "from pathlib import Path"
   ]
  },
  {
   "cell_type": "code",
   "execution_count": 3,
   "id": "1c98fabc-1feb-4c7c-bd77-217dcae5306d",
   "metadata": {},
   "outputs": [],
   "source": [
    "from pyspark.sql import SparkSession\n",
    "from pyspark.sql.types import StructType, StructField, StringType, ArrayType, BooleanType, IntegerType, FloatType\n",
    "from pyspark.sql import functions as F\n",
    "from delta.pip_utils import configure_spark_with_delta_pip"
   ]
  },
  {
   "cell_type": "code",
   "execution_count": 4,
   "id": "106fdf18-c427-447a-a625-5ba9d9e994e3",
   "metadata": {},
   "outputs": [],
   "source": [
    "JAR_PACKAGES = \",\".join([str(x) for x in Path(\"../jars\").glob(\"*.jar\")])"
   ]
  },
  {
   "cell_type": "code",
   "execution_count": 5,
   "id": "16340738-1fe4-419a-a017-4e8a38b029a6",
   "metadata": {},
   "outputs": [],
   "source": [
    "builder = SparkSession.builder.appName(\"delta\").master(\"spark://spark:7077\") \\\n",
    "    .config(\"hive.metastore.uris\", \"thrift://hive-metastore:9083\") \\\n",
    "    .config(\"spark.jars\", JAR_PACKAGES) \\\n",
    "    .config(\"spark.sql.extensions\", \"io.delta.sql.DeltaSparkSessionExtension\") \\\n",
    "    .config(\"spark.sql.catalog.spark_catalog\", \"org.apache.spark.sql.delta.catalog.DeltaCatalog\") \\\n",
    "    .config(\"spark.sql.extensions\",\"io.delta.sql.DeltaSparkSessionExtension\") \\\n",
    "    .config(\"spark.sql.catalog.spark_catalog\",\"org.apache.spark.sql.delta.catalog.DeltaCatalog\") \\\n",
    "    .config(\"spark.hadoop.fs.s3a.access.key\",\"datalake\") \\\n",
    "    .config(\"spark.hadoop.fs.s3a.secret.key\",\"datalake\") \\\n",
    "    .config(\"spark.hadoop.fs.s3a.endpoint\",\"http://minio:9000\") \\\n",
    "    .config(\"spark.hadoop.fs.s3a.path.style.access\", \"true\") \\\n",
    "    .config(\"spark.hadoop.fs.s3a.impl\", \"org.apache.hadoop.fs.s3a.S3AFileSystem\")"
   ]
  },
  {
   "cell_type": "code",
   "execution_count": 6,
   "id": "b420548f-2898-44e6-93d7-fec8522d661e",
   "metadata": {},
   "outputs": [],
   "source": [
    "spark = configure_spark_with_delta_pip(builder).enableHiveSupport().getOrCreate()"
   ]
  },
  {
   "cell_type": "code",
   "execution_count": 7,
   "id": "3bcbf1b4-1beb-49e0-bad4-49fc8e726253",
   "metadata": {},
   "outputs": [],
   "source": [
    "ecommerce_schema = StructType([\n",
    "    StructField(\"uniq_id\", StringType(), False),\n",
    "    StructField(\"crawl_timestamp\", StringType()),\n",
    "    StructField(\"product_url\", StringType()),\n",
    "    StructField(\"product_name\", StringType()),\n",
    "    StructField(\"product_category_tree\", StringType()),\n",
    "    StructField(\"pid\", StringType()),\n",
    "    StructField(\"retail_price\", FloatType()),\n",
    "    StructField(\"discounted_price\", FloatType()),\n",
    "    StructField(\"image\", StringType()),\n",
    "    StructField(\"is_FK_Advantage_product\", StringType()),\n",
    "    StructField(\"description\", StringType()),\n",
    "    StructField(\"product_rating\", StringType()),\n",
    "    StructField(\"overall_rating\", StringType()),\n",
    "    StructField(\"brand\", StringType()),\n",
    "    StructField(\"product_specifications\", StringType())\n",
    "])\n",
    "dict_specs_schema = StructType([\n",
    "    StructField(\"key\", StringType()),\n",
    "    StructField(\"value\", StringType()),\n",
    "])"
   ]
  },
  {
   "cell_type": "code",
   "execution_count": 8,
   "id": "d5f6f246-f051-4122-ada2-0f7eeb43d139",
   "metadata": {},
   "outputs": [],
   "source": [
    "bronze_container_path = \"s3a://bronze\"\n",
    "\n",
    "df = spark.read.format(\"csv\") \\\n",
    "    .option(\"escape\", '\"') \\\n",
    "    .option(\"multiLine\", True) \\\n",
    "    .option(\"header\", True) \\\n",
    "    .schema(ecommerce_schema) \\\n",
    "    .load(f\"{bronze_container_path}/flipkart_ecommerce.csv\")"
   ]
  },
  {
   "cell_type": "code",
   "execution_count": 9,
   "id": "8382b216-af4a-41c9-9854-8499fa1c09fc",
   "metadata": {},
   "outputs": [
    {
     "name": "stdout",
     "output_type": "stream",
     "text": [
      "root\n",
      " |-- uniq_id: string (nullable = true)\n",
      " |-- crawl_timestamp: string (nullable = true)\n",
      " |-- product_url: string (nullable = true)\n",
      " |-- product_name: string (nullable = true)\n",
      " |-- product_category_tree: string (nullable = true)\n",
      " |-- pid: string (nullable = true)\n",
      " |-- retail_price: float (nullable = true)\n",
      " |-- discounted_price: float (nullable = true)\n",
      " |-- image: string (nullable = true)\n",
      " |-- is_FK_Advantage_product: string (nullable = true)\n",
      " |-- description: string (nullable = true)\n",
      " |-- product_rating: string (nullable = true)\n",
      " |-- overall_rating: string (nullable = true)\n",
      " |-- brand: string (nullable = true)\n",
      " |-- product_specifications: string (nullable = true)\n",
      "\n"
     ]
    }
   ],
   "source": [
    "df.printSchema()"
   ]
  },
  {
   "cell_type": "markdown",
   "id": "f577dc0a-45ee-405a-bee7-59030f783612",
   "metadata": {},
   "source": [
    "### Calculating DataFrame Statistics"
   ]
  },
  {
   "cell_type": "code",
   "execution_count": 10,
   "id": "b6703a7b-d98a-461b-88c3-0083b7741eea",
   "metadata": {},
   "outputs": [
    {
     "name": "stdout",
     "output_type": "stream",
     "text": [
      "-RECORD 0---------------------------------------\n",
      " summary                 | count                \n",
      " uniq_id                 | 20000                \n",
      " crawl_timestamp         | 20000                \n",
      " product_url             | 20000                \n",
      " product_name            | 20000                \n",
      " product_category_tree   | 20000                \n",
      " pid                     | 20000                \n",
      " retail_price            | 19922                \n",
      " discounted_price        | 19922                \n",
      " image                   | 19997                \n",
      " is_FK_Advantage_product | 20000                \n",
      " description             | 19998                \n",
      " product_rating          | 20000                \n",
      " overall_rating          | 20000                \n",
      " brand                   | 14139                \n",
      " product_specifications  | 19986                \n",
      "-RECORD 1---------------------------------------\n",
      " summary                 | mean                 \n",
      " uniq_id                 | null                 \n",
      " crawl_timestamp         | null                 \n",
      " product_url             | null                 \n",
      " product_name            | null                 \n",
      " product_category_tree   | null                 \n",
      " pid                     | null                 \n",
      " retail_price            | 2979.2061038048387   \n",
      " discounted_price        | 1973.4017668908743   \n",
      " image                   | null                 \n",
      " is_FK_Advantage_product | null                 \n",
      " description             | null                 \n",
      " product_rating          | 3.807084910762573    \n",
      " overall_rating          | 3.807084910762573    \n",
      " brand                   | 4.0                  \n",
      " product_specifications  | null                 \n",
      "-RECORD 2---------------------------------------\n",
      " summary                 | stddev               \n",
      " uniq_id                 | null                 \n",
      " crawl_timestamp         | null                 \n",
      " product_url             | null                 \n",
      " product_name            | null                 \n",
      " product_category_tree   | null                 \n",
      " pid                     | null                 \n",
      " retail_price            | 9009.639341426731    \n",
      " discounted_price        | 7333.586040242595    \n",
      " image                   | null                 \n",
      " is_FK_Advantage_product | null                 \n",
      " description             | null                 \n",
      " product_rating          | 1.261860868111159    \n",
      " overall_rating          | 1.261860868111159    \n",
      " brand                   | 0.0                  \n",
      " product_specifications  | null                 \n",
      "-RECORD 3---------------------------------------\n",
      " summary                 | min                  \n",
      " uniq_id                 | 0001d5429cf080610... \n",
      " crawl_timestamp         | 2015-12-01 06:13:... \n",
      " product_url             | http://www.flipka... \n",
      " product_name            | 109F Solid Women'... \n",
      " product_category_tree   | [\"883 Police Full... \n",
      " pid                     | ABQEJ7YQTNQGMXZV     \n",
      " retail_price            | 35.0                 \n",
      " discounted_price        | 35.0                 \n",
      " image                   | [\"http://img5a.fl... \n",
      " is_FK_Advantage_product | false                \n",
      " description             | 109F Solid Women'... \n",
      " product_rating          | 1                    \n",
      " overall_rating          | 1                    \n",
      " brand                   | 1OAK                 \n",
      " product_specifications  | {\"product_specifi... \n",
      "-RECORD 4---------------------------------------\n",
      " summary                 | max                  \n",
      " uniq_id                 | fffe208fe08b938e4... \n",
      " crawl_timestamp         | 2016-06-28 08:45:... \n",
      " product_url             | http://www.flipka... \n",
      " product_name            |  Tarkan Unique St... \n",
      " product_category_tree   | [\"xy decor Cotton... \n",
      " pid                     | YSPEGGA5JKZFHP97     \n",
      " retail_price            | 571230.0             \n",
      " discounted_price        | 571230.0             \n",
      " image                   | [\"http://static03... \n",
      " is_FK_Advantage_product | true                 \n",
      " description             | zDelhi.com Car Wa... \n",
      " product_rating          | No rating available  \n",
      " overall_rating          | No rating available  \n",
      " brand                   |  Tarkan              \n",
      " product_specifications  | {\"product_specifi... \n",
      "\n"
     ]
    }
   ],
   "source": [
    "df.describe().show(vertical=True)"
   ]
  },
  {
   "cell_type": "markdown",
   "id": "5b641cb6-68c7-4d4c-889c-acbfa72d77d5",
   "metadata": {},
   "source": [
    "### Getting Each Field's Cardinality"
   ]
  },
  {
   "cell_type": "code",
   "execution_count": 11,
   "id": "381a8885-514c-41b5-8d58-08fa341b8f0b",
   "metadata": {},
   "outputs": [
    {
     "name": "stdout",
     "output_type": "stream",
     "text": [
      "+-------+---------------+-----------+------------+-----+------------+----------------+-----------------------+-----------+--------------+--------------+-----+---------------------+-----+----------------------+\n",
      "|uniq_id|crawl_timestamp|product_url|product_name|  pid|retail_price|discounted_price|is_FK_Advantage_product|description|product_rating|overall_rating|brand|product_category_tree|image|product_specifications|\n",
      "+-------+---------------+-----------+------------+-----+------------+----------------+-----------------------+-----------+--------------+--------------+-----+---------------------+-----+----------------------+\n",
      "|  20000|            371|      20000|       12676|19998|        2247|            2448|                      2|      17539|            36|            36| 3500|                 6466|18589|                 18825|\n",
      "+-------+---------------+-----------+------------+-----+------------+----------------+-----------------------+-----------+--------------+--------------+-----+---------------------+-----+----------------------+\n",
      "\n"
     ]
    }
   ],
   "source": [
    "df.select(\n",
    "    F.countDistinct(df.uniq_id).alias(\"uniq_id\"),\n",
    "    F.countDistinct(df.crawl_timestamp).alias(\"crawl_timestamp\"),\n",
    "    F.countDistinct(df.product_url).alias(\"product_url\"),\n",
    "    F.countDistinct(df.product_name).alias(\"product_name\"),\n",
    "    F.countDistinct(df.pid).alias(\"pid\"),\n",
    "    F.countDistinct(df.retail_price).alias(\"retail_price\"),\n",
    "    F.countDistinct(df.discounted_price).alias(\"discounted_price\"),\n",
    "    F.countDistinct(df.is_FK_Advantage_product).alias(\"is_FK_Advantage_product\"),\n",
    "    F.countDistinct(df.description).alias(\"description\"),\n",
    "    F.countDistinct(df.product_rating).alias(\"product_rating\"),\n",
    "    F.countDistinct(df.overall_rating).alias(\"overall_rating\"),\n",
    "    F.countDistinct(df.brand).alias(\"brand\"),\n",
    "    F.countDistinct(df.product_category_tree).alias(\"product_category_tree\"),\n",
    "    F.countDistinct(df.image).alias(\"image\"),\n",
    "    F.countDistinct(df.product_specifications).alias(\"product_specifications\")\n",
    ").show()"
   ]
  },
  {
   "cell_type": "markdown",
   "id": "ee22555b-580d-41fc-a883-9ffec7853076",
   "metadata": {},
   "source": [
    "#### Observation\n",
    "- uniq_id, product_url, and pid has the highest cardinality fields\n",
    "- crawl_timestamp has 371 distinct values which is \"just right\" for partitioning the data"
   ]
  },
  {
   "cell_type": "markdown",
   "id": "bbb31c4e-f8f5-4c9a-a883-f59508b5ab28",
   "metadata": {},
   "source": [
    "### Counting Null Values"
   ]
  },
  {
   "cell_type": "code",
   "execution_count": 12,
   "id": "3cced032-3ee2-4223-931e-1be98d3abc9a",
   "metadata": {},
   "outputs": [
    {
     "name": "stdout",
     "output_type": "stream",
     "text": [
      "+-------+---------------+-----------+------------+---+------------+----------------+-----------------------+-----------+--------------+--------------+-----+---------------------+-----+----------------------+\n",
      "|uniq_id|crawl_timestamp|product_url|product_name|pid|retail_price|discounted_price|is_FK_Advantage_product|description|product_rating|overall_rating|brand|product_category_tree|image|product_specifications|\n",
      "+-------+---------------+-----------+------------+---+------------+----------------+-----------------------+-----------+--------------+--------------+-----+---------------------+-----+----------------------+\n",
      "|      0|              0|          0|           0|  0|          78|              78|                      0|          2|             0|             0| 5861|                    0|    3|                    14|\n",
      "+-------+---------------+-----------+------------+---+------------+----------------+-----------------------+-----------+--------------+--------------+-----+---------------------+-----+----------------------+\n",
      "\n"
     ]
    }
   ],
   "source": [
    "df.select(\n",
    "    F.count(F.when(F.col(\"uniq_id\").isNull(), 1)).alias(\"uniq_id\"),\n",
    "    F.count(F.when(F.col(\"crawl_timestamp\").isNull(), 1)).alias(\"crawl_timestamp\"),\n",
    "    F.count(F.when(F.col(\"product_url\").isNull(), 1)).alias(\"product_url\"),\n",
    "    F.count(F.when(F.col(\"product_name\").isNull(), 1)).alias(\"product_name\"),\n",
    "    F.count(F.when(F.col(\"pid\").isNull(), 1)).alias(\"pid\"),\n",
    "    F.count(F.when(F.col(\"retail_price\").isNull(), 1)).alias(\"retail_price\"),\n",
    "    F.count(F.when(F.col(\"discounted_price\").isNull(), 1)).alias(\"discounted_price\"),\n",
    "    F.count(F.when(F.col(\"is_FK_Advantage_product\").isNull(), 1)).alias(\"is_FK_Advantage_product\"),\n",
    "    F.count(F.when(F.col(\"description\").isNull(), 1)).alias(\"description\"),\n",
    "    F.count(F.when(F.col(\"product_rating\").isNull(), 1)).alias(\"product_rating\"),\n",
    "    F.count(F.when(F.col(\"overall_rating\").isNull(), 1)).alias(\"overall_rating\"),\n",
    "    F.count(F.when(F.col(\"brand\").isNull(), 1)).alias(\"brand\"),\n",
    "    F.count(F.when(F.col(\"product_category_tree\").isNull(), 1)).alias(\"product_category_tree\"),\n",
    "    F.count(F.when(F.col(\"image\").isNull(), 1)).alias(\"image\"),\n",
    "    F.count(F.when(F.col(\"product_specifications\").isNull(), 1)).alias(\"product_specifications\"),\n",
    ").distinct().show()"
   ]
  },
  {
   "cell_type": "markdown",
   "id": "836fa619-5f3e-4b5a-b716-4d8ccbc9fbf9",
   "metadata": {},
   "source": [
    "#### Observation\n",
    "- 6 out of 15 fields contains null values\n",
    "- There are few products that does not have a price\n",
    "- The majority comes from the brand field"
   ]
  },
  {
   "cell_type": "markdown",
   "id": "492e3bf4-d2bb-4cda-99ab-dade3c3a9118",
   "metadata": {},
   "source": [
    "### Similarity of Ratings"
   ]
  },
  {
   "cell_type": "code",
   "execution_count": 13,
   "id": "47551716-c7bf-4301-a7cb-6ebf2947fc99",
   "metadata": {},
   "outputs": [
    {
     "name": "stdout",
     "output_type": "stream",
     "text": [
      "+---------------+\n",
      "|similar_ratings|\n",
      "+---------------+\n",
      "|          20000|\n",
      "+---------------+\n",
      "\n"
     ]
    }
   ],
   "source": [
    "df.select(\n",
    "    F.count(F.when(F.col(\"product_rating\") == F.col(\"overall_rating\"), 1)).alias(\"similar_ratings\")\n",
    ").show()"
   ]
  },
  {
   "cell_type": "markdown",
   "id": "73a8cfe3-c28d-4a30-b886-c237d67ebac8",
   "metadata": {},
   "source": [
    "#### Observation\n",
    "- All products have similar ratings which can be either the owner of the product is only selling a single product or they have a consistent customer service and product quality \n"
   ]
  },
  {
   "cell_type": "markdown",
   "id": "31dd6c26-78a3-487c-93b3-961a5225ea3b",
   "metadata": {},
   "source": [
    "### Inspecting Each Field's Value"
   ]
  },
  {
   "cell_type": "code",
   "execution_count": 14,
   "id": "7f6a056e-b10a-4664-b7b6-8d6ffd65f336",
   "metadata": {},
   "outputs": [
    {
     "name": "stdout",
     "output_type": "stream",
     "text": [
      "-RECORD 0--------------------------------------------------------------------------------------------------------------------------------------------------------------------------------------------------------------------------------------------------------------------------------------------------------------------------------------------------------------------------------------------------------------------------------------------------------------------------------------------------------------------------------------------------------------------------------------------------------------------------------------------\n",
      " uniq_id                 | c497e4250ea07a8a87efa8fda01ae6e0                                                                                                                                                                                                                                                                                                                                                                                                                                                                                                                                                                                          \n",
      " crawl_timestamp         | 2016-04-30 03:22:56 +0000                                                                                                                                                                                                                                                                                                                                                                                                                                                                                                                                                                                                 \n",
      " product_url             | http://www.flipkart.com/hrs-club-boy-thigh-pads/p/itmehzfj9zzhgckv?pid=PADEHZFJGQNSEVKC                                                                                                                                                                                                                                                                                                                                                                                                                                                                                                                                   \n",
      " product_name            | HRS CLUB BOY Thigh Pads                                                                                                                                                                                                                                                                                                                                                                                                                                                                                                                                                                                                   \n",
      " product_category_tree   | [\"Sports & Fitness >> Team Sports >> Cricket >> Cricket Pads >> HRS Cricket Pads >> HRS CLUB BOY Thigh Pads (WHITE, RIGHT-HANDED)\"]                                                                                                                                                                                                                                                                                                                                                                                                                                                                                       \n",
      " pid                     | PADEHZFJGQNSEVKC                                                                                                                                                                                                                                                                                                                                                                                                                                                                                                                                                                                                          \n",
      " retail_price            | 280.0                                                                                                                                                                                                                                                                                                                                                                                                                                                                                                                                                                                                                     \n",
      " discounted_price        | 250.0                                                                                                                                                                                                                                                                                                                                                                                                                                                                                                                                                                                                                     \n",
      " image                   | [\"http://img5a.flixcart.com/image/pad/f/f/s/tp103-hrs-thigh-pads-club-youth-1100x1100-imaeg772crkxymwf.jpeg\", \"http://img5a.flixcart.com/image/pad/f/f/s/tp103-hrs-thigh-pads-club-youth-original-imaeg772crkxymwf.jpeg\"]                                                                                                                                                                                                                                                                                                                                                                                                 \n",
      " is_FK_Advantage_product | false                                                                                                                                                                                                                                                                                                                                                                                                                                                                                                                                                                                                                     \n",
      " description             | HRS CLUB BOY Thigh Pads (WHITE, RIGHT-HANDED) Price: Rs. 250 Foam filled economical pad with elastic straps,Specifications of HRS CLUB BOY Thigh Pads (WHITE, RIGHT-HANDED) General Type Thigh Pads Face Material Polyvinyl Chloride Inner Material Cotton, Fabric Suitable for RIGHT-HANDED Dimensions Weight 170 g In the Box Sales Package 1 Pad                                                                                                                                                                                                                                                                       \n",
      " product_rating          | No rating available                                                                                                                                                                                                                                                                                                                                                                                                                                                                                                                                                                                                       \n",
      " overall_rating          | No rating available                                                                                                                                                                                                                                                                                                                                                                                                                                                                                                                                                                                                       \n",
      " brand                   | HRS                                                                                                                                                                                                                                                                                                                                                                                                                                                                                                                                                                                                                       \n",
      " product_specifications  | {\"product_specification\"=>[{\"key\"=>\"Type\", \"value\"=>\"Thigh Pads\"}, {\"key\"=>\"Face Material\", \"value\"=>\"Polyvinyl Chloride\"}, {\"key\"=>\"Inner Material\", \"value\"=>\"Cotton, Fabric\"}, {\"key\"=>\"Suitable for\", \"value\"=>\"RIGHT-HANDED\"}, {\"key\"=>\"Weight\", \"value\"=>\"170 g\"}, {\"key\"=>\"Sales Package\", \"value\"=>\"1 Pad\"}]}                                                                                                                                                                                                                                                                                                     \n",
      "-RECORD 1--------------------------------------------------------------------------------------------------------------------------------------------------------------------------------------------------------------------------------------------------------------------------------------------------------------------------------------------------------------------------------------------------------------------------------------------------------------------------------------------------------------------------------------------------------------------------------------------------------------------------------------------\n",
      " uniq_id                 | 8782cc47269fa18d54998b55ed1124a9                                                                                                                                                                                                                                                                                                                                                                                                                                                                                                                                                                                          \n",
      " crawl_timestamp         | 2015-12-04 07:25:36 +0000                                                                                                                                                                                                                                                                                                                                                                                                                                                                                                                                                                                                 \n",
      " product_url             | http://www.flipkart.com/kielz-ladies-boots/p/itmefmrzgbtukpzc?pid=SHOEFMRZZAXFQW4F                                                                                                                                                                                                                                                                                                                                                                                                                                                                                                                                        \n",
      " product_name            | Kielz Ladies Boots                                                                                                                                                                                                                                                                                                                                                                                                                                                                                                                                                                                                        \n",
      " product_category_tree   | [\"Footwear >> Women's Footwear >> Casual Shoes >> Boots\"]                                                                                                                                                                                                                                                                                                                                                                                                                                                                                                                                                                 \n",
      " pid                     | SHOEFMRZZAXFQW4F                                                                                                                                                                                                                                                                                                                                                                                                                                                                                                                                                                                                          \n",
      " retail_price            | 2299.0                                                                                                                                                                                                                                                                                                                                                                                                                                                                                                                                                                                                                    \n",
      " discounted_price        | 899.0                                                                                                                                                                                                                                                                                                                                                                                                                                                                                                                                                                                                                     \n",
      " image                   | [\"http://img5a.flixcart.com/image/shoe/g/k/s/red-1007-26-kielz-38-700x700-imaefhph3bvkj4gh.jpeg\", \"http://img6a.flixcart.com/image/shoe/g/k/s/red-1007-26-kielz-38-original-imaefhph3bvkj4gh.jpeg\", \"http://img6a.flixcart.com/image/shoe/g/k/s/red-1007-26-kielz-36-original-imaefhpmgxfzwv5t.jpeg\", \"http://img6a.flixcart.com/image/shoe/g/k/s/red-1007-26-kielz-36-original-imaefhpmwteykynh.jpeg\", \"http://img6a.flixcart.com/image/shoe/g/k/s/red-1007-26-kielz-41-original-imaefhpmkdvqjjhv.jpeg\", \"http://img6a.flixcart.com/image/shoe/g/k/s/red-1007-26-kielz-36-original-imaefhphjqtyqftn.jpeg\"]               \n",
      " is_FK_Advantage_product | false                                                                                                                                                                                                                                                                                                                                                                                                                                                                                                                                                                                                                     \n",
      " description             | Kielz Ladies Boots - Buy Kielz Ladies Boots - 1007-26 only for Rs. 899 from Flipkart.com. Only Genuine Products. 30 Day Replacement Guarantee. Free Shipping. Cash On Delivery!                                                                                                                                                                                                                                                                                                                                                                                                                                           \n",
      " product_rating          | 3.5                                                                                                                                                                                                                                                                                                                                                                                                                                                                                                                                                                                                                       \n",
      " overall_rating          | 3.5                                                                                                                                                                                                                                                                                                                                                                                                                                                                                                                                                                                                                       \n",
      " brand                   | null                                                                                                                                                                                                                                                                                                                                                                                                                                                                                                                                                                                                                      \n",
      " product_specifications  | {\"product_specification\"=>[{\"key\"=>\"Ideal For\", \"value\"=>\"Women\"}, {\"key\"=>\"Occasion\", \"value\"=>\"Casual\"}, {\"key\"=>\"Sole Material\", \"value\"=>\"TPR\"}, {\"key\"=>\"Tip Shape\", \"value\"=>\"Round\"}, {\"key\"=>\"Heel Height\", \"value\"=>\"0.5 inch\"}, {\"key\"=>\"Outer Material\", \"value\"=>\"PU\"}, {\"key\"=>\"Color\", \"value\"=>\"Red\"}, {\"value\"=>\"One Pair of Shoe\"}]}                                                                                                                                                                                                                                                                     \n",
      "-RECORD 2--------------------------------------------------------------------------------------------------------------------------------------------------------------------------------------------------------------------------------------------------------------------------------------------------------------------------------------------------------------------------------------------------------------------------------------------------------------------------------------------------------------------------------------------------------------------------------------------------------------------------------------------\n",
      " uniq_id                 | 5c6b6834e469c205fbf83f086e0a005d                                                                                                                                                                                                                                                                                                                                                                                                                                                                                                                                                                                          \n",
      " crawl_timestamp         | 2016-01-06 18:20:45 +0000                                                                                                                                                                                                                                                                                                                                                                                                                                                                                                                                                                                                 \n",
      " product_url             | http://www.flipkart.com/krasns-couture-formal-sleeveless-solid-women-s-top/p/itmece5dbuvkh4ga?pid=TOPECE5DGBQNGHJ9                                                                                                                                                                                                                                                                                                                                                                                                                                                                                                        \n",
      " product_name            | Krasns Couture Formal Sleeveless Solid Women's Top                                                                                                                                                                                                                                                                                                                                                                                                                                                                                                                                                                        \n",
      " product_category_tree   | [\"Clothing >> Women's Clothing >> Western Wear >> Shirts, Tops & Tunics >> Tops >> Krasns Couture Tops\"]                                                                                                                                                                                                                                                                                                                                                                                                                                                                                                                  \n",
      " pid                     | TOPECE5DGBQNGHJ9                                                                                                                                                                                                                                                                                                                                                                                                                                                                                                                                                                                                          \n",
      " retail_price            | 2900.0                                                                                                                                                                                                                                                                                                                                                                                                                                                                                                                                                                                                                    \n",
      " discounted_price        | 2500.0                                                                                                                                                                                                                                                                                                                                                                                                                                                                                                                                                                                                                    \n",
      " image                   | [\"http://img5a.flixcart.com/image/top/b/f/c/1-1-109-krasns-couture-xl-original-imaecgtz6mgjbqbn.jpeg\", \"http://img6a.flixcart.com/image/top/b/f/c/1-1-109-krasns-couture-xl-original-imaecgtz6mgjbqbn.jpeg\", \"http://img5a.flixcart.com/image/top/b/f/c/1-1-109-krasns-couture-xl-original-imaecgtzdkz3pvqh.jpeg\"]                                                                                                                                                                                                                                                                                                        \n",
      " is_FK_Advantage_product | false                                                                                                                                                                                                                                                                                                                                                                                                                                                                                                                                                                                                                     \n",
      " description             | Krasns Couture Formal Sleeveless Solid Women's Top - Buy Red Krasns Couture Formal Sleeveless Solid Women's Top For Only Rs. 2900 Online in India. Shop Online For Apparels. Huge Collection of Branded Clothes Only at Flipkart.com                                                                                                                                                                                                                                                                                                                                                                                      \n",
      " product_rating          | No rating available                                                                                                                                                                                                                                                                                                                                                                                                                                                                                                                                                                                                       \n",
      " overall_rating          | No rating available                                                                                                                                                                                                                                                                                                                                                                                                                                                                                                                                                                                                       \n",
      " brand                   | null                                                                                                                                                                                                                                                                                                                                                                                                                                                                                                                                                                                                                      \n",
      " product_specifications  | {\"product_specification\"=>[{\"key\"=>\"Ideal For\", \"value\"=>\"Women's\"}, {\"key\"=>\"Occasion\", \"value\"=>\"Formal\"}, {\"key\"=>\"Pattern\", \"value\"=>\"Solid\"}, {\"key\"=>\"Type\", \"value\"=>\"Top\"}, {\"key\"=>\"Fabric\", \"value\"=>\"Poly Georgette\"}, {\"key\"=>\"Neck\", \"value\"=>\"Round Neck\"}, {\"key\"=>\"Sleeve\", \"value\"=>\"Sleeveless\"}, {\"key\"=>\"Number of Contents in Sales Package\", \"value\"=>\"Pack of 1\"}, {\"value\"=>\"1 Top\"}]}                                                                                                                                                                                                            \n",
      "-RECORD 3--------------------------------------------------------------------------------------------------------------------------------------------------------------------------------------------------------------------------------------------------------------------------------------------------------------------------------------------------------------------------------------------------------------------------------------------------------------------------------------------------------------------------------------------------------------------------------------------------------------------------------------------\n",
      " uniq_id                 | 605bea296d64c104eabde56a218f002d                                                                                                                                                                                                                                                                                                                                                                                                                                                                                                                                                                                          \n",
      " crawl_timestamp         | 2016-01-07 06:04:02 +0000                                                                                                                                                                                                                                                                                                                                                                                                                                                                                                                                                                                                 \n",
      " product_url             | http://www.flipkart.com/secret-wish-shiny-pink-comfy-women-s-full-coverage-bra/p/itme3wyc4am7faxh?pid=BRAE3WYC8XAGUZ37                                                                                                                                                                                                                                                                                                                                                                                                                                                                                                    \n",
      " product_name            | Secret Wish Shiny Pink Comfy Women's Full Coverage Bra                                                                                                                                                                                                                                                                                                                                                                                                                                                                                                                                                                    \n",
      " product_category_tree   | [\"Clothing >> Women's Clothing >> Lingerie, Sleep & Swimwear >> Bras >> Secret Wish Bras\"]                                                                                                                                                                                                                                                                                                                                                                                                                                                                                                                                \n",
      " pid                     | BRAE3WYC8XAGUZ37                                                                                                                                                                                                                                                                                                                                                                                                                                                                                                                                                                                                          \n",
      " retail_price            | 1198.0                                                                                                                                                                                                                                                                                                                                                                                                                                                                                                                                                                                                                    \n",
      " discounted_price        | 299.0                                                                                                                                                                                                                                                                                                                                                                                                                                                                                                                                                                                                                     \n",
      " image                   | [\"http://img6a.flixcart.com/image/bra/r/g/e/sw032-secret-wish-34b-original-imae3vfgzgzzuv3c.jpeg\", \"http://img5a.flixcart.com/image/bra/r/g/e/sw032-secret-wish-34b-original-imae3vfgzgzzuv3c.jpeg\", \"http://img6a.flixcart.com/image/bra/r/g/e/sw032-secret-wish-34b-original-imae3vfg8zscgfgz.jpeg\", \"http://img5a.flixcart.com/image/bra/r/g/e/sw032-secret-wish-34b-original-imae3vfgdyfh4ehw.jpeg\"]                                                                                                                                                                                                                  \n",
      " is_FK_Advantage_product | false                                                                                                                                                                                                                                                                                                                                                                                                                                                                                                                                                                                                                     \n",
      " description             | Secret Wish Shiny Pink Comfy Women's Full Coverage Bra - Buy Pink Secret Wish Shiny Pink Comfy Women's Full Coverage Bra For Only Rs. 1198 Online in India. Shop Online For Apparels. Huge Collection of Branded Clothes Only at Flipkart.com                                                                                                                                                                                                                                                                                                                                                                             \n",
      " product_rating          | No rating available                                                                                                                                                                                                                                                                                                                                                                                                                                                                                                                                                                                                       \n",
      " overall_rating          | No rating available                                                                                                                                                                                                                                                                                                                                                                                                                                                                                                                                                                                                       \n",
      " brand                   | Pink                                                                                                                                                                                                                                                                                                                                                                                                                                                                                                                                                                                                                      \n",
      " product_specifications  | {\"product_specification\"=>[{\"key\"=>\"Brand Color\", \"value\"=>\"Pink\"}, {\"key\"=>\"color\", \"value\"=>\"Pink\"}, {\"key\"=>\"Ideal For\", \"value\"=>\"Women's\"}, {\"key\"=>\"Wire Support\", \"value\"=>\"Underwire\"}, {\"key\"=>\"Straps\", \"value\"=>\"Regular\"}, {\"key\"=>\"Number of Contents in Sales Package\", \"value\"=>\"Pack of 1\"}, {\"key\"=>\"Cup Type\", \"value\"=>\"Padded Cups\"}, {\"key\"=>\"Fabric\", \"value\"=>\"Blended\"}, {\"key\"=>\"Type\", \"value\"=>\"Full Coverage Bra\"}]}                                                                                                                                                                          \n",
      "-RECORD 4--------------------------------------------------------------------------------------------------------------------------------------------------------------------------------------------------------------------------------------------------------------------------------------------------------------------------------------------------------------------------------------------------------------------------------------------------------------------------------------------------------------------------------------------------------------------------------------------------------------------------------------------\n",
      " uniq_id                 | 6f04be5e2a5077ba9134ae33e3dff658                                                                                                                                                                                                                                                                                                                                                                                                                                                                                                                                                                                          \n",
      " crawl_timestamp         | 2016-01-07 06:04:02 +0000                                                                                                                                                                                                                                                                                                                                                                                                                                                                                                                                                                                                 \n",
      " product_url             | http://www.flipkart.com/zeroradius-black-skin-strapless-women-s-tube-bra/p/itme84gghm3cwmru?pid=BRAE84GGFUDNKESF                                                                                                                                                                                                                                                                                                                                                                                                                                                                                                          \n",
      " product_name            | Zeroradius Black and Skin Strapless Women's Tube Bra                                                                                                                                                                                                                                                                                                                                                                                                                                                                                                                                                                      \n",
      " product_category_tree   | [\"Clothing >> Women's Clothing >> Lingerie, Sleep & Swimwear >> Bras >> Zeroradius Bras\"]                                                                                                                                                                                                                                                                                                                                                                                                                                                                                                                                 \n",
      " pid                     | BRAE84GGFUDNKESF                                                                                                                                                                                                                                                                                                                                                                                                                                                                                                                                                                                                          \n",
      " retail_price            | 549.0                                                                                                                                                                                                                                                                                                                                                                                                                                                                                                                                                                                                                     \n",
      " discounted_price        | 249.0                                                                                                                                                                                                                                                                                                                                                                                                                                                                                                                                                                                                                     \n",
      " image                   | [\"http://img6a.flixcart.com/image/bra/e/s/f/tube-blk-beige-zero-radius-free-original-imae8244yzgsfz5z.jpeg\", \"http://img5a.flixcart.com/image/bra/e/s/f/tube-blk-beige-zero-radius-free-original-imae8244yzgsfz5z.jpeg\", \"http://img6a.flixcart.com/image/bra/e/s/f/tube-blk-beige-zero-radius-free-original-imae8244hfc5uwzf.jpeg\", \"http://img6a.flixcart.com/image/bra/e/s/f/tube-blk-beige-zero-radius-free-original-imae824458dn2de3.jpeg\", \"http://img6a.flixcart.com/image/bra/e/s/f/tube-blk-beige-zero-radius-free-original-imae8244ekggxyg8.jpeg\"]                                                              \n",
      " is_FK_Advantage_product | false                                                                                                                                                                                                                                                                                                                                                                                                                                                                                                                                                                                                                     \n",
      " description             | Zeroradius Black and Skin Strapless Women's Tube Bra - Buy Black, Beige Zeroradius Black and Skin Strapless Women's Tube Bra For Only Rs. 549 Online in India. Shop Online For Apparels. Huge Collection of Branded Clothes Only at Flipkart.com                                                                                                                                                                                                                                                                                                                                                                          \n",
      " product_rating          | No rating available                                                                                                                                                                                                                                                                                                                                                                                                                                                                                                                                                                                                       \n",
      " overall_rating          | No rating available                                                                                                                                                                                                                                                                                                                                                                                                                                                                                                                                                                                                       \n",
      " brand                   | Black                                                                                                                                                                                                                                                                                                                                                                                                                                                                                                                                                                                                                     \n",
      " product_specifications  | {\"product_specification\"=>[{\"key\"=>\"Brand Color\", \"value\"=>\"Black, Beige\"}, {\"key\"=>\"color\", \"value\"=>\"Black, Beige\"}, {\"key\"=>\"Ideal For\", \"value\"=>\"Women's\"}, {\"key\"=>\"Occasion\", \"value\"=>\"Party, Lounge Wear, Casual, Festive, Formal\"}, {\"key\"=>\"Wire Support\", \"value\"=>\"Wirefree\"}, {\"key\"=>\"Straps\", \"value\"=>\"Strapless\"}, {\"key\"=>\"Number of Contents in Sales Package\", \"value\"=>\"Pack of 2\"}, {\"key\"=>\"Cup Type\", \"value\"=>\"Non-Padded\"}, {\"key\"=>\"Fabric\", \"value\"=>\"Cotton, Spandex\"}, {\"key\"=>\"Type\", \"value\"=>\"Tube Bra\"}, {\"key\"=>\"Series\", \"value\"=>\"Women's\"}, {\"key\"=>\"Back\", \"value\"=>\"Backless\"}]} \n",
      "only showing top 5 rows\n",
      "\n"
     ]
    }
   ],
   "source": [
    "df.sample(fraction=0.0025, seed=99).show(5, vertical=True, truncate=False)"
   ]
  },
  {
   "cell_type": "markdown",
   "id": "5e469a63-0448-4945-84e7-e10ff71da228",
   "metadata": {},
   "source": [
    "#### Observation\n",
    "\n",
    "- uniq_id - is a uuid type field which makes a good candidate for this table's primary key\n",
    "- crawl_timestamp - is a UTC timestamp field which spans from December 2015 to June 2016 (fact_product_review)\n",
    "- product_url - the webscrape url which is a metadata or a housekeeping field. (dim_web_metadata)\n",
    "- product_name - the name of the product, (dim_product)\n",
    "- pid - the product ID, (dim_product)\n",
    "- retail_price - the selling retail price, (fact_product_review)\n",
    "- discounted_price - the discounted price, (fact_product_review)\n",
    "- is_FK_Advantage_product - whether or not the product has a flipkart fast and safe delivery guarantee (fact_product_performance).\n",
    "- description - the product's description which is a text field containing escape characters like \\n, \\t, and \\r (dim_product)\n",
    "- product_rating - the product rating specific to the product page. Most products does not have a rating or has a value of No rating available (fact_product_review)\n",
    "- overall_rating - the product rating specific to the seller. Most products does not have a rating or has a value of No rating available (fact_product_review)\n",
    "- brand - the product's brand or manufacturer (dim_brand)\n",
    "- product_category_tree - is an array that contains single string value of the category hierarchy which the product belongs into, slice into 3 different hierarchies (dim_main_category, dim_category, dim_sub_category)\n",
    "- image - is an array of image urls associated to the product (dim_product)\n",
    "- product_specifications - is a json like field which consists of feature or metadata pertinent to the product ie. Type, Color, Width, Height, Weight, etc. (dim_specification)\n"
   ]
  },
  {
   "cell_type": "markdown",
   "id": "9f2d6313-81b2-4dc6-8d2c-fc72d39c52f7",
   "metadata": {},
   "source": [
    "### Inspecting Values of Complex Data Typed Fields\n",
    "\n",
    "- As observed, there are 3 fields `(product_category_tree, image, product_specifications)` that has a complex data type.\n",
    "- I decided to not focus on the deep dive for the image field, I think it's worth investigating if ever there are use cases for machine learning modeling. "
   ]
  },
  {
   "cell_type": "markdown",
   "id": "57caff08-af2b-4ce9-8e46-7e41cb4b3c90",
   "metadata": {},
   "source": [
    "#### Inspecting The product_specifications Field"
   ]
  },
  {
   "cell_type": "code",
   "execution_count": 15,
   "id": "e1289c6b-a16f-4b8d-8dfa-6871240d3b98",
   "metadata": {},
   "outputs": [],
   "source": [
    "product_specs_df = df.withColumn(\"product_specifications\", F.regexp_replace(df.product_specifications, \"=>\", \":\")) \\\n",
    "    .withColumn(\"product_specifications\", F.get_json_object(\"product_specifications\", \"$.product_specification\")) \\\n",
    "    .withColumn(\"product_specifications\", F.from_json(F.col(\"product_specifications\"), ArrayType(elementType=dict_specs_schema))) \\\n",
    "    .withColumn(\"product_specifications\", F.explode(F.col(\"product_specifications\"))) \\\n",
    "    .withColumn(\"product_specifications_key\", F.col(\"product_specifications\").getField(\"key\")) \\\n",
    "    .withColumn(\"product_specifications_value\", F.col(\"product_specifications\").getField(\"value\")) \\\n",
    "    .drop(\"product_specifications\")\n",
    "\n",
    "product_specs_df.createOrReplaceTempView(\"product_specs\")"
   ]
  },
  {
   "cell_type": "code",
   "execution_count": 16,
   "id": "d149628f-ad53-488b-8298-ccaf85c3c372",
   "metadata": {},
   "outputs": [
    {
     "name": "stdout",
     "output_type": "stream",
     "text": [
      "+-----------------------------------+---------------------------------------------------------------------------------------------------------------------------------------------------------------------------------------------+\n",
      "|product_specifications_key         |product_specifications_value                                                                                                                                                                 |\n",
      "+-----------------------------------+---------------------------------------------------------------------------------------------------------------------------------------------------------------------------------------------+\n",
      "|Number of Contents in Sales Package|Pack of 3                                                                                                                                                                                    |\n",
      "|Fabric                             |Cotton Lycra                                                                                                                                                                                 |\n",
      "|Type                               |Cycling Shorts                                                                                                                                                                               |\n",
      "|Pattern                            |Solid                                                                                                                                                                                        |\n",
      "|Ideal For                          |Women's                                                                                                                                                                                      |\n",
      "|null                               |Gentle Machine Wash in Lukewarm Water, Do Not Bleach                                                                                                                                         |\n",
      "|Style Code                         |ALTHT_3P_21                                                                                                                                                                                  |\n",
      "|null                               |3 shorts                                                                                                                                                                                     |\n",
      "|Installation & Demo Details        |Installation and demo for this product is done free of cost as part of this purchase. Our service partner will visit your location within 72 business hours from the delivery of the product.|\n",
      "|null                               |1 Sofa Bed                                                                                                                                                                                   |\n",
      "|Brand                              |FabHomeDecor                                                                                                                                                                                 |\n",
      "|Mattress Included                  |No                                                                                                                                                                                           |\n",
      "|Delivery Condition                 |Knock Down                                                                                                                                                                                   |\n",
      "|Storage Included                   |No                                                                                                                                                                                           |\n",
      "|Mechanism Type                     |Pull Out                                                                                                                                                                                     |\n",
      "|Type                               |Sofa Bed                                                                                                                                                                                     |\n",
      "|Style                              |Contemporary and Modern                                                                                                                                                                      |\n",
      "|Filling Material                   |Microfiber                                                                                                                                                                                   |\n",
      "|Seating Capacity                   |3 Seater                                                                                                                                                                                     |\n",
      "|Upholstery Type                    |NA                                                                                                                                                                                           |\n",
      "+-----------------------------------+---------------------------------------------------------------------------------------------------------------------------------------------------------------------------------------------+\n",
      "only showing top 20 rows\n",
      "\n"
     ]
    }
   ],
   "source": [
    "spark.sql(\"\"\"\n",
    "    SELECT product_specifications_key\n",
    "          ,product_specifications_value \n",
    "    FROM product_specs;\n",
    "\"\"\"\n",
    ").show(truncate=False)"
   ]
  },
  {
   "cell_type": "code",
   "execution_count": 17,
   "id": "b98f380b-a637-401d-a283-bb4d08de31ef",
   "metadata": {},
   "outputs": [
    {
     "name": "stdout",
     "output_type": "stream",
     "text": [
      "+----------+-------------+---------+\n",
      "|total_keys|distinct_keys|null_keys|\n",
      "+----------+-------------+---------+\n",
      "|    237411|         2149|    11920|\n",
      "+----------+-------------+---------+\n",
      "\n"
     ]
    }
   ],
   "source": [
    "spark.sql(\"\"\"\n",
    "    SELECT COUNT(1) AS total_keys\n",
    "          ,COUNT(DISTINCT product_specifications_key) AS distinct_keys\n",
    "          ,COUNT(IF(product_specifications_key IS NULL, 1, NULL)) AS null_keys \n",
    "    FROM product_specs;\n",
    "\"\"\"\n",
    ").show()"
   ]
  },
  {
   "cell_type": "code",
   "execution_count": 18,
   "id": "5bb9b188-3b8a-46ad-94be-3ad972f42b78",
   "metadata": {},
   "outputs": [
    {
     "name": "stdout",
     "output_type": "stream",
     "text": [
      "+-----+-----------------------------------+\n",
      "|cnt  |product_specifications_key         |\n",
      "+-----+-----------------------------------+\n",
      "|13629|Type                               |\n",
      "|13138|Ideal For                          |\n",
      "|9954 |Occasion                           |\n",
      "|9746 |Color                              |\n",
      "|9281 |Brand                              |\n",
      "|7284 |Number of Contents in Sales Package|\n",
      "|6733 |Sales Package                      |\n",
      "|6374 |Model Number                       |\n",
      "|6254 |Pattern                            |\n",
      "|6249 |Fabric                             |\n",
      "|4945 |Pack of                            |\n",
      "|4788 |Model Name                         |\n",
      "|4417 |Material                           |\n",
      "|4382 |Style Code                         |\n",
      "|4242 |Weight                             |\n",
      "|3829 |Sleeve                             |\n",
      "|3523 |Precious/Artificial Jewellery      |\n",
      "|3389 |Base Material                      |\n",
      "|3250 |Width                              |\n",
      "|3005 |Height                             |\n",
      "+-----+-----------------------------------+\n",
      "only showing top 20 rows\n",
      "\n"
     ]
    }
   ],
   "source": [
    "spark.sql(\"\"\"\n",
    "    SELECT COUNT(product_specifications_key) AS cnt\n",
    "          ,product_specifications_key\n",
    "    FROM product_specs\n",
    "    GROUP BY product_specifications_key\n",
    "    ORDER BY cnt DESC;\n",
    "\"\"\"\n",
    ").show(truncate=False)"
   ]
  },
  {
   "cell_type": "markdown",
   "id": "0f59589f-21bc-4574-b8c5-b91cf3da9e6e",
   "metadata": {},
   "source": [
    "#### Observation\n",
    "- After flattening, there are 237,411 key/value pairs in the product_specifications field having 5% null values\n",
    "- There are 2149 distinct keys which I will narrow down and get only the top 6 specifications based on frequency namely: `(Type, Ideal For, Occasion, Color, Brand, Number of Contents in Sales Package)`"
   ]
  },
  {
   "cell_type": "markdown",
   "id": "19b99008-8bfa-46e4-872f-52856d7c5471",
   "metadata": {},
   "source": [
    "#### Inspecting The product_category_tree Field"
   ]
  },
  {
   "cell_type": "code",
   "execution_count": 19,
   "id": "641915a7-34ed-4c5a-8bc7-e9d04bd97c84",
   "metadata": {},
   "outputs": [],
   "source": [
    "product_category_df = (df.withColumn(\"product_category_tree\", F.from_json(F.col(\"product_category_tree\"), ArrayType(elementType=StringType())).getItem(0))\n",
    "                           .withColumn(\"product_category_tree\", F.split(F.col(\"product_category_tree\"), \" >> \"))\n",
    "                           .withColumn(\"product_category_count\", F.size(F.col(\"product_category_tree\")))\n",
    ")\n",
    "\n",
    "product_category_df.createOrReplaceTempView(\"product_category\")"
   ]
  },
  {
   "cell_type": "code",
   "execution_count": 20,
   "id": "47d0e230-a495-444a-8506-011d57359680",
   "metadata": {},
   "outputs": [
    {
     "name": "stdout",
     "output_type": "stream",
     "text": [
      "+---------------------------+\n",
      "|avg(product_category_count)|\n",
      "+---------------------------+\n",
      "|                     4.3492|\n",
      "+---------------------------+\n",
      "\n"
     ]
    }
   ],
   "source": [
    "spark.sql(\"\"\"\n",
    "    SELECT AVG(product_category_count)\n",
    "    FROM product_category\n",
    "\"\"\"\n",
    ").show()"
   ]
  },
  {
   "cell_type": "code",
   "execution_count": 21,
   "id": "3cd90c60-cc88-440a-97be-ac44a23c42cd",
   "metadata": {},
   "outputs": [],
   "source": [
    "product_category_df = product_category_df.withColumn(\"product_category_tree_first_5\", F.slice(F.col(\"product_category_tree\"), start=1, length=5))"
   ]
  },
  {
   "cell_type": "markdown",
   "id": "2b0a9350-9cdf-4f2b-82dd-644dda4f305c",
   "metadata": {},
   "source": [
    "#### Observation\n",
    "- The average depth of each array in the product_category_tree was 4.3, which means 4 to 5 category levels will be a good starting point"
   ]
  }
 ],
 "metadata": {
  "kernelspec": {
   "display_name": "Python 3 (ipykernel)",
   "language": "python",
   "name": "python3"
  },
  "language_info": {
   "codemirror_mode": {
    "name": "ipython",
    "version": 3
   },
   "file_extension": ".py",
   "mimetype": "text/x-python",
   "name": "python",
   "nbconvert_exporter": "python",
   "pygments_lexer": "ipython3",
   "version": "3.11.5"
  }
 },
 "nbformat": 4,
 "nbformat_minor": 5
}
